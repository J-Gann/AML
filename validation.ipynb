{
 "cells": [
  {
   "cell_type": "code",
   "execution_count": null,
   "metadata": {},
   "outputs": [],
   "source": [
    "validate_dataset = AmericanExpressPreprocessedProfileTimeSeriesDataset(\"./amex_preprocessed.npz\", test=True)\n",
    "validate_dataloader = DataLoader(validate_dataset, batch_size=batch_size, shuffle=True)"
   ]
  },
  {
   "cell_type": "code",
   "execution_count": null,
   "metadata": {},
   "outputs": [],
   "source": [
    "def validate_loop(dataloader, model, loss_fn):\n",
    "    size = len(dataloader.dataset)\n",
    "    num_batches = len(dataloader)\n",
    "    test_loss, correct = 0, 0\n",
    "\n",
    "    f1 = torchmetrics.F1Score().to(device)\n",
    "    precision = torchmetrics.Precision(num_classes=2).to(device)\n",
    "    recall = torchmetrics.Recall(num_classes=2).to(device)\n",
    "\n",
    "    all_preds = np.array([])\n",
    "    all_ys = np.array([])\n",
    "\n",
    "    with torch.no_grad():\n",
    "        for X, y in dataloader:\n",
    "            pred = model(X)\n",
    "            test_loss += loss_fn(pred, y).item()\n",
    "            all_preds = np.append(all_preds, pred.view(-1).cpu().detach(), axis=0)\n",
    "            all_ys = np.append(all_ys, y.view(-1).cpu().detach(), axis=0)\n",
    "            pred = torch.round(pred)\n",
    "            f1.update(torch.tensor(pred, dtype=torch.int16).view(-1), torch.tensor(y, dtype=torch.int16).view(-1))\n",
    "            precision.update(torch.tensor(pred, dtype=torch.int16).view(-1), torch.tensor(y, dtype=torch.int16).view(-1))\n",
    "            recall.update(torch.tensor(pred, dtype=torch.int16).view(-1), torch.tensor(y, dtype=torch.int16).view(-1))\n",
    "\n",
    "            correct += (pred == y).type(torch.float).sum().item()\n",
    "\n",
    "\n",
    "    test_loss /= num_batches\n",
    "    correct /= size\n",
    "\n",
    "    f1_score = f1.compute()\n",
    "    precision = precision.compute()\n",
    "    recall = recall.compute()\n",
    "\n",
    "    amex = get_amex(all_preds, all_ys)\n",
    "\n",
    "    print(f\"Test Error: \\n Accuracy: {(100*correct):>0.1f}%, Avg loss: {test_loss:>8f} \\n\")\n",
    "    print(\"precision\", precision)\n",
    "    print(\"recall\", recall)\n",
    "    print(\"amex\", amex)\n",
    "    print(\"f1\", f1_score)"
   ]
  },
  {
   "cell_type": "code",
   "execution_count": null,
   "metadata": {},
   "outputs": [],
   "source": [
    "validate_loop(validate_dataloader, model, loss_fn)"
   ]
  }
 ],
 "metadata": {
  "kernelspec": {
   "display_name": "Python 3.8.10 64-bit",
   "language": "python",
   "name": "python3"
  },
  "language_info": {
   "name": "python",
   "version": "3.8.10"
  },
  "orig_nbformat": 4,
  "vscode": {
   "interpreter": {
    "hash": "916dbcbb3f70747c44a77c7bcd40155683ae19c65e1c03b4aa3499c5328201f1"
   }
  }
 },
 "nbformat": 4,
 "nbformat_minor": 2
}

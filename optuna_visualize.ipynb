{
 "cells": [
  {
   "cell_type": "code",
   "execution_count": 10,
   "metadata": {},
   "outputs": [],
   "source": [
    "import optuna"
   ]
  },
  {
   "cell_type": "code",
   "execution_count": 11,
   "metadata": {},
   "outputs": [
    {
     "name": "stderr",
     "output_type": "stream",
     "text": [
      "\u001b[32m[I 2022-09-16 04:27:01,523]\u001b[0m Using an existing study with name 'optuna-study-convolution' instead of creating a new one.\u001b[0m\n"
     ]
    }
   ],
   "source": [
    "study = optuna.create_study(study_name=\"optuna-study-convolution\", direction=\"minimize\", storage='sqlite:///optuna-study.db', load_if_exists=True)"
   ]
  },
  {
   "cell_type": "code",
   "execution_count": 12,
   "metadata": {},
   "outputs": [
    {
     "data": {
      "application/vnd.plotly.v1+json": {
       "config": {
        "plotlyServerURL": "https://plot.ly"
       },
       "data": [
        {
         "mode": "markers",
         "name": "Objective Value",
         "type": "scatter",
         "x": [
          0,
          1,
          2,
          3,
          4,
          5,
          6,
          7,
          10,
          14,
          15,
          16,
          17,
          19,
          20,
          21,
          22,
          23,
          24,
          25,
          27,
          28,
          29,
          31,
          32,
          33,
          34,
          35,
          36,
          42,
          43,
          44,
          45,
          47,
          48,
          51,
          52,
          53,
          55,
          59,
          62,
          64,
          65,
          67,
          68,
          71,
          72,
          73,
          76,
          79,
          80,
          81,
          82,
          85,
          86,
          88,
          91,
          92,
          93,
          94,
          95,
          98,
          99
         ],
         "y": [
          0.4446168430149555,
          0.730725499716672,
          0.5117237459099482,
          0.2676942315366533,
          0.6723012216389179,
          0.3140707593411207,
          0.33913436957768034,
          0.25604898769121903,
          0.2712962857913226,
          0.29718612822202534,
          0.2873523467116886,
          0.250072470969624,
          0.26273325227555777,
          0.26862444254485046,
          0.26721169985830784,
          0.27242452260993777,
          0.27255570533729734,
          0.27993245515972376,
          0.25754492823034525,
          0.2598910965025425,
          0.26958812959492207,
          0.2840522961183028,
          0.2522690114047792,
          0.24615790943304697,
          0.26900702052646214,
          0.25030556817849475,
          0.25226836072074044,
          0.25380293652415276,
          0.25901587141884697,
          0.26369955187494104,
          0.24597782558865017,
          0.26522068408402527,
          0.2492119800299406,
          0.2733392510563135,
          0.26239403896033764,
          0.26817180758172815,
          0.24963095784187317,
          0.2545858720938365,
          0.24833550055821738,
          0.31482233479619026,
          0.24922352758320895,
          0.2505142201076854,
          0.2533429182238049,
          0.2669638395309448,
          0.26226233773761326,
          0.2519530521498786,
          0.24927696420086753,
          0.26062609627842903,
          0.25837090114752453,
          0.2636747222680312,
          0.26690472662448883,
          0.2553761866357591,
          0.2435563455025355,
          0.250805311732822,
          0.24919878939787546,
          0.24940132598082224,
          0.23998218443658617,
          0.2500247094366286,
          0.250877751244439,
          0.24236836367183262,
          0.2490606294436888,
          0.2508597035299648,
          0.26629439927637577
         ]
        },
        {
         "name": "Best Value",
         "type": "scatter",
         "x": [
          0,
          1,
          2,
          3,
          4,
          5,
          6,
          7,
          10,
          14,
          15,
          16,
          17,
          19,
          20,
          21,
          22,
          23,
          24,
          25,
          27,
          28,
          29,
          31,
          32,
          33,
          34,
          35,
          36,
          42,
          43,
          44,
          45,
          47,
          48,
          51,
          52,
          53,
          55,
          59,
          62,
          64,
          65,
          67,
          68,
          71,
          72,
          73,
          76,
          79,
          80,
          81,
          82,
          85,
          86,
          88,
          91,
          92,
          93,
          94,
          95,
          98,
          99
         ],
         "y": [
          0.4446168430149555,
          0.4446168430149555,
          0.4446168430149555,
          0.2676942315366533,
          0.2676942315366533,
          0.2676942315366533,
          0.2676942315366533,
          0.25604898769121903,
          0.25604898769121903,
          0.25604898769121903,
          0.25604898769121903,
          0.250072470969624,
          0.250072470969624,
          0.250072470969624,
          0.250072470969624,
          0.250072470969624,
          0.250072470969624,
          0.250072470969624,
          0.250072470969624,
          0.250072470969624,
          0.250072470969624,
          0.250072470969624,
          0.250072470969624,
          0.24615790943304697,
          0.24615790943304697,
          0.24615790943304697,
          0.24615790943304697,
          0.24615790943304697,
          0.24615790943304697,
          0.24615790943304697,
          0.24597782558865017,
          0.24597782558865017,
          0.24597782558865017,
          0.24597782558865017,
          0.24597782558865017,
          0.24597782558865017,
          0.24597782558865017,
          0.24597782558865017,
          0.24597782558865017,
          0.24597782558865017,
          0.24597782558865017,
          0.24597782558865017,
          0.24597782558865017,
          0.24597782558865017,
          0.24597782558865017,
          0.24597782558865017,
          0.24597782558865017,
          0.24597782558865017,
          0.24597782558865017,
          0.24597782558865017,
          0.24597782558865017,
          0.24597782558865017,
          0.2435563455025355,
          0.2435563455025355,
          0.2435563455025355,
          0.2435563455025355,
          0.23998218443658617,
          0.23998218443658617,
          0.23998218443658617,
          0.23998218443658617,
          0.23998218443658617,
          0.23998218443658617,
          0.23998218443658617
         ]
        }
       ],
       "layout": {
        "template": {
         "data": {
          "bar": [
           {
            "error_x": {
             "color": "#2a3f5f"
            },
            "error_y": {
             "color": "#2a3f5f"
            },
            "marker": {
             "line": {
              "color": "#E5ECF6",
              "width": 0.5
             },
             "pattern": {
              "fillmode": "overlay",
              "size": 10,
              "solidity": 0.2
             }
            },
            "type": "bar"
           }
          ],
          "barpolar": [
           {
            "marker": {
             "line": {
              "color": "#E5ECF6",
              "width": 0.5
             },
             "pattern": {
              "fillmode": "overlay",
              "size": 10,
              "solidity": 0.2
             }
            },
            "type": "barpolar"
           }
          ],
          "carpet": [
           {
            "aaxis": {
             "endlinecolor": "#2a3f5f",
             "gridcolor": "white",
             "linecolor": "white",
             "minorgridcolor": "white",
             "startlinecolor": "#2a3f5f"
            },
            "baxis": {
             "endlinecolor": "#2a3f5f",
             "gridcolor": "white",
             "linecolor": "white",
             "minorgridcolor": "white",
             "startlinecolor": "#2a3f5f"
            },
            "type": "carpet"
           }
          ],
          "choropleth": [
           {
            "colorbar": {
             "outlinewidth": 0,
             "ticks": ""
            },
            "type": "choropleth"
           }
          ],
          "contour": [
           {
            "colorbar": {
             "outlinewidth": 0,
             "ticks": ""
            },
            "colorscale": [
             [
              0,
              "#0d0887"
             ],
             [
              0.1111111111111111,
              "#46039f"
             ],
             [
              0.2222222222222222,
              "#7201a8"
             ],
             [
              0.3333333333333333,
              "#9c179e"
             ],
             [
              0.4444444444444444,
              "#bd3786"
             ],
             [
              0.5555555555555556,
              "#d8576b"
             ],
             [
              0.6666666666666666,
              "#ed7953"
             ],
             [
              0.7777777777777778,
              "#fb9f3a"
             ],
             [
              0.8888888888888888,
              "#fdca26"
             ],
             [
              1,
              "#f0f921"
             ]
            ],
            "type": "contour"
           }
          ],
          "contourcarpet": [
           {
            "colorbar": {
             "outlinewidth": 0,
             "ticks": ""
            },
            "type": "contourcarpet"
           }
          ],
          "heatmap": [
           {
            "colorbar": {
             "outlinewidth": 0,
             "ticks": ""
            },
            "colorscale": [
             [
              0,
              "#0d0887"
             ],
             [
              0.1111111111111111,
              "#46039f"
             ],
             [
              0.2222222222222222,
              "#7201a8"
             ],
             [
              0.3333333333333333,
              "#9c179e"
             ],
             [
              0.4444444444444444,
              "#bd3786"
             ],
             [
              0.5555555555555556,
              "#d8576b"
             ],
             [
              0.6666666666666666,
              "#ed7953"
             ],
             [
              0.7777777777777778,
              "#fb9f3a"
             ],
             [
              0.8888888888888888,
              "#fdca26"
             ],
             [
              1,
              "#f0f921"
             ]
            ],
            "type": "heatmap"
           }
          ],
          "heatmapgl": [
           {
            "colorbar": {
             "outlinewidth": 0,
             "ticks": ""
            },
            "colorscale": [
             [
              0,
              "#0d0887"
             ],
             [
              0.1111111111111111,
              "#46039f"
             ],
             [
              0.2222222222222222,
              "#7201a8"
             ],
             [
              0.3333333333333333,
              "#9c179e"
             ],
             [
              0.4444444444444444,
              "#bd3786"
             ],
             [
              0.5555555555555556,
              "#d8576b"
             ],
             [
              0.6666666666666666,
              "#ed7953"
             ],
             [
              0.7777777777777778,
              "#fb9f3a"
             ],
             [
              0.8888888888888888,
              "#fdca26"
             ],
             [
              1,
              "#f0f921"
             ]
            ],
            "type": "heatmapgl"
           }
          ],
          "histogram": [
           {
            "marker": {
             "pattern": {
              "fillmode": "overlay",
              "size": 10,
              "solidity": 0.2
             }
            },
            "type": "histogram"
           }
          ],
          "histogram2d": [
           {
            "colorbar": {
             "outlinewidth": 0,
             "ticks": ""
            },
            "colorscale": [
             [
              0,
              "#0d0887"
             ],
             [
              0.1111111111111111,
              "#46039f"
             ],
             [
              0.2222222222222222,
              "#7201a8"
             ],
             [
              0.3333333333333333,
              "#9c179e"
             ],
             [
              0.4444444444444444,
              "#bd3786"
             ],
             [
              0.5555555555555556,
              "#d8576b"
             ],
             [
              0.6666666666666666,
              "#ed7953"
             ],
             [
              0.7777777777777778,
              "#fb9f3a"
             ],
             [
              0.8888888888888888,
              "#fdca26"
             ],
             [
              1,
              "#f0f921"
             ]
            ],
            "type": "histogram2d"
           }
          ],
          "histogram2dcontour": [
           {
            "colorbar": {
             "outlinewidth": 0,
             "ticks": ""
            },
            "colorscale": [
             [
              0,
              "#0d0887"
             ],
             [
              0.1111111111111111,
              "#46039f"
             ],
             [
              0.2222222222222222,
              "#7201a8"
             ],
             [
              0.3333333333333333,
              "#9c179e"
             ],
             [
              0.4444444444444444,
              "#bd3786"
             ],
             [
              0.5555555555555556,
              "#d8576b"
             ],
             [
              0.6666666666666666,
              "#ed7953"
             ],
             [
              0.7777777777777778,
              "#fb9f3a"
             ],
             [
              0.8888888888888888,
              "#fdca26"
             ],
             [
              1,
              "#f0f921"
             ]
            ],
            "type": "histogram2dcontour"
           }
          ],
          "mesh3d": [
           {
            "colorbar": {
             "outlinewidth": 0,
             "ticks": ""
            },
            "type": "mesh3d"
           }
          ],
          "parcoords": [
           {
            "line": {
             "colorbar": {
              "outlinewidth": 0,
              "ticks": ""
             }
            },
            "type": "parcoords"
           }
          ],
          "pie": [
           {
            "automargin": true,
            "type": "pie"
           }
          ],
          "scatter": [
           {
            "fillpattern": {
             "fillmode": "overlay",
             "size": 10,
             "solidity": 0.2
            },
            "type": "scatter"
           }
          ],
          "scatter3d": [
           {
            "line": {
             "colorbar": {
              "outlinewidth": 0,
              "ticks": ""
             }
            },
            "marker": {
             "colorbar": {
              "outlinewidth": 0,
              "ticks": ""
             }
            },
            "type": "scatter3d"
           }
          ],
          "scattercarpet": [
           {
            "marker": {
             "colorbar": {
              "outlinewidth": 0,
              "ticks": ""
             }
            },
            "type": "scattercarpet"
           }
          ],
          "scattergeo": [
           {
            "marker": {
             "colorbar": {
              "outlinewidth": 0,
              "ticks": ""
             }
            },
            "type": "scattergeo"
           }
          ],
          "scattergl": [
           {
            "marker": {
             "colorbar": {
              "outlinewidth": 0,
              "ticks": ""
             }
            },
            "type": "scattergl"
           }
          ],
          "scattermapbox": [
           {
            "marker": {
             "colorbar": {
              "outlinewidth": 0,
              "ticks": ""
             }
            },
            "type": "scattermapbox"
           }
          ],
          "scatterpolar": [
           {
            "marker": {
             "colorbar": {
              "outlinewidth": 0,
              "ticks": ""
             }
            },
            "type": "scatterpolar"
           }
          ],
          "scatterpolargl": [
           {
            "marker": {
             "colorbar": {
              "outlinewidth": 0,
              "ticks": ""
             }
            },
            "type": "scatterpolargl"
           }
          ],
          "scatterternary": [
           {
            "marker": {
             "colorbar": {
              "outlinewidth": 0,
              "ticks": ""
             }
            },
            "type": "scatterternary"
           }
          ],
          "surface": [
           {
            "colorbar": {
             "outlinewidth": 0,
             "ticks": ""
            },
            "colorscale": [
             [
              0,
              "#0d0887"
             ],
             [
              0.1111111111111111,
              "#46039f"
             ],
             [
              0.2222222222222222,
              "#7201a8"
             ],
             [
              0.3333333333333333,
              "#9c179e"
             ],
             [
              0.4444444444444444,
              "#bd3786"
             ],
             [
              0.5555555555555556,
              "#d8576b"
             ],
             [
              0.6666666666666666,
              "#ed7953"
             ],
             [
              0.7777777777777778,
              "#fb9f3a"
             ],
             [
              0.8888888888888888,
              "#fdca26"
             ],
             [
              1,
              "#f0f921"
             ]
            ],
            "type": "surface"
           }
          ],
          "table": [
           {
            "cells": {
             "fill": {
              "color": "#EBF0F8"
             },
             "line": {
              "color": "white"
             }
            },
            "header": {
             "fill": {
              "color": "#C8D4E3"
             },
             "line": {
              "color": "white"
             }
            },
            "type": "table"
           }
          ]
         },
         "layout": {
          "annotationdefaults": {
           "arrowcolor": "#2a3f5f",
           "arrowhead": 0,
           "arrowwidth": 1
          },
          "autotypenumbers": "strict",
          "coloraxis": {
           "colorbar": {
            "outlinewidth": 0,
            "ticks": ""
           }
          },
          "colorscale": {
           "diverging": [
            [
             0,
             "#8e0152"
            ],
            [
             0.1,
             "#c51b7d"
            ],
            [
             0.2,
             "#de77ae"
            ],
            [
             0.3,
             "#f1b6da"
            ],
            [
             0.4,
             "#fde0ef"
            ],
            [
             0.5,
             "#f7f7f7"
            ],
            [
             0.6,
             "#e6f5d0"
            ],
            [
             0.7,
             "#b8e186"
            ],
            [
             0.8,
             "#7fbc41"
            ],
            [
             0.9,
             "#4d9221"
            ],
            [
             1,
             "#276419"
            ]
           ],
           "sequential": [
            [
             0,
             "#0d0887"
            ],
            [
             0.1111111111111111,
             "#46039f"
            ],
            [
             0.2222222222222222,
             "#7201a8"
            ],
            [
             0.3333333333333333,
             "#9c179e"
            ],
            [
             0.4444444444444444,
             "#bd3786"
            ],
            [
             0.5555555555555556,
             "#d8576b"
            ],
            [
             0.6666666666666666,
             "#ed7953"
            ],
            [
             0.7777777777777778,
             "#fb9f3a"
            ],
            [
             0.8888888888888888,
             "#fdca26"
            ],
            [
             1,
             "#f0f921"
            ]
           ],
           "sequentialminus": [
            [
             0,
             "#0d0887"
            ],
            [
             0.1111111111111111,
             "#46039f"
            ],
            [
             0.2222222222222222,
             "#7201a8"
            ],
            [
             0.3333333333333333,
             "#9c179e"
            ],
            [
             0.4444444444444444,
             "#bd3786"
            ],
            [
             0.5555555555555556,
             "#d8576b"
            ],
            [
             0.6666666666666666,
             "#ed7953"
            ],
            [
             0.7777777777777778,
             "#fb9f3a"
            ],
            [
             0.8888888888888888,
             "#fdca26"
            ],
            [
             1,
             "#f0f921"
            ]
           ]
          },
          "colorway": [
           "#636efa",
           "#EF553B",
           "#00cc96",
           "#ab63fa",
           "#FFA15A",
           "#19d3f3",
           "#FF6692",
           "#B6E880",
           "#FF97FF",
           "#FECB52"
          ],
          "font": {
           "color": "#2a3f5f"
          },
          "geo": {
           "bgcolor": "white",
           "lakecolor": "white",
           "landcolor": "#E5ECF6",
           "showlakes": true,
           "showland": true,
           "subunitcolor": "white"
          },
          "hoverlabel": {
           "align": "left"
          },
          "hovermode": "closest",
          "mapbox": {
           "style": "light"
          },
          "paper_bgcolor": "white",
          "plot_bgcolor": "#E5ECF6",
          "polar": {
           "angularaxis": {
            "gridcolor": "white",
            "linecolor": "white",
            "ticks": ""
           },
           "bgcolor": "#E5ECF6",
           "radialaxis": {
            "gridcolor": "white",
            "linecolor": "white",
            "ticks": ""
           }
          },
          "scene": {
           "xaxis": {
            "backgroundcolor": "#E5ECF6",
            "gridcolor": "white",
            "gridwidth": 2,
            "linecolor": "white",
            "showbackground": true,
            "ticks": "",
            "zerolinecolor": "white"
           },
           "yaxis": {
            "backgroundcolor": "#E5ECF6",
            "gridcolor": "white",
            "gridwidth": 2,
            "linecolor": "white",
            "showbackground": true,
            "ticks": "",
            "zerolinecolor": "white"
           },
           "zaxis": {
            "backgroundcolor": "#E5ECF6",
            "gridcolor": "white",
            "gridwidth": 2,
            "linecolor": "white",
            "showbackground": true,
            "ticks": "",
            "zerolinecolor": "white"
           }
          },
          "shapedefaults": {
           "line": {
            "color": "#2a3f5f"
           }
          },
          "ternary": {
           "aaxis": {
            "gridcolor": "white",
            "linecolor": "white",
            "ticks": ""
           },
           "baxis": {
            "gridcolor": "white",
            "linecolor": "white",
            "ticks": ""
           },
           "bgcolor": "#E5ECF6",
           "caxis": {
            "gridcolor": "white",
            "linecolor": "white",
            "ticks": ""
           }
          },
          "title": {
           "x": 0.05
          },
          "xaxis": {
           "automargin": true,
           "gridcolor": "white",
           "linecolor": "white",
           "ticks": "",
           "title": {
            "standoff": 15
           },
           "zerolinecolor": "white",
           "zerolinewidth": 2
          },
          "yaxis": {
           "automargin": true,
           "gridcolor": "white",
           "linecolor": "white",
           "ticks": "",
           "title": {
            "standoff": 15
           },
           "zerolinecolor": "white",
           "zerolinewidth": 2
          }
         }
        },
        "title": {
         "text": "Optimization History Plot"
        },
        "xaxis": {
         "title": {
          "text": "Trial"
         }
        },
        "yaxis": {
         "title": {
          "text": "Objective Value"
         }
        }
       }
      },
      "text/html": [
       "<div>                            <div id=\"7d919bcc-e743-4acb-8ea6-aead713da6a7\" class=\"plotly-graph-div\" style=\"height:525px; width:100%;\"></div>            <script type=\"text/javascript\">                require([\"plotly\"], function(Plotly) {                    window.PLOTLYENV=window.PLOTLYENV || {};                                    if (document.getElementById(\"7d919bcc-e743-4acb-8ea6-aead713da6a7\")) {                    Plotly.newPlot(                        \"7d919bcc-e743-4acb-8ea6-aead713da6a7\",                        [{\"mode\":\"markers\",\"name\":\"Objective Value\",\"x\":[0,1,2,3,4,5,6,7,10,14,15,16,17,19,20,21,22,23,24,25,27,28,29,31,32,33,34,35,36,42,43,44,45,47,48,51,52,53,55,59,62,64,65,67,68,71,72,73,76,79,80,81,82,85,86,88,91,92,93,94,95,98,99],\"y\":[0.4446168430149555,0.730725499716672,0.5117237459099482,0.2676942315366533,0.6723012216389179,0.3140707593411207,0.33913436957768034,0.25604898769121903,0.2712962857913226,0.29718612822202534,0.2873523467116886,0.250072470969624,0.26273325227555777,0.26862444254485046,0.26721169985830784,0.27242452260993777,0.27255570533729734,0.27993245515972376,0.25754492823034525,0.2598910965025425,0.26958812959492207,0.2840522961183028,0.2522690114047792,0.24615790943304697,0.26900702052646214,0.25030556817849475,0.25226836072074044,0.25380293652415276,0.25901587141884697,0.26369955187494104,0.24597782558865017,0.26522068408402527,0.2492119800299406,0.2733392510563135,0.26239403896033764,0.26817180758172815,0.24963095784187317,0.2545858720938365,0.24833550055821738,0.31482233479619026,0.24922352758320895,0.2505142201076854,0.2533429182238049,0.2669638395309448,0.26226233773761326,0.2519530521498786,0.24927696420086753,0.26062609627842903,0.25837090114752453,0.2636747222680312,0.26690472662448883,0.2553761866357591,0.2435563455025355,0.250805311732822,0.24919878939787546,0.24940132598082224,0.23998218443658617,0.2500247094366286,0.250877751244439,0.24236836367183262,0.2490606294436888,0.2508597035299648,0.26629439927637577],\"type\":\"scatter\"},{\"name\":\"Best Value\",\"x\":[0,1,2,3,4,5,6,7,10,14,15,16,17,19,20,21,22,23,24,25,27,28,29,31,32,33,34,35,36,42,43,44,45,47,48,51,52,53,55,59,62,64,65,67,68,71,72,73,76,79,80,81,82,85,86,88,91,92,93,94,95,98,99],\"y\":[0.4446168430149555,0.4446168430149555,0.4446168430149555,0.2676942315366533,0.2676942315366533,0.2676942315366533,0.2676942315366533,0.25604898769121903,0.25604898769121903,0.25604898769121903,0.25604898769121903,0.250072470969624,0.250072470969624,0.250072470969624,0.250072470969624,0.250072470969624,0.250072470969624,0.250072470969624,0.250072470969624,0.250072470969624,0.250072470969624,0.250072470969624,0.250072470969624,0.24615790943304697,0.24615790943304697,0.24615790943304697,0.24615790943304697,0.24615790943304697,0.24615790943304697,0.24615790943304697,0.24597782558865017,0.24597782558865017,0.24597782558865017,0.24597782558865017,0.24597782558865017,0.24597782558865017,0.24597782558865017,0.24597782558865017,0.24597782558865017,0.24597782558865017,0.24597782558865017,0.24597782558865017,0.24597782558865017,0.24597782558865017,0.24597782558865017,0.24597782558865017,0.24597782558865017,0.24597782558865017,0.24597782558865017,0.24597782558865017,0.24597782558865017,0.24597782558865017,0.2435563455025355,0.2435563455025355,0.2435563455025355,0.2435563455025355,0.23998218443658617,0.23998218443658617,0.23998218443658617,0.23998218443658617,0.23998218443658617,0.23998218443658617,0.23998218443658617],\"type\":\"scatter\"}],                        {\"title\":{\"text\":\"Optimization History Plot\"},\"xaxis\":{\"title\":{\"text\":\"Trial\"}},\"yaxis\":{\"title\":{\"text\":\"Objective Value\"}},\"template\":{\"data\":{\"histogram2dcontour\":[{\"type\":\"histogram2dcontour\",\"colorbar\":{\"outlinewidth\":0,\"ticks\":\"\"},\"colorscale\":[[0.0,\"#0d0887\"],[0.1111111111111111,\"#46039f\"],[0.2222222222222222,\"#7201a8\"],[0.3333333333333333,\"#9c179e\"],[0.4444444444444444,\"#bd3786\"],[0.5555555555555556,\"#d8576b\"],[0.6666666666666666,\"#ed7953\"],[0.7777777777777778,\"#fb9f3a\"],[0.8888888888888888,\"#fdca26\"],[1.0,\"#f0f921\"]]}],\"choropleth\":[{\"type\":\"choropleth\",\"colorbar\":{\"outlinewidth\":0,\"ticks\":\"\"}}],\"histogram2d\":[{\"type\":\"histogram2d\",\"colorbar\":{\"outlinewidth\":0,\"ticks\":\"\"},\"colorscale\":[[0.0,\"#0d0887\"],[0.1111111111111111,\"#46039f\"],[0.2222222222222222,\"#7201a8\"],[0.3333333333333333,\"#9c179e\"],[0.4444444444444444,\"#bd3786\"],[0.5555555555555556,\"#d8576b\"],[0.6666666666666666,\"#ed7953\"],[0.7777777777777778,\"#fb9f3a\"],[0.8888888888888888,\"#fdca26\"],[1.0,\"#f0f921\"]]}],\"heatmap\":[{\"type\":\"heatmap\",\"colorbar\":{\"outlinewidth\":0,\"ticks\":\"\"},\"colorscale\":[[0.0,\"#0d0887\"],[0.1111111111111111,\"#46039f\"],[0.2222222222222222,\"#7201a8\"],[0.3333333333333333,\"#9c179e\"],[0.4444444444444444,\"#bd3786\"],[0.5555555555555556,\"#d8576b\"],[0.6666666666666666,\"#ed7953\"],[0.7777777777777778,\"#fb9f3a\"],[0.8888888888888888,\"#fdca26\"],[1.0,\"#f0f921\"]]}],\"heatmapgl\":[{\"type\":\"heatmapgl\",\"colorbar\":{\"outlinewidth\":0,\"ticks\":\"\"},\"colorscale\":[[0.0,\"#0d0887\"],[0.1111111111111111,\"#46039f\"],[0.2222222222222222,\"#7201a8\"],[0.3333333333333333,\"#9c179e\"],[0.4444444444444444,\"#bd3786\"],[0.5555555555555556,\"#d8576b\"],[0.6666666666666666,\"#ed7953\"],[0.7777777777777778,\"#fb9f3a\"],[0.8888888888888888,\"#fdca26\"],[1.0,\"#f0f921\"]]}],\"contourcarpet\":[{\"type\":\"contourcarpet\",\"colorbar\":{\"outlinewidth\":0,\"ticks\":\"\"}}],\"contour\":[{\"type\":\"contour\",\"colorbar\":{\"outlinewidth\":0,\"ticks\":\"\"},\"colorscale\":[[0.0,\"#0d0887\"],[0.1111111111111111,\"#46039f\"],[0.2222222222222222,\"#7201a8\"],[0.3333333333333333,\"#9c179e\"],[0.4444444444444444,\"#bd3786\"],[0.5555555555555556,\"#d8576b\"],[0.6666666666666666,\"#ed7953\"],[0.7777777777777778,\"#fb9f3a\"],[0.8888888888888888,\"#fdca26\"],[1.0,\"#f0f921\"]]}],\"surface\":[{\"type\":\"surface\",\"colorbar\":{\"outlinewidth\":0,\"ticks\":\"\"},\"colorscale\":[[0.0,\"#0d0887\"],[0.1111111111111111,\"#46039f\"],[0.2222222222222222,\"#7201a8\"],[0.3333333333333333,\"#9c179e\"],[0.4444444444444444,\"#bd3786\"],[0.5555555555555556,\"#d8576b\"],[0.6666666666666666,\"#ed7953\"],[0.7777777777777778,\"#fb9f3a\"],[0.8888888888888888,\"#fdca26\"],[1.0,\"#f0f921\"]]}],\"mesh3d\":[{\"type\":\"mesh3d\",\"colorbar\":{\"outlinewidth\":0,\"ticks\":\"\"}}],\"scatter\":[{\"fillpattern\":{\"fillmode\":\"overlay\",\"size\":10,\"solidity\":0.2},\"type\":\"scatter\"}],\"parcoords\":[{\"type\":\"parcoords\",\"line\":{\"colorbar\":{\"outlinewidth\":0,\"ticks\":\"\"}}}],\"scatterpolargl\":[{\"type\":\"scatterpolargl\",\"marker\":{\"colorbar\":{\"outlinewidth\":0,\"ticks\":\"\"}}}],\"bar\":[{\"error_x\":{\"color\":\"#2a3f5f\"},\"error_y\":{\"color\":\"#2a3f5f\"},\"marker\":{\"line\":{\"color\":\"#E5ECF6\",\"width\":0.5},\"pattern\":{\"fillmode\":\"overlay\",\"size\":10,\"solidity\":0.2}},\"type\":\"bar\"}],\"scattergeo\":[{\"type\":\"scattergeo\",\"marker\":{\"colorbar\":{\"outlinewidth\":0,\"ticks\":\"\"}}}],\"scatterpolar\":[{\"type\":\"scatterpolar\",\"marker\":{\"colorbar\":{\"outlinewidth\":0,\"ticks\":\"\"}}}],\"histogram\":[{\"marker\":{\"pattern\":{\"fillmode\":\"overlay\",\"size\":10,\"solidity\":0.2}},\"type\":\"histogram\"}],\"scattergl\":[{\"type\":\"scattergl\",\"marker\":{\"colorbar\":{\"outlinewidth\":0,\"ticks\":\"\"}}}],\"scatter3d\":[{\"type\":\"scatter3d\",\"line\":{\"colorbar\":{\"outlinewidth\":0,\"ticks\":\"\"}},\"marker\":{\"colorbar\":{\"outlinewidth\":0,\"ticks\":\"\"}}}],\"scattermapbox\":[{\"type\":\"scattermapbox\",\"marker\":{\"colorbar\":{\"outlinewidth\":0,\"ticks\":\"\"}}}],\"scatterternary\":[{\"type\":\"scatterternary\",\"marker\":{\"colorbar\":{\"outlinewidth\":0,\"ticks\":\"\"}}}],\"scattercarpet\":[{\"type\":\"scattercarpet\",\"marker\":{\"colorbar\":{\"outlinewidth\":0,\"ticks\":\"\"}}}],\"carpet\":[{\"aaxis\":{\"endlinecolor\":\"#2a3f5f\",\"gridcolor\":\"white\",\"linecolor\":\"white\",\"minorgridcolor\":\"white\",\"startlinecolor\":\"#2a3f5f\"},\"baxis\":{\"endlinecolor\":\"#2a3f5f\",\"gridcolor\":\"white\",\"linecolor\":\"white\",\"minorgridcolor\":\"white\",\"startlinecolor\":\"#2a3f5f\"},\"type\":\"carpet\"}],\"table\":[{\"cells\":{\"fill\":{\"color\":\"#EBF0F8\"},\"line\":{\"color\":\"white\"}},\"header\":{\"fill\":{\"color\":\"#C8D4E3\"},\"line\":{\"color\":\"white\"}},\"type\":\"table\"}],\"barpolar\":[{\"marker\":{\"line\":{\"color\":\"#E5ECF6\",\"width\":0.5},\"pattern\":{\"fillmode\":\"overlay\",\"size\":10,\"solidity\":0.2}},\"type\":\"barpolar\"}],\"pie\":[{\"automargin\":true,\"type\":\"pie\"}]},\"layout\":{\"autotypenumbers\":\"strict\",\"colorway\":[\"#636efa\",\"#EF553B\",\"#00cc96\",\"#ab63fa\",\"#FFA15A\",\"#19d3f3\",\"#FF6692\",\"#B6E880\",\"#FF97FF\",\"#FECB52\"],\"font\":{\"color\":\"#2a3f5f\"},\"hovermode\":\"closest\",\"hoverlabel\":{\"align\":\"left\"},\"paper_bgcolor\":\"white\",\"plot_bgcolor\":\"#E5ECF6\",\"polar\":{\"bgcolor\":\"#E5ECF6\",\"angularaxis\":{\"gridcolor\":\"white\",\"linecolor\":\"white\",\"ticks\":\"\"},\"radialaxis\":{\"gridcolor\":\"white\",\"linecolor\":\"white\",\"ticks\":\"\"}},\"ternary\":{\"bgcolor\":\"#E5ECF6\",\"aaxis\":{\"gridcolor\":\"white\",\"linecolor\":\"white\",\"ticks\":\"\"},\"baxis\":{\"gridcolor\":\"white\",\"linecolor\":\"white\",\"ticks\":\"\"},\"caxis\":{\"gridcolor\":\"white\",\"linecolor\":\"white\",\"ticks\":\"\"}},\"coloraxis\":{\"colorbar\":{\"outlinewidth\":0,\"ticks\":\"\"}},\"colorscale\":{\"sequential\":[[0.0,\"#0d0887\"],[0.1111111111111111,\"#46039f\"],[0.2222222222222222,\"#7201a8\"],[0.3333333333333333,\"#9c179e\"],[0.4444444444444444,\"#bd3786\"],[0.5555555555555556,\"#d8576b\"],[0.6666666666666666,\"#ed7953\"],[0.7777777777777778,\"#fb9f3a\"],[0.8888888888888888,\"#fdca26\"],[1.0,\"#f0f921\"]],\"sequentialminus\":[[0.0,\"#0d0887\"],[0.1111111111111111,\"#46039f\"],[0.2222222222222222,\"#7201a8\"],[0.3333333333333333,\"#9c179e\"],[0.4444444444444444,\"#bd3786\"],[0.5555555555555556,\"#d8576b\"],[0.6666666666666666,\"#ed7953\"],[0.7777777777777778,\"#fb9f3a\"],[0.8888888888888888,\"#fdca26\"],[1.0,\"#f0f921\"]],\"diverging\":[[0,\"#8e0152\"],[0.1,\"#c51b7d\"],[0.2,\"#de77ae\"],[0.3,\"#f1b6da\"],[0.4,\"#fde0ef\"],[0.5,\"#f7f7f7\"],[0.6,\"#e6f5d0\"],[0.7,\"#b8e186\"],[0.8,\"#7fbc41\"],[0.9,\"#4d9221\"],[1,\"#276419\"]]},\"xaxis\":{\"gridcolor\":\"white\",\"linecolor\":\"white\",\"ticks\":\"\",\"title\":{\"standoff\":15},\"zerolinecolor\":\"white\",\"automargin\":true,\"zerolinewidth\":2},\"yaxis\":{\"gridcolor\":\"white\",\"linecolor\":\"white\",\"ticks\":\"\",\"title\":{\"standoff\":15},\"zerolinecolor\":\"white\",\"automargin\":true,\"zerolinewidth\":2},\"scene\":{\"xaxis\":{\"backgroundcolor\":\"#E5ECF6\",\"gridcolor\":\"white\",\"linecolor\":\"white\",\"showbackground\":true,\"ticks\":\"\",\"zerolinecolor\":\"white\",\"gridwidth\":2},\"yaxis\":{\"backgroundcolor\":\"#E5ECF6\",\"gridcolor\":\"white\",\"linecolor\":\"white\",\"showbackground\":true,\"ticks\":\"\",\"zerolinecolor\":\"white\",\"gridwidth\":2},\"zaxis\":{\"backgroundcolor\":\"#E5ECF6\",\"gridcolor\":\"white\",\"linecolor\":\"white\",\"showbackground\":true,\"ticks\":\"\",\"zerolinecolor\":\"white\",\"gridwidth\":2}},\"shapedefaults\":{\"line\":{\"color\":\"#2a3f5f\"}},\"annotationdefaults\":{\"arrowcolor\":\"#2a3f5f\",\"arrowhead\":0,\"arrowwidth\":1},\"geo\":{\"bgcolor\":\"white\",\"landcolor\":\"#E5ECF6\",\"subunitcolor\":\"white\",\"showland\":true,\"showlakes\":true,\"lakecolor\":\"white\"},\"title\":{\"x\":0.05},\"mapbox\":{\"style\":\"light\"}}}},                        {\"responsive\": true}                    ).then(function(){\n",
       "                            \n",
       "var gd = document.getElementById('7d919bcc-e743-4acb-8ea6-aead713da6a7');\n",
       "var x = new MutationObserver(function (mutations, observer) {{\n",
       "        var display = window.getComputedStyle(gd).display;\n",
       "        if (!display || display === 'none') {{\n",
       "            console.log([gd, 'removed!']);\n",
       "            Plotly.purge(gd);\n",
       "            observer.disconnect();\n",
       "        }}\n",
       "}});\n",
       "\n",
       "// Listen for the removal of the full notebook cells\n",
       "var notebookContainer = gd.closest('#notebook-container');\n",
       "if (notebookContainer) {{\n",
       "    x.observe(notebookContainer, {childList: true});\n",
       "}}\n",
       "\n",
       "// Listen for the clearing of the current output cell\n",
       "var outputEl = gd.closest('.output');\n",
       "if (outputEl) {{\n",
       "    x.observe(outputEl, {childList: true});\n",
       "}}\n",
       "\n",
       "                        })                };                });            </script>        </div>"
      ]
     },
     "metadata": {},
     "output_type": "display_data"
    }
   ],
   "source": [
    "fig = optuna.visualization.plot_optimization_history(study)\n",
    "fig.show()"
   ]
  },
  {
   "cell_type": "code",
   "execution_count": 13,
   "metadata": {},
   "outputs": [
    {
     "data": {
      "application/vnd.plotly.v1+json": {
       "config": {
        "plotlyServerURL": "https://plot.ly"
       },
       "data": [
        {
         "cliponaxis": false,
         "hovertemplate": [
          "activation_lin (CategoricalDistribution): 0.006407587120838838<extra></extra>",
          "conv_batchnorm_layer0 (CategoricalDistribution): 0.009939290590150219<extra></extra>",
          "optimizer (CategoricalDistribution): 0.015359681590802459<extra></extra>",
          "linear_batchnorm_layer0 (CategoricalDistribution): 0.025611776000400988<extra></extra>",
          "conv_size_layer0 (IntDistribution): 0.026451804128536604<extra></extra>",
          "n_layers_linear (IntDistribution): 0.030174021575226948<extra></extra>",
          "lr_lambda (FloatDistribution): 0.05798170794030572<extra></extra>",
          "kernel_size_layer0 (IntDistribution): 0.059947385499025944<extra></extra>",
          "linear_size_layer0 (IntDistribution): 0.07512839351532795<extra></extra>",
          "batch_size (IntDistribution): 0.07866237939317389<extra></extra>",
          "lr (FloatDistribution): 0.09041507330311278<extra></extra>",
          "epochs (IntDistribution): 0.09629902652491153<extra></extra>",
          "activation_conv (CategoricalDistribution): 0.13989980125159962<extra></extra>",
          "pool (CategoricalDistribution): 0.14078743696312046<extra></extra>",
          "n_layers_blocks (IntDistribution): 0.14693463460346592<extra></extra>"
         ],
         "marker": {
          "color": "rgb(66,146,198)"
         },
         "orientation": "h",
         "text": [
          "<0.01",
          "<0.01",
          "0.02",
          "0.03",
          "0.03",
          "0.03",
          "0.06",
          "0.06",
          "0.08",
          "0.08",
          "0.09",
          "0.10",
          "0.14",
          "0.14",
          "0.15"
         ],
         "textposition": "outside",
         "type": "bar",
         "x": [
          0.006407587120838838,
          0.009939290590150219,
          0.015359681590802459,
          0.025611776000400988,
          0.026451804128536604,
          0.030174021575226948,
          0.05798170794030572,
          0.059947385499025944,
          0.07512839351532795,
          0.07866237939317389,
          0.09041507330311278,
          0.09629902652491153,
          0.13989980125159962,
          0.14078743696312046,
          0.14693463460346592
         ],
         "y": [
          "activation_lin",
          "conv_batchnorm_layer0",
          "optimizer",
          "linear_batchnorm_layer0",
          "conv_size_layer0",
          "n_layers_linear",
          "lr_lambda",
          "kernel_size_layer0",
          "linear_size_layer0",
          "batch_size",
          "lr",
          "epochs",
          "activation_conv",
          "pool",
          "n_layers_blocks"
         ]
        }
       ],
       "layout": {
        "showlegend": false,
        "template": {
         "data": {
          "bar": [
           {
            "error_x": {
             "color": "#2a3f5f"
            },
            "error_y": {
             "color": "#2a3f5f"
            },
            "marker": {
             "line": {
              "color": "#E5ECF6",
              "width": 0.5
             },
             "pattern": {
              "fillmode": "overlay",
              "size": 10,
              "solidity": 0.2
             }
            },
            "type": "bar"
           }
          ],
          "barpolar": [
           {
            "marker": {
             "line": {
              "color": "#E5ECF6",
              "width": 0.5
             },
             "pattern": {
              "fillmode": "overlay",
              "size": 10,
              "solidity": 0.2
             }
            },
            "type": "barpolar"
           }
          ],
          "carpet": [
           {
            "aaxis": {
             "endlinecolor": "#2a3f5f",
             "gridcolor": "white",
             "linecolor": "white",
             "minorgridcolor": "white",
             "startlinecolor": "#2a3f5f"
            },
            "baxis": {
             "endlinecolor": "#2a3f5f",
             "gridcolor": "white",
             "linecolor": "white",
             "minorgridcolor": "white",
             "startlinecolor": "#2a3f5f"
            },
            "type": "carpet"
           }
          ],
          "choropleth": [
           {
            "colorbar": {
             "outlinewidth": 0,
             "ticks": ""
            },
            "type": "choropleth"
           }
          ],
          "contour": [
           {
            "colorbar": {
             "outlinewidth": 0,
             "ticks": ""
            },
            "colorscale": [
             [
              0,
              "#0d0887"
             ],
             [
              0.1111111111111111,
              "#46039f"
             ],
             [
              0.2222222222222222,
              "#7201a8"
             ],
             [
              0.3333333333333333,
              "#9c179e"
             ],
             [
              0.4444444444444444,
              "#bd3786"
             ],
             [
              0.5555555555555556,
              "#d8576b"
             ],
             [
              0.6666666666666666,
              "#ed7953"
             ],
             [
              0.7777777777777778,
              "#fb9f3a"
             ],
             [
              0.8888888888888888,
              "#fdca26"
             ],
             [
              1,
              "#f0f921"
             ]
            ],
            "type": "contour"
           }
          ],
          "contourcarpet": [
           {
            "colorbar": {
             "outlinewidth": 0,
             "ticks": ""
            },
            "type": "contourcarpet"
           }
          ],
          "heatmap": [
           {
            "colorbar": {
             "outlinewidth": 0,
             "ticks": ""
            },
            "colorscale": [
             [
              0,
              "#0d0887"
             ],
             [
              0.1111111111111111,
              "#46039f"
             ],
             [
              0.2222222222222222,
              "#7201a8"
             ],
             [
              0.3333333333333333,
              "#9c179e"
             ],
             [
              0.4444444444444444,
              "#bd3786"
             ],
             [
              0.5555555555555556,
              "#d8576b"
             ],
             [
              0.6666666666666666,
              "#ed7953"
             ],
             [
              0.7777777777777778,
              "#fb9f3a"
             ],
             [
              0.8888888888888888,
              "#fdca26"
             ],
             [
              1,
              "#f0f921"
             ]
            ],
            "type": "heatmap"
           }
          ],
          "heatmapgl": [
           {
            "colorbar": {
             "outlinewidth": 0,
             "ticks": ""
            },
            "colorscale": [
             [
              0,
              "#0d0887"
             ],
             [
              0.1111111111111111,
              "#46039f"
             ],
             [
              0.2222222222222222,
              "#7201a8"
             ],
             [
              0.3333333333333333,
              "#9c179e"
             ],
             [
              0.4444444444444444,
              "#bd3786"
             ],
             [
              0.5555555555555556,
              "#d8576b"
             ],
             [
              0.6666666666666666,
              "#ed7953"
             ],
             [
              0.7777777777777778,
              "#fb9f3a"
             ],
             [
              0.8888888888888888,
              "#fdca26"
             ],
             [
              1,
              "#f0f921"
             ]
            ],
            "type": "heatmapgl"
           }
          ],
          "histogram": [
           {
            "marker": {
             "pattern": {
              "fillmode": "overlay",
              "size": 10,
              "solidity": 0.2
             }
            },
            "type": "histogram"
           }
          ],
          "histogram2d": [
           {
            "colorbar": {
             "outlinewidth": 0,
             "ticks": ""
            },
            "colorscale": [
             [
              0,
              "#0d0887"
             ],
             [
              0.1111111111111111,
              "#46039f"
             ],
             [
              0.2222222222222222,
              "#7201a8"
             ],
             [
              0.3333333333333333,
              "#9c179e"
             ],
             [
              0.4444444444444444,
              "#bd3786"
             ],
             [
              0.5555555555555556,
              "#d8576b"
             ],
             [
              0.6666666666666666,
              "#ed7953"
             ],
             [
              0.7777777777777778,
              "#fb9f3a"
             ],
             [
              0.8888888888888888,
              "#fdca26"
             ],
             [
              1,
              "#f0f921"
             ]
            ],
            "type": "histogram2d"
           }
          ],
          "histogram2dcontour": [
           {
            "colorbar": {
             "outlinewidth": 0,
             "ticks": ""
            },
            "colorscale": [
             [
              0,
              "#0d0887"
             ],
             [
              0.1111111111111111,
              "#46039f"
             ],
             [
              0.2222222222222222,
              "#7201a8"
             ],
             [
              0.3333333333333333,
              "#9c179e"
             ],
             [
              0.4444444444444444,
              "#bd3786"
             ],
             [
              0.5555555555555556,
              "#d8576b"
             ],
             [
              0.6666666666666666,
              "#ed7953"
             ],
             [
              0.7777777777777778,
              "#fb9f3a"
             ],
             [
              0.8888888888888888,
              "#fdca26"
             ],
             [
              1,
              "#f0f921"
             ]
            ],
            "type": "histogram2dcontour"
           }
          ],
          "mesh3d": [
           {
            "colorbar": {
             "outlinewidth": 0,
             "ticks": ""
            },
            "type": "mesh3d"
           }
          ],
          "parcoords": [
           {
            "line": {
             "colorbar": {
              "outlinewidth": 0,
              "ticks": ""
             }
            },
            "type": "parcoords"
           }
          ],
          "pie": [
           {
            "automargin": true,
            "type": "pie"
           }
          ],
          "scatter": [
           {
            "fillpattern": {
             "fillmode": "overlay",
             "size": 10,
             "solidity": 0.2
            },
            "type": "scatter"
           }
          ],
          "scatter3d": [
           {
            "line": {
             "colorbar": {
              "outlinewidth": 0,
              "ticks": ""
             }
            },
            "marker": {
             "colorbar": {
              "outlinewidth": 0,
              "ticks": ""
             }
            },
            "type": "scatter3d"
           }
          ],
          "scattercarpet": [
           {
            "marker": {
             "colorbar": {
              "outlinewidth": 0,
              "ticks": ""
             }
            },
            "type": "scattercarpet"
           }
          ],
          "scattergeo": [
           {
            "marker": {
             "colorbar": {
              "outlinewidth": 0,
              "ticks": ""
             }
            },
            "type": "scattergeo"
           }
          ],
          "scattergl": [
           {
            "marker": {
             "colorbar": {
              "outlinewidth": 0,
              "ticks": ""
             }
            },
            "type": "scattergl"
           }
          ],
          "scattermapbox": [
           {
            "marker": {
             "colorbar": {
              "outlinewidth": 0,
              "ticks": ""
             }
            },
            "type": "scattermapbox"
           }
          ],
          "scatterpolar": [
           {
            "marker": {
             "colorbar": {
              "outlinewidth": 0,
              "ticks": ""
             }
            },
            "type": "scatterpolar"
           }
          ],
          "scatterpolargl": [
           {
            "marker": {
             "colorbar": {
              "outlinewidth": 0,
              "ticks": ""
             }
            },
            "type": "scatterpolargl"
           }
          ],
          "scatterternary": [
           {
            "marker": {
             "colorbar": {
              "outlinewidth": 0,
              "ticks": ""
             }
            },
            "type": "scatterternary"
           }
          ],
          "surface": [
           {
            "colorbar": {
             "outlinewidth": 0,
             "ticks": ""
            },
            "colorscale": [
             [
              0,
              "#0d0887"
             ],
             [
              0.1111111111111111,
              "#46039f"
             ],
             [
              0.2222222222222222,
              "#7201a8"
             ],
             [
              0.3333333333333333,
              "#9c179e"
             ],
             [
              0.4444444444444444,
              "#bd3786"
             ],
             [
              0.5555555555555556,
              "#d8576b"
             ],
             [
              0.6666666666666666,
              "#ed7953"
             ],
             [
              0.7777777777777778,
              "#fb9f3a"
             ],
             [
              0.8888888888888888,
              "#fdca26"
             ],
             [
              1,
              "#f0f921"
             ]
            ],
            "type": "surface"
           }
          ],
          "table": [
           {
            "cells": {
             "fill": {
              "color": "#EBF0F8"
             },
             "line": {
              "color": "white"
             }
            },
            "header": {
             "fill": {
              "color": "#C8D4E3"
             },
             "line": {
              "color": "white"
             }
            },
            "type": "table"
           }
          ]
         },
         "layout": {
          "annotationdefaults": {
           "arrowcolor": "#2a3f5f",
           "arrowhead": 0,
           "arrowwidth": 1
          },
          "autotypenumbers": "strict",
          "coloraxis": {
           "colorbar": {
            "outlinewidth": 0,
            "ticks": ""
           }
          },
          "colorscale": {
           "diverging": [
            [
             0,
             "#8e0152"
            ],
            [
             0.1,
             "#c51b7d"
            ],
            [
             0.2,
             "#de77ae"
            ],
            [
             0.3,
             "#f1b6da"
            ],
            [
             0.4,
             "#fde0ef"
            ],
            [
             0.5,
             "#f7f7f7"
            ],
            [
             0.6,
             "#e6f5d0"
            ],
            [
             0.7,
             "#b8e186"
            ],
            [
             0.8,
             "#7fbc41"
            ],
            [
             0.9,
             "#4d9221"
            ],
            [
             1,
             "#276419"
            ]
           ],
           "sequential": [
            [
             0,
             "#0d0887"
            ],
            [
             0.1111111111111111,
             "#46039f"
            ],
            [
             0.2222222222222222,
             "#7201a8"
            ],
            [
             0.3333333333333333,
             "#9c179e"
            ],
            [
             0.4444444444444444,
             "#bd3786"
            ],
            [
             0.5555555555555556,
             "#d8576b"
            ],
            [
             0.6666666666666666,
             "#ed7953"
            ],
            [
             0.7777777777777778,
             "#fb9f3a"
            ],
            [
             0.8888888888888888,
             "#fdca26"
            ],
            [
             1,
             "#f0f921"
            ]
           ],
           "sequentialminus": [
            [
             0,
             "#0d0887"
            ],
            [
             0.1111111111111111,
             "#46039f"
            ],
            [
             0.2222222222222222,
             "#7201a8"
            ],
            [
             0.3333333333333333,
             "#9c179e"
            ],
            [
             0.4444444444444444,
             "#bd3786"
            ],
            [
             0.5555555555555556,
             "#d8576b"
            ],
            [
             0.6666666666666666,
             "#ed7953"
            ],
            [
             0.7777777777777778,
             "#fb9f3a"
            ],
            [
             0.8888888888888888,
             "#fdca26"
            ],
            [
             1,
             "#f0f921"
            ]
           ]
          },
          "colorway": [
           "#636efa",
           "#EF553B",
           "#00cc96",
           "#ab63fa",
           "#FFA15A",
           "#19d3f3",
           "#FF6692",
           "#B6E880",
           "#FF97FF",
           "#FECB52"
          ],
          "font": {
           "color": "#2a3f5f"
          },
          "geo": {
           "bgcolor": "white",
           "lakecolor": "white",
           "landcolor": "#E5ECF6",
           "showlakes": true,
           "showland": true,
           "subunitcolor": "white"
          },
          "hoverlabel": {
           "align": "left"
          },
          "hovermode": "closest",
          "mapbox": {
           "style": "light"
          },
          "paper_bgcolor": "white",
          "plot_bgcolor": "#E5ECF6",
          "polar": {
           "angularaxis": {
            "gridcolor": "white",
            "linecolor": "white",
            "ticks": ""
           },
           "bgcolor": "#E5ECF6",
           "radialaxis": {
            "gridcolor": "white",
            "linecolor": "white",
            "ticks": ""
           }
          },
          "scene": {
           "xaxis": {
            "backgroundcolor": "#E5ECF6",
            "gridcolor": "white",
            "gridwidth": 2,
            "linecolor": "white",
            "showbackground": true,
            "ticks": "",
            "zerolinecolor": "white"
           },
           "yaxis": {
            "backgroundcolor": "#E5ECF6",
            "gridcolor": "white",
            "gridwidth": 2,
            "linecolor": "white",
            "showbackground": true,
            "ticks": "",
            "zerolinecolor": "white"
           },
           "zaxis": {
            "backgroundcolor": "#E5ECF6",
            "gridcolor": "white",
            "gridwidth": 2,
            "linecolor": "white",
            "showbackground": true,
            "ticks": "",
            "zerolinecolor": "white"
           }
          },
          "shapedefaults": {
           "line": {
            "color": "#2a3f5f"
           }
          },
          "ternary": {
           "aaxis": {
            "gridcolor": "white",
            "linecolor": "white",
            "ticks": ""
           },
           "baxis": {
            "gridcolor": "white",
            "linecolor": "white",
            "ticks": ""
           },
           "bgcolor": "#E5ECF6",
           "caxis": {
            "gridcolor": "white",
            "linecolor": "white",
            "ticks": ""
           }
          },
          "title": {
           "x": 0.05
          },
          "xaxis": {
           "automargin": true,
           "gridcolor": "white",
           "linecolor": "white",
           "ticks": "",
           "title": {
            "standoff": 15
           },
           "zerolinecolor": "white",
           "zerolinewidth": 2
          },
          "yaxis": {
           "automargin": true,
           "gridcolor": "white",
           "linecolor": "white",
           "ticks": "",
           "title": {
            "standoff": 15
           },
           "zerolinecolor": "white",
           "zerolinewidth": 2
          }
         }
        },
        "title": {
         "text": "Hyperparameter Importances"
        },
        "xaxis": {
         "title": {
          "text": "Importance for Objective Value"
         }
        },
        "yaxis": {
         "title": {
          "text": "Hyperparameter"
         }
        }
       }
      },
      "text/html": [
       "<div>                            <div id=\"0b61eb81-3e5b-4c15-9689-6b94f1c32275\" class=\"plotly-graph-div\" style=\"height:525px; width:100%;\"></div>            <script type=\"text/javascript\">                require([\"plotly\"], function(Plotly) {                    window.PLOTLYENV=window.PLOTLYENV || {};                                    if (document.getElementById(\"0b61eb81-3e5b-4c15-9689-6b94f1c32275\")) {                    Plotly.newPlot(                        \"0b61eb81-3e5b-4c15-9689-6b94f1c32275\",                        [{\"cliponaxis\":false,\"hovertemplate\":[\"activation_lin (CategoricalDistribution): 0.006407587120838838<extra></extra>\",\"conv_batchnorm_layer0 (CategoricalDistribution): 0.009939290590150219<extra></extra>\",\"optimizer (CategoricalDistribution): 0.015359681590802459<extra></extra>\",\"linear_batchnorm_layer0 (CategoricalDistribution): 0.025611776000400988<extra></extra>\",\"conv_size_layer0 (IntDistribution): 0.026451804128536604<extra></extra>\",\"n_layers_linear (IntDistribution): 0.030174021575226948<extra></extra>\",\"lr_lambda (FloatDistribution): 0.05798170794030572<extra></extra>\",\"kernel_size_layer0 (IntDistribution): 0.059947385499025944<extra></extra>\",\"linear_size_layer0 (IntDistribution): 0.07512839351532795<extra></extra>\",\"batch_size (IntDistribution): 0.07866237939317389<extra></extra>\",\"lr (FloatDistribution): 0.09041507330311278<extra></extra>\",\"epochs (IntDistribution): 0.09629902652491153<extra></extra>\",\"activation_conv (CategoricalDistribution): 0.13989980125159962<extra></extra>\",\"pool (CategoricalDistribution): 0.14078743696312046<extra></extra>\",\"n_layers_blocks (IntDistribution): 0.14693463460346592<extra></extra>\"],\"marker\":{\"color\":\"rgb(66,146,198)\"},\"orientation\":\"h\",\"text\":[\"<0.01\",\"<0.01\",\"0.02\",\"0.03\",\"0.03\",\"0.03\",\"0.06\",\"0.06\",\"0.08\",\"0.08\",\"0.09\",\"0.10\",\"0.14\",\"0.14\",\"0.15\"],\"textposition\":\"outside\",\"x\":[0.006407587120838838,0.009939290590150219,0.015359681590802459,0.025611776000400988,0.026451804128536604,0.030174021575226948,0.05798170794030572,0.059947385499025944,0.07512839351532795,0.07866237939317389,0.09041507330311278,0.09629902652491153,0.13989980125159962,0.14078743696312046,0.14693463460346592],\"y\":[\"activation_lin\",\"conv_batchnorm_layer0\",\"optimizer\",\"linear_batchnorm_layer0\",\"conv_size_layer0\",\"n_layers_linear\",\"lr_lambda\",\"kernel_size_layer0\",\"linear_size_layer0\",\"batch_size\",\"lr\",\"epochs\",\"activation_conv\",\"pool\",\"n_layers_blocks\"],\"type\":\"bar\"}],                        {\"showlegend\":false,\"title\":{\"text\":\"Hyperparameter Importances\"},\"xaxis\":{\"title\":{\"text\":\"Importance for Objective Value\"}},\"yaxis\":{\"title\":{\"text\":\"Hyperparameter\"}},\"template\":{\"data\":{\"histogram2dcontour\":[{\"type\":\"histogram2dcontour\",\"colorbar\":{\"outlinewidth\":0,\"ticks\":\"\"},\"colorscale\":[[0.0,\"#0d0887\"],[0.1111111111111111,\"#46039f\"],[0.2222222222222222,\"#7201a8\"],[0.3333333333333333,\"#9c179e\"],[0.4444444444444444,\"#bd3786\"],[0.5555555555555556,\"#d8576b\"],[0.6666666666666666,\"#ed7953\"],[0.7777777777777778,\"#fb9f3a\"],[0.8888888888888888,\"#fdca26\"],[1.0,\"#f0f921\"]]}],\"choropleth\":[{\"type\":\"choropleth\",\"colorbar\":{\"outlinewidth\":0,\"ticks\":\"\"}}],\"histogram2d\":[{\"type\":\"histogram2d\",\"colorbar\":{\"outlinewidth\":0,\"ticks\":\"\"},\"colorscale\":[[0.0,\"#0d0887\"],[0.1111111111111111,\"#46039f\"],[0.2222222222222222,\"#7201a8\"],[0.3333333333333333,\"#9c179e\"],[0.4444444444444444,\"#bd3786\"],[0.5555555555555556,\"#d8576b\"],[0.6666666666666666,\"#ed7953\"],[0.7777777777777778,\"#fb9f3a\"],[0.8888888888888888,\"#fdca26\"],[1.0,\"#f0f921\"]]}],\"heatmap\":[{\"type\":\"heatmap\",\"colorbar\":{\"outlinewidth\":0,\"ticks\":\"\"},\"colorscale\":[[0.0,\"#0d0887\"],[0.1111111111111111,\"#46039f\"],[0.2222222222222222,\"#7201a8\"],[0.3333333333333333,\"#9c179e\"],[0.4444444444444444,\"#bd3786\"],[0.5555555555555556,\"#d8576b\"],[0.6666666666666666,\"#ed7953\"],[0.7777777777777778,\"#fb9f3a\"],[0.8888888888888888,\"#fdca26\"],[1.0,\"#f0f921\"]]}],\"heatmapgl\":[{\"type\":\"heatmapgl\",\"colorbar\":{\"outlinewidth\":0,\"ticks\":\"\"},\"colorscale\":[[0.0,\"#0d0887\"],[0.1111111111111111,\"#46039f\"],[0.2222222222222222,\"#7201a8\"],[0.3333333333333333,\"#9c179e\"],[0.4444444444444444,\"#bd3786\"],[0.5555555555555556,\"#d8576b\"],[0.6666666666666666,\"#ed7953\"],[0.7777777777777778,\"#fb9f3a\"],[0.8888888888888888,\"#fdca26\"],[1.0,\"#f0f921\"]]}],\"contourcarpet\":[{\"type\":\"contourcarpet\",\"colorbar\":{\"outlinewidth\":0,\"ticks\":\"\"}}],\"contour\":[{\"type\":\"contour\",\"colorbar\":{\"outlinewidth\":0,\"ticks\":\"\"},\"colorscale\":[[0.0,\"#0d0887\"],[0.1111111111111111,\"#46039f\"],[0.2222222222222222,\"#7201a8\"],[0.3333333333333333,\"#9c179e\"],[0.4444444444444444,\"#bd3786\"],[0.5555555555555556,\"#d8576b\"],[0.6666666666666666,\"#ed7953\"],[0.7777777777777778,\"#fb9f3a\"],[0.8888888888888888,\"#fdca26\"],[1.0,\"#f0f921\"]]}],\"surface\":[{\"type\":\"surface\",\"colorbar\":{\"outlinewidth\":0,\"ticks\":\"\"},\"colorscale\":[[0.0,\"#0d0887\"],[0.1111111111111111,\"#46039f\"],[0.2222222222222222,\"#7201a8\"],[0.3333333333333333,\"#9c179e\"],[0.4444444444444444,\"#bd3786\"],[0.5555555555555556,\"#d8576b\"],[0.6666666666666666,\"#ed7953\"],[0.7777777777777778,\"#fb9f3a\"],[0.8888888888888888,\"#fdca26\"],[1.0,\"#f0f921\"]]}],\"mesh3d\":[{\"type\":\"mesh3d\",\"colorbar\":{\"outlinewidth\":0,\"ticks\":\"\"}}],\"scatter\":[{\"fillpattern\":{\"fillmode\":\"overlay\",\"size\":10,\"solidity\":0.2},\"type\":\"scatter\"}],\"parcoords\":[{\"type\":\"parcoords\",\"line\":{\"colorbar\":{\"outlinewidth\":0,\"ticks\":\"\"}}}],\"scatterpolargl\":[{\"type\":\"scatterpolargl\",\"marker\":{\"colorbar\":{\"outlinewidth\":0,\"ticks\":\"\"}}}],\"bar\":[{\"error_x\":{\"color\":\"#2a3f5f\"},\"error_y\":{\"color\":\"#2a3f5f\"},\"marker\":{\"line\":{\"color\":\"#E5ECF6\",\"width\":0.5},\"pattern\":{\"fillmode\":\"overlay\",\"size\":10,\"solidity\":0.2}},\"type\":\"bar\"}],\"scattergeo\":[{\"type\":\"scattergeo\",\"marker\":{\"colorbar\":{\"outlinewidth\":0,\"ticks\":\"\"}}}],\"scatterpolar\":[{\"type\":\"scatterpolar\",\"marker\":{\"colorbar\":{\"outlinewidth\":0,\"ticks\":\"\"}}}],\"histogram\":[{\"marker\":{\"pattern\":{\"fillmode\":\"overlay\",\"size\":10,\"solidity\":0.2}},\"type\":\"histogram\"}],\"scattergl\":[{\"type\":\"scattergl\",\"marker\":{\"colorbar\":{\"outlinewidth\":0,\"ticks\":\"\"}}}],\"scatter3d\":[{\"type\":\"scatter3d\",\"line\":{\"colorbar\":{\"outlinewidth\":0,\"ticks\":\"\"}},\"marker\":{\"colorbar\":{\"outlinewidth\":0,\"ticks\":\"\"}}}],\"scattermapbox\":[{\"type\":\"scattermapbox\",\"marker\":{\"colorbar\":{\"outlinewidth\":0,\"ticks\":\"\"}}}],\"scatterternary\":[{\"type\":\"scatterternary\",\"marker\":{\"colorbar\":{\"outlinewidth\":0,\"ticks\":\"\"}}}],\"scattercarpet\":[{\"type\":\"scattercarpet\",\"marker\":{\"colorbar\":{\"outlinewidth\":0,\"ticks\":\"\"}}}],\"carpet\":[{\"aaxis\":{\"endlinecolor\":\"#2a3f5f\",\"gridcolor\":\"white\",\"linecolor\":\"white\",\"minorgridcolor\":\"white\",\"startlinecolor\":\"#2a3f5f\"},\"baxis\":{\"endlinecolor\":\"#2a3f5f\",\"gridcolor\":\"white\",\"linecolor\":\"white\",\"minorgridcolor\":\"white\",\"startlinecolor\":\"#2a3f5f\"},\"type\":\"carpet\"}],\"table\":[{\"cells\":{\"fill\":{\"color\":\"#EBF0F8\"},\"line\":{\"color\":\"white\"}},\"header\":{\"fill\":{\"color\":\"#C8D4E3\"},\"line\":{\"color\":\"white\"}},\"type\":\"table\"}],\"barpolar\":[{\"marker\":{\"line\":{\"color\":\"#E5ECF6\",\"width\":0.5},\"pattern\":{\"fillmode\":\"overlay\",\"size\":10,\"solidity\":0.2}},\"type\":\"barpolar\"}],\"pie\":[{\"automargin\":true,\"type\":\"pie\"}]},\"layout\":{\"autotypenumbers\":\"strict\",\"colorway\":[\"#636efa\",\"#EF553B\",\"#00cc96\",\"#ab63fa\",\"#FFA15A\",\"#19d3f3\",\"#FF6692\",\"#B6E880\",\"#FF97FF\",\"#FECB52\"],\"font\":{\"color\":\"#2a3f5f\"},\"hovermode\":\"closest\",\"hoverlabel\":{\"align\":\"left\"},\"paper_bgcolor\":\"white\",\"plot_bgcolor\":\"#E5ECF6\",\"polar\":{\"bgcolor\":\"#E5ECF6\",\"angularaxis\":{\"gridcolor\":\"white\",\"linecolor\":\"white\",\"ticks\":\"\"},\"radialaxis\":{\"gridcolor\":\"white\",\"linecolor\":\"white\",\"ticks\":\"\"}},\"ternary\":{\"bgcolor\":\"#E5ECF6\",\"aaxis\":{\"gridcolor\":\"white\",\"linecolor\":\"white\",\"ticks\":\"\"},\"baxis\":{\"gridcolor\":\"white\",\"linecolor\":\"white\",\"ticks\":\"\"},\"caxis\":{\"gridcolor\":\"white\",\"linecolor\":\"white\",\"ticks\":\"\"}},\"coloraxis\":{\"colorbar\":{\"outlinewidth\":0,\"ticks\":\"\"}},\"colorscale\":{\"sequential\":[[0.0,\"#0d0887\"],[0.1111111111111111,\"#46039f\"],[0.2222222222222222,\"#7201a8\"],[0.3333333333333333,\"#9c179e\"],[0.4444444444444444,\"#bd3786\"],[0.5555555555555556,\"#d8576b\"],[0.6666666666666666,\"#ed7953\"],[0.7777777777777778,\"#fb9f3a\"],[0.8888888888888888,\"#fdca26\"],[1.0,\"#f0f921\"]],\"sequentialminus\":[[0.0,\"#0d0887\"],[0.1111111111111111,\"#46039f\"],[0.2222222222222222,\"#7201a8\"],[0.3333333333333333,\"#9c179e\"],[0.4444444444444444,\"#bd3786\"],[0.5555555555555556,\"#d8576b\"],[0.6666666666666666,\"#ed7953\"],[0.7777777777777778,\"#fb9f3a\"],[0.8888888888888888,\"#fdca26\"],[1.0,\"#f0f921\"]],\"diverging\":[[0,\"#8e0152\"],[0.1,\"#c51b7d\"],[0.2,\"#de77ae\"],[0.3,\"#f1b6da\"],[0.4,\"#fde0ef\"],[0.5,\"#f7f7f7\"],[0.6,\"#e6f5d0\"],[0.7,\"#b8e186\"],[0.8,\"#7fbc41\"],[0.9,\"#4d9221\"],[1,\"#276419\"]]},\"xaxis\":{\"gridcolor\":\"white\",\"linecolor\":\"white\",\"ticks\":\"\",\"title\":{\"standoff\":15},\"zerolinecolor\":\"white\",\"automargin\":true,\"zerolinewidth\":2},\"yaxis\":{\"gridcolor\":\"white\",\"linecolor\":\"white\",\"ticks\":\"\",\"title\":{\"standoff\":15},\"zerolinecolor\":\"white\",\"automargin\":true,\"zerolinewidth\":2},\"scene\":{\"xaxis\":{\"backgroundcolor\":\"#E5ECF6\",\"gridcolor\":\"white\",\"linecolor\":\"white\",\"showbackground\":true,\"ticks\":\"\",\"zerolinecolor\":\"white\",\"gridwidth\":2},\"yaxis\":{\"backgroundcolor\":\"#E5ECF6\",\"gridcolor\":\"white\",\"linecolor\":\"white\",\"showbackground\":true,\"ticks\":\"\",\"zerolinecolor\":\"white\",\"gridwidth\":2},\"zaxis\":{\"backgroundcolor\":\"#E5ECF6\",\"gridcolor\":\"white\",\"linecolor\":\"white\",\"showbackground\":true,\"ticks\":\"\",\"zerolinecolor\":\"white\",\"gridwidth\":2}},\"shapedefaults\":{\"line\":{\"color\":\"#2a3f5f\"}},\"annotationdefaults\":{\"arrowcolor\":\"#2a3f5f\",\"arrowhead\":0,\"arrowwidth\":1},\"geo\":{\"bgcolor\":\"white\",\"landcolor\":\"#E5ECF6\",\"subunitcolor\":\"white\",\"showland\":true,\"showlakes\":true,\"lakecolor\":\"white\"},\"title\":{\"x\":0.05},\"mapbox\":{\"style\":\"light\"}}}},                        {\"responsive\": true}                    ).then(function(){\n",
       "                            \n",
       "var gd = document.getElementById('0b61eb81-3e5b-4c15-9689-6b94f1c32275');\n",
       "var x = new MutationObserver(function (mutations, observer) {{\n",
       "        var display = window.getComputedStyle(gd).display;\n",
       "        if (!display || display === 'none') {{\n",
       "            console.log([gd, 'removed!']);\n",
       "            Plotly.purge(gd);\n",
       "            observer.disconnect();\n",
       "        }}\n",
       "}});\n",
       "\n",
       "// Listen for the removal of the full notebook cells\n",
       "var notebookContainer = gd.closest('#notebook-container');\n",
       "if (notebookContainer) {{\n",
       "    x.observe(notebookContainer, {childList: true});\n",
       "}}\n",
       "\n",
       "// Listen for the clearing of the current output cell\n",
       "var outputEl = gd.closest('.output');\n",
       "if (outputEl) {{\n",
       "    x.observe(outputEl, {childList: true});\n",
       "}}\n",
       "\n",
       "                        })                };                });            </script>        </div>"
      ]
     },
     "metadata": {},
     "output_type": "display_data"
    }
   ],
   "source": [
    "fig = optuna.visualization.plot_param_importances(study)\n",
    "fig.show()"
   ]
  },
  {
   "cell_type": "code",
   "execution_count": 14,
   "metadata": {},
   "outputs": [
    {
     "data": {
      "application/vnd.plotly.v1+json": {
       "config": {
        "plotlyServerURL": "https://plot.ly"
       },
       "data": [
        {
         "marker": {
          "color": [
           0,
           1,
           2,
           3,
           4,
           5,
           6,
           7,
           10,
           14,
           15,
           16,
           17,
           19,
           20,
           21,
           22,
           23,
           24,
           25,
           27,
           28,
           29,
           31,
           32,
           33,
           34,
           35,
           36,
           42,
           43,
           44,
           45,
           47,
           48,
           51,
           52,
           53,
           55,
           59,
           62,
           64,
           65,
           67,
           68,
           71,
           72,
           73,
           76,
           79,
           80,
           81,
           82,
           85,
           86,
           88,
           91,
           92,
           93,
           94,
           95,
           98,
           99
          ],
          "colorbar": {
           "title": {
            "text": "Trial"
           },
           "x": 1,
           "xpad": 40
          },
          "colorscale": [
           [
            0,
            "rgb(247,251,255)"
           ],
           [
            0.125,
            "rgb(222,235,247)"
           ],
           [
            0.25,
            "rgb(198,219,239)"
           ],
           [
            0.375,
            "rgb(158,202,225)"
           ],
           [
            0.5,
            "rgb(107,174,214)"
           ],
           [
            0.625,
            "rgb(66,146,198)"
           ],
           [
            0.75,
            "rgb(33,113,181)"
           ],
           [
            0.875,
            "rgb(8,81,156)"
           ],
           [
            1,
            "rgb(8,48,107)"
           ]
          ],
          "line": {
           "color": "Grey",
           "width": 0.5
          },
          "showscale": true
         },
         "mode": "markers",
         "showlegend": false,
         "type": "scatter",
         "x": [
          "LeakyReLU",
          "LeakyReLU",
          "LeakyReLU",
          "ELU",
          "LeakyReLU",
          "LeakyReLU",
          "LeakyReLU",
          "LeakyReLU",
          "ReLU",
          "ReLU",
          "ELU",
          "ELU",
          "ReLU",
          "ELU",
          "ReLU",
          "ReLU",
          "ReLU",
          "ReLU",
          "ReLU",
          "ELU",
          "LeakyReLU",
          "ReLU",
          "ELU",
          "ELU",
          "ELU",
          "ELU",
          "ELU",
          "ELU",
          "ELU",
          "ELU",
          "ELU",
          "ELU",
          "ELU",
          "ELU",
          "ELU",
          "ELU",
          "ELU",
          "ELU",
          "ELU",
          "ELU",
          "ELU",
          "ELU",
          "ELU",
          "ELU",
          "ELU",
          "ELU",
          "ELU",
          "ELU",
          "ELU",
          "ELU",
          "LeakyReLU",
          "ELU",
          "ELU",
          "ELU",
          "ELU",
          "ELU",
          "ELU",
          "ELU",
          "ELU",
          "ELU",
          "ELU",
          "ELU",
          "ELU"
         ],
         "xaxis": "x",
         "y": [
          0.4446168430149555,
          0.730725499716672,
          0.5117237459099482,
          0.2676942315366533,
          0.6723012216389179,
          0.3140707593411207,
          0.33913436957768034,
          0.25604898769121903,
          0.2712962857913226,
          0.29718612822202534,
          0.2873523467116886,
          0.250072470969624,
          0.26273325227555777,
          0.26862444254485046,
          0.26721169985830784,
          0.27242452260993777,
          0.27255570533729734,
          0.27993245515972376,
          0.25754492823034525,
          0.2598910965025425,
          0.26958812959492207,
          0.2840522961183028,
          0.2522690114047792,
          0.24615790943304697,
          0.26900702052646214,
          0.25030556817849475,
          0.25226836072074044,
          0.25380293652415276,
          0.25901587141884697,
          0.26369955187494104,
          0.24597782558865017,
          0.26522068408402527,
          0.2492119800299406,
          0.2733392510563135,
          0.26239403896033764,
          0.26817180758172815,
          0.24963095784187317,
          0.2545858720938365,
          0.24833550055821738,
          0.31482233479619026,
          0.24922352758320895,
          0.2505142201076854,
          0.2533429182238049,
          0.2669638395309448,
          0.26226233773761326,
          0.2519530521498786,
          0.24927696420086753,
          0.26062609627842903,
          0.25837090114752453,
          0.2636747222680312,
          0.26690472662448883,
          0.2553761866357591,
          0.2435563455025355,
          0.250805311732822,
          0.24919878939787546,
          0.24940132598082224,
          0.23998218443658617,
          0.2500247094366286,
          0.250877751244439,
          0.24236836367183262,
          0.2490606294436888,
          0.2508597035299648,
          0.26629439927637577
         ],
         "yaxis": "y"
        },
        {
         "marker": {
          "color": [
           0,
           1,
           2,
           3,
           4,
           5,
           6,
           7,
           10,
           14,
           15,
           16,
           17,
           19,
           20,
           21,
           22,
           23,
           24,
           25,
           27,
           28,
           29,
           31,
           32,
           33,
           34,
           35,
           36,
           42,
           43,
           44,
           45,
           47,
           48,
           51,
           52,
           53,
           55,
           59,
           62,
           64,
           65,
           67,
           68,
           71,
           72,
           73,
           76,
           79,
           80,
           81,
           82,
           85,
           86,
           88,
           91,
           92,
           93,
           94,
           95,
           98,
           99
          ],
          "colorbar": {
           "title": {
            "text": "Trial"
           },
           "x": 1,
           "xpad": 40
          },
          "colorscale": [
           [
            0,
            "rgb(247,251,255)"
           ],
           [
            0.125,
            "rgb(222,235,247)"
           ],
           [
            0.25,
            "rgb(198,219,239)"
           ],
           [
            0.375,
            "rgb(158,202,225)"
           ],
           [
            0.5,
            "rgb(107,174,214)"
           ],
           [
            0.625,
            "rgb(66,146,198)"
           ],
           [
            0.75,
            "rgb(33,113,181)"
           ],
           [
            0.875,
            "rgb(8,81,156)"
           ],
           [
            1,
            "rgb(8,48,107)"
           ]
          ],
          "line": {
           "color": "Grey",
           "width": 0.5
          },
          "showscale": false
         },
         "mode": "markers",
         "showlegend": false,
         "type": "scatter",
         "x": [
          "ELU",
          "LeakyReLU",
          "LeakyReLU",
          "LeakyReLU",
          "LeakyReLU",
          "ELU",
          "LeakyReLU",
          "ELU",
          "ReLU",
          "ReLU",
          "LeakyReLU",
          "ELU",
          "ELU",
          "ELU",
          "ELU",
          "ELU",
          "ELU",
          "ELU",
          "ELU",
          "ELU",
          "ELU",
          "ELU",
          "ELU",
          "ELU",
          "ELU",
          "ELU",
          "ELU",
          "ELU",
          "ReLU",
          "ELU",
          "ELU",
          "LeakyReLU",
          "ELU",
          "ReLU",
          "ELU",
          "ELU",
          "ELU",
          "ELU",
          "ELU",
          "ELU",
          "ELU",
          "ELU",
          "ELU",
          "ELU",
          "ELU",
          "ELU",
          "ELU",
          "ELU",
          "ELU",
          "ELU",
          "LeakyReLU",
          "ELU",
          "ELU",
          "ELU",
          "ELU",
          "ELU",
          "ELU",
          "ELU",
          "ELU",
          "ELU",
          "ELU",
          "LeakyReLU",
          "ELU"
         ],
         "xaxis": "x2",
         "y": [
          0.4446168430149555,
          0.730725499716672,
          0.5117237459099482,
          0.2676942315366533,
          0.6723012216389179,
          0.3140707593411207,
          0.33913436957768034,
          0.25604898769121903,
          0.2712962857913226,
          0.29718612822202534,
          0.2873523467116886,
          0.250072470969624,
          0.26273325227555777,
          0.26862444254485046,
          0.26721169985830784,
          0.27242452260993777,
          0.27255570533729734,
          0.27993245515972376,
          0.25754492823034525,
          0.2598910965025425,
          0.26958812959492207,
          0.2840522961183028,
          0.2522690114047792,
          0.24615790943304697,
          0.26900702052646214,
          0.25030556817849475,
          0.25226836072074044,
          0.25380293652415276,
          0.25901587141884697,
          0.26369955187494104,
          0.24597782558865017,
          0.26522068408402527,
          0.2492119800299406,
          0.2733392510563135,
          0.26239403896033764,
          0.26817180758172815,
          0.24963095784187317,
          0.2545858720938365,
          0.24833550055821738,
          0.31482233479619026,
          0.24922352758320895,
          0.2505142201076854,
          0.2533429182238049,
          0.2669638395309448,
          0.26226233773761326,
          0.2519530521498786,
          0.24927696420086753,
          0.26062609627842903,
          0.25837090114752453,
          0.2636747222680312,
          0.26690472662448883,
          0.2553761866357591,
          0.2435563455025355,
          0.250805311732822,
          0.24919878939787546,
          0.24940132598082224,
          0.23998218443658617,
          0.2500247094366286,
          0.250877751244439,
          0.24236836367183262,
          0.2490606294436888,
          0.2508597035299648,
          0.26629439927637577
         ],
         "yaxis": "y2"
        },
        {
         "marker": {
          "color": [
           0,
           1,
           2,
           3,
           4,
           5,
           6,
           7,
           10,
           14,
           15,
           16,
           17,
           19,
           20,
           21,
           22,
           23,
           24,
           25,
           27,
           28,
           29,
           31,
           32,
           33,
           34,
           35,
           36,
           42,
           43,
           44,
           45,
           47,
           48,
           51,
           52,
           53,
           55,
           59,
           62,
           64,
           65,
           67,
           68,
           71,
           72,
           73,
           76,
           79,
           80,
           81,
           82,
           85,
           86,
           88,
           91,
           92,
           93,
           94,
           95,
           98,
           99
          ],
          "colorbar": {
           "title": {
            "text": "Trial"
           },
           "x": 1,
           "xpad": 40
          },
          "colorscale": [
           [
            0,
            "rgb(247,251,255)"
           ],
           [
            0.125,
            "rgb(222,235,247)"
           ],
           [
            0.25,
            "rgb(198,219,239)"
           ],
           [
            0.375,
            "rgb(158,202,225)"
           ],
           [
            0.5,
            "rgb(107,174,214)"
           ],
           [
            0.625,
            "rgb(66,146,198)"
           ],
           [
            0.75,
            "rgb(33,113,181)"
           ],
           [
            0.875,
            "rgb(8,81,156)"
           ],
           [
            1,
            "rgb(8,48,107)"
           ]
          ],
          "line": {
           "color": "Grey",
           "width": 0.5
          },
          "showscale": false
         },
         "mode": "markers",
         "showlegend": false,
         "type": "scatter",
         "x": [
          true,
          false,
          true,
          true,
          true,
          true,
          true,
          false,
          false,
          false,
          true,
          true,
          false,
          true,
          false,
          false,
          false,
          false,
          false,
          false,
          false,
          true,
          true,
          true,
          true,
          true,
          true,
          true,
          true,
          true,
          true,
          true,
          true,
          true,
          true,
          true,
          true,
          true,
          true,
          true,
          true,
          true,
          true,
          true,
          true,
          true,
          true,
          true,
          true,
          true,
          true,
          true,
          true,
          false,
          true,
          true,
          true,
          true,
          true,
          true,
          true,
          false,
          true
         ],
         "xaxis": "x3",
         "y": [
          0.4446168430149555,
          0.730725499716672,
          0.5117237459099482,
          0.2676942315366533,
          0.6723012216389179,
          0.3140707593411207,
          0.33913436957768034,
          0.25604898769121903,
          0.2712962857913226,
          0.29718612822202534,
          0.2873523467116886,
          0.250072470969624,
          0.26273325227555777,
          0.26862444254485046,
          0.26721169985830784,
          0.27242452260993777,
          0.27255570533729734,
          0.27993245515972376,
          0.25754492823034525,
          0.2598910965025425,
          0.26958812959492207,
          0.2840522961183028,
          0.2522690114047792,
          0.24615790943304697,
          0.26900702052646214,
          0.25030556817849475,
          0.25226836072074044,
          0.25380293652415276,
          0.25901587141884697,
          0.26369955187494104,
          0.24597782558865017,
          0.26522068408402527,
          0.2492119800299406,
          0.2733392510563135,
          0.26239403896033764,
          0.26817180758172815,
          0.24963095784187317,
          0.2545858720938365,
          0.24833550055821738,
          0.31482233479619026,
          0.24922352758320895,
          0.2505142201076854,
          0.2533429182238049,
          0.2669638395309448,
          0.26226233773761326,
          0.2519530521498786,
          0.24927696420086753,
          0.26062609627842903,
          0.25837090114752453,
          0.2636747222680312,
          0.26690472662448883,
          0.2553761866357591,
          0.2435563455025355,
          0.250805311732822,
          0.24919878939787546,
          0.24940132598082224,
          0.23998218443658617,
          0.2500247094366286,
          0.250877751244439,
          0.24236836367183262,
          0.2490606294436888,
          0.2508597035299648,
          0.26629439927637577
         ],
         "yaxis": "y3"
        },
        {
         "marker": {
          "color": [
           0,
           1,
           2,
           3,
           4,
           5,
           6,
           7,
           10,
           14,
           15,
           16,
           17,
           19,
           20,
           21,
           22,
           23,
           24,
           25,
           27,
           28,
           29,
           31,
           32,
           33,
           34,
           35,
           36,
           42,
           43,
           44,
           45,
           47,
           48,
           51,
           52,
           53,
           55,
           59,
           62,
           64,
           65,
           67,
           71,
           72,
           73,
           76,
           79,
           80,
           81,
           82,
           85,
           86,
           88,
           91,
           92,
           93,
           94,
           95,
           98,
           99
          ],
          "colorbar": {
           "title": {
            "text": "Trial"
           },
           "x": 1,
           "xpad": 40
          },
          "colorscale": [
           [
            0,
            "rgb(247,251,255)"
           ],
           [
            0.125,
            "rgb(222,235,247)"
           ],
           [
            0.25,
            "rgb(198,219,239)"
           ],
           [
            0.375,
            "rgb(158,202,225)"
           ],
           [
            0.5,
            "rgb(107,174,214)"
           ],
           [
            0.625,
            "rgb(66,146,198)"
           ],
           [
            0.75,
            "rgb(33,113,181)"
           ],
           [
            0.875,
            "rgb(8,81,156)"
           ],
           [
            1,
            "rgb(8,48,107)"
           ]
          ],
          "line": {
           "color": "Grey",
           "width": 0.5
          },
          "showscale": false
         },
         "mode": "markers",
         "showlegend": false,
         "type": "scatter",
         "x": [
          100,
          160,
          170,
          230,
          270,
          170,
          300,
          140,
          220,
          250,
          150,
          190,
          190,
          140,
          100,
          180,
          200,
          190,
          220,
          220,
          120,
          220,
          270,
          270,
          280,
          270,
          270,
          260,
          300,
          270,
          260,
          240,
          260,
          230,
          170,
          280,
          260,
          230,
          210,
          210,
          240,
          240,
          250,
          260,
          270,
          240,
          240,
          260,
          180,
          240,
          280,
          270,
          260,
          250,
          240,
          260,
          250,
          270,
          260,
          260,
          280,
          300
         ],
         "xaxis": "x4",
         "y": [
          0.4446168430149555,
          0.730725499716672,
          0.5117237459099482,
          0.2676942315366533,
          0.6723012216389179,
          0.3140707593411207,
          0.33913436957768034,
          0.25604898769121903,
          0.2712962857913226,
          0.29718612822202534,
          0.2873523467116886,
          0.250072470969624,
          0.26273325227555777,
          0.26862444254485046,
          0.26721169985830784,
          0.27242452260993777,
          0.27255570533729734,
          0.27993245515972376,
          0.25754492823034525,
          0.2598910965025425,
          0.26958812959492207,
          0.2840522961183028,
          0.2522690114047792,
          0.24615790943304697,
          0.26900702052646214,
          0.25030556817849475,
          0.25226836072074044,
          0.25380293652415276,
          0.25901587141884697,
          0.26369955187494104,
          0.24597782558865017,
          0.26522068408402527,
          0.2492119800299406,
          0.2733392510563135,
          0.26239403896033764,
          0.26817180758172815,
          0.24963095784187317,
          0.2545858720938365,
          0.24833550055821738,
          0.31482233479619026,
          0.24922352758320895,
          0.2505142201076854,
          0.2533429182238049,
          0.2669638395309448,
          0.2519530521498786,
          0.24927696420086753,
          0.26062609627842903,
          0.25837090114752453,
          0.2636747222680312,
          0.26690472662448883,
          0.2553761866357591,
          0.2435563455025355,
          0.250805311732822,
          0.24919878939787546,
          0.24940132598082224,
          0.23998218443658617,
          0.2500247094366286,
          0.250877751244439,
          0.24236836367183262,
          0.2490606294436888,
          0.2508597035299648,
          0.26629439927637577
         ],
         "yaxis": "y4"
        },
        {
         "marker": {
          "color": [
           0,
           1,
           2,
           3,
           4,
           5,
           6,
           7,
           10,
           14,
           15,
           16,
           17,
           19,
           20,
           21,
           22,
           23,
           24,
           25,
           27,
           28,
           29,
           31,
           32,
           33,
           34,
           35,
           36,
           42,
           43,
           44,
           45,
           47,
           48,
           51,
           52,
           53,
           55,
           59,
           62,
           64,
           65,
           67,
           68,
           71,
           72,
           73,
           76,
           79,
           80,
           81,
           82,
           85,
           86,
           88,
           91,
           92,
           93,
           94,
           95,
           98,
           99
          ],
          "colorbar": {
           "title": {
            "text": "Trial"
           },
           "x": 1,
           "xpad": 40
          },
          "colorscale": [
           [
            0,
            "rgb(247,251,255)"
           ],
           [
            0.125,
            "rgb(222,235,247)"
           ],
           [
            0.25,
            "rgb(198,219,239)"
           ],
           [
            0.375,
            "rgb(158,202,225)"
           ],
           [
            0.5,
            "rgb(107,174,214)"
           ],
           [
            0.625,
            "rgb(66,146,198)"
           ],
           [
            0.75,
            "rgb(33,113,181)"
           ],
           [
            0.875,
            "rgb(8,81,156)"
           ],
           [
            1,
            "rgb(8,48,107)"
           ]
          ],
          "line": {
           "color": "Grey",
           "width": 0.5
          },
          "showscale": false
         },
         "mode": "markers",
         "showlegend": false,
         "type": "scatter",
         "x": [
          4,
          7,
          3,
          10,
          8,
          6,
          11,
          13,
          13,
          12,
          10,
          1,
          2,
          1,
          5,
          1,
          3,
          2,
          2,
          1,
          4,
          8,
          3,
          3,
          3,
          3,
          3,
          5,
          4,
          2,
          3,
          5,
          7,
          8,
          9,
          4,
          3,
          1,
          7,
          8,
          5,
          5,
          6,
          5,
          7,
          3,
          2,
          2,
          3,
          3,
          4,
          3,
          2,
          2,
          3,
          4,
          3,
          3,
          3,
          5,
          5,
          6,
          5
         ],
         "xaxis": "x5",
         "y": [
          0.4446168430149555,
          0.730725499716672,
          0.5117237459099482,
          0.2676942315366533,
          0.6723012216389179,
          0.3140707593411207,
          0.33913436957768034,
          0.25604898769121903,
          0.2712962857913226,
          0.29718612822202534,
          0.2873523467116886,
          0.250072470969624,
          0.26273325227555777,
          0.26862444254485046,
          0.26721169985830784,
          0.27242452260993777,
          0.27255570533729734,
          0.27993245515972376,
          0.25754492823034525,
          0.2598910965025425,
          0.26958812959492207,
          0.2840522961183028,
          0.2522690114047792,
          0.24615790943304697,
          0.26900702052646214,
          0.25030556817849475,
          0.25226836072074044,
          0.25380293652415276,
          0.25901587141884697,
          0.26369955187494104,
          0.24597782558865017,
          0.26522068408402527,
          0.2492119800299406,
          0.2733392510563135,
          0.26239403896033764,
          0.26817180758172815,
          0.24963095784187317,
          0.2545858720938365,
          0.24833550055821738,
          0.31482233479619026,
          0.24922352758320895,
          0.2505142201076854,
          0.2533429182238049,
          0.2669638395309448,
          0.26226233773761326,
          0.2519530521498786,
          0.24927696420086753,
          0.26062609627842903,
          0.25837090114752453,
          0.2636747222680312,
          0.26690472662448883,
          0.2553761866357591,
          0.2435563455025355,
          0.250805311732822,
          0.24919878939787546,
          0.24940132598082224,
          0.23998218443658617,
          0.2500247094366286,
          0.250877751244439,
          0.24236836367183262,
          0.2490606294436888,
          0.2508597035299648,
          0.26629439927637577
         ],
         "yaxis": "y5"
        },
        {
         "marker": {
          "color": [
           0,
           1,
           2,
           3,
           4,
           5,
           6,
           7,
           10,
           14,
           15,
           16,
           17,
           19,
           20,
           21,
           22,
           23,
           24,
           25,
           27,
           28,
           29,
           31,
           32,
           33,
           34,
           35,
           36,
           42,
           43,
           44,
           45,
           47,
           48,
           51,
           52,
           53,
           55,
           59,
           62,
           64,
           65,
           67,
           68,
           71,
           72,
           73,
           76,
           79,
           80,
           81,
           82,
           85,
           86,
           88,
           91,
           92,
           93,
           94,
           95,
           98,
           99
          ],
          "colorbar": {
           "title": {
            "text": "Trial"
           },
           "x": 1,
           "xpad": 40
          },
          "colorscale": [
           [
            0,
            "rgb(247,251,255)"
           ],
           [
            0.125,
            "rgb(222,235,247)"
           ],
           [
            0.25,
            "rgb(198,219,239)"
           ],
           [
            0.375,
            "rgb(158,202,225)"
           ],
           [
            0.5,
            "rgb(107,174,214)"
           ],
           [
            0.625,
            "rgb(66,146,198)"
           ],
           [
            0.75,
            "rgb(33,113,181)"
           ],
           [
            0.875,
            "rgb(8,81,156)"
           ],
           [
            1,
            "rgb(8,48,107)"
           ]
          ],
          "line": {
           "color": "Grey",
           "width": 0.5
          },
          "showscale": false
         },
         "mode": "markers",
         "showlegend": false,
         "type": "scatter",
         "x": [
          true,
          false,
          false,
          false,
          false,
          true,
          true,
          false,
          false,
          false,
          true,
          false,
          false,
          false,
          false,
          false,
          false,
          false,
          false,
          false,
          false,
          false,
          true,
          true,
          true,
          true,
          true,
          true,
          true,
          true,
          true,
          true,
          true,
          true,
          true,
          true,
          true,
          true,
          true,
          true,
          true,
          true,
          true,
          true,
          false,
          true,
          true,
          true,
          true,
          false,
          true,
          true,
          true,
          true,
          true,
          true,
          true,
          true,
          true,
          true,
          true,
          true,
          true
         ],
         "xaxis": "x6",
         "y": [
          0.4446168430149555,
          0.730725499716672,
          0.5117237459099482,
          0.2676942315366533,
          0.6723012216389179,
          0.3140707593411207,
          0.33913436957768034,
          0.25604898769121903,
          0.2712962857913226,
          0.29718612822202534,
          0.2873523467116886,
          0.250072470969624,
          0.26273325227555777,
          0.26862444254485046,
          0.26721169985830784,
          0.27242452260993777,
          0.27255570533729734,
          0.27993245515972376,
          0.25754492823034525,
          0.2598910965025425,
          0.26958812959492207,
          0.2840522961183028,
          0.2522690114047792,
          0.24615790943304697,
          0.26900702052646214,
          0.25030556817849475,
          0.25226836072074044,
          0.25380293652415276,
          0.25901587141884697,
          0.26369955187494104,
          0.24597782558865017,
          0.26522068408402527,
          0.2492119800299406,
          0.2733392510563135,
          0.26239403896033764,
          0.26817180758172815,
          0.24963095784187317,
          0.2545858720938365,
          0.24833550055821738,
          0.31482233479619026,
          0.24922352758320895,
          0.2505142201076854,
          0.2533429182238049,
          0.2669638395309448,
          0.26226233773761326,
          0.2519530521498786,
          0.24927696420086753,
          0.26062609627842903,
          0.25837090114752453,
          0.2636747222680312,
          0.26690472662448883,
          0.2553761866357591,
          0.2435563455025355,
          0.250805311732822,
          0.24919878939787546,
          0.24940132598082224,
          0.23998218443658617,
          0.2500247094366286,
          0.250877751244439,
          0.24236836367183262,
          0.2490606294436888,
          0.2508597035299648,
          0.26629439927637577
         ],
         "yaxis": "y6"
        },
        {
         "marker": {
          "color": [
           0,
           1,
           2,
           3,
           4,
           5,
           6,
           7,
           10,
           14,
           15,
           16,
           17,
           19,
           20,
           21,
           22,
           23,
           24,
           25,
           27,
           28,
           29,
           31,
           32,
           33,
           34,
           35,
           36,
           42,
           43,
           44,
           45,
           47,
           48,
           51,
           52,
           53,
           55,
           59,
           62,
           64,
           65,
           67,
           68,
           71,
           72,
           73,
           76,
           79,
           80,
           81,
           82,
           85,
           86,
           88,
           91,
           92,
           93,
           94,
           95,
           98,
           99
          ],
          "colorbar": {
           "title": {
            "text": "Trial"
           },
           "x": 1,
           "xpad": 40
          },
          "colorscale": [
           [
            0,
            "rgb(247,251,255)"
           ],
           [
            0.125,
            "rgb(222,235,247)"
           ],
           [
            0.25,
            "rgb(198,219,239)"
           ],
           [
            0.375,
            "rgb(158,202,225)"
           ],
           [
            0.5,
            "rgb(107,174,214)"
           ],
           [
            0.625,
            "rgb(66,146,198)"
           ],
           [
            0.75,
            "rgb(33,113,181)"
           ],
           [
            0.875,
            "rgb(8,81,156)"
           ],
           [
            1,
            "rgb(8,48,107)"
           ]
          ],
          "line": {
           "color": "Grey",
           "width": 0.5
          },
          "showscale": false
         },
         "mode": "markers",
         "showlegend": false,
         "type": "scatter",
         "x": [
          280,
          270,
          160,
          150,
          300,
          170,
          270,
          250,
          230,
          140,
          200,
          100,
          100,
          180,
          120,
          100,
          110,
          130,
          250,
          250,
          300,
          250,
          280,
          260,
          270,
          280,
          290,
          290,
          300,
          290,
          260,
          240,
          260,
          270,
          260,
          240,
          290,
          280,
          260,
          220,
          270,
          240,
          230,
          250,
          170,
          270,
          280,
          260,
          290,
          270,
          300,
          280,
          260,
          260,
          270,
          290,
          290,
          290,
          280,
          300,
          300,
          300,
          270
         ],
         "xaxis": "x7",
         "y": [
          0.4446168430149555,
          0.730725499716672,
          0.5117237459099482,
          0.2676942315366533,
          0.6723012216389179,
          0.3140707593411207,
          0.33913436957768034,
          0.25604898769121903,
          0.2712962857913226,
          0.29718612822202534,
          0.2873523467116886,
          0.250072470969624,
          0.26273325227555777,
          0.26862444254485046,
          0.26721169985830784,
          0.27242452260993777,
          0.27255570533729734,
          0.27993245515972376,
          0.25754492823034525,
          0.2598910965025425,
          0.26958812959492207,
          0.2840522961183028,
          0.2522690114047792,
          0.24615790943304697,
          0.26900702052646214,
          0.25030556817849475,
          0.25226836072074044,
          0.25380293652415276,
          0.25901587141884697,
          0.26369955187494104,
          0.24597782558865017,
          0.26522068408402527,
          0.2492119800299406,
          0.2733392510563135,
          0.26239403896033764,
          0.26817180758172815,
          0.24963095784187317,
          0.2545858720938365,
          0.24833550055821738,
          0.31482233479619026,
          0.24922352758320895,
          0.2505142201076854,
          0.2533429182238049,
          0.2669638395309448,
          0.26226233773761326,
          0.2519530521498786,
          0.24927696420086753,
          0.26062609627842903,
          0.25837090114752453,
          0.2636747222680312,
          0.26690472662448883,
          0.2553761866357591,
          0.2435563455025355,
          0.250805311732822,
          0.24919878939787546,
          0.24940132598082224,
          0.23998218443658617,
          0.2500247094366286,
          0.250877751244439,
          0.24236836367183262,
          0.2490606294436888,
          0.2508597035299648,
          0.26629439927637577
         ],
         "yaxis": "y7"
        },
        {
         "marker": {
          "color": [
           0,
           1,
           2,
           3,
           4,
           5,
           6,
           7,
           10,
           14,
           15,
           16,
           17,
           19,
           20,
           21,
           22,
           23,
           24,
           25,
           27,
           28,
           29,
           31,
           32,
           33,
           34,
           35,
           36,
           42,
           43,
           44,
           45,
           47,
           48,
           51,
           52,
           53,
           55,
           59,
           62,
           64,
           65,
           67,
           68,
           71,
           72,
           73,
           76,
           79,
           80,
           81,
           82,
           85,
           86,
           88,
           91,
           92,
           93,
           94,
           95,
           98,
           99
          ],
          "colorbar": {
           "title": {
            "text": "Trial"
           },
           "x": 1,
           "xpad": 40
          },
          "colorscale": [
           [
            0,
            "rgb(247,251,255)"
           ],
           [
            0.125,
            "rgb(222,235,247)"
           ],
           [
            0.25,
            "rgb(198,219,239)"
           ],
           [
            0.375,
            "rgb(158,202,225)"
           ],
           [
            0.5,
            "rgb(107,174,214)"
           ],
           [
            0.625,
            "rgb(66,146,198)"
           ],
           [
            0.75,
            "rgb(33,113,181)"
           ],
           [
            0.875,
            "rgb(8,81,156)"
           ],
           [
            1,
            "rgb(8,48,107)"
           ]
          ],
          "line": {
           "color": "Grey",
           "width": 0.5
          },
          "showscale": false
         },
         "mode": "markers",
         "showlegend": false,
         "type": "scatter",
         "x": [
          0.00011559955517185576,
          2.2098183790587996e-7,
          0.00000885275149730791,
          0.00036395552932453983,
          0.0000015091005228232322,
          0.054167375206091384,
          0.006567915134389158,
          0.029555953254341016,
          0.002189723493256008,
          0.000020211587453684984,
          0.008018184833108032,
          0.0006141228160181547,
          0.007807173033913387,
          0.08503064548936277,
          0.013565756701634709,
          0.0017972214088929604,
          0.012424083988544273,
          0.003149354044336472,
          0.0004916663184891787,
          0.0006807661783914115,
          0.00008979325458953446,
          0.0002720407362061604,
          0.020444903001525225,
          0.0033956084039836335,
          0.023342145924235818,
          0.004722858141772513,
          0.003938335464655694,
          0.004471474863361872,
          0.00134326603215106,
          0.013918288196746557,
          0.004976155798328318,
          0.002594123225123045,
          0.005927827773436723,
          0.006664749175874788,
          0.0009977091473159607,
          0.005614887032451263,
          0.003637546492673381,
          0.012611820528184948,
          0.0023333785918522873,
          0.0077542686440377285,
          0.0015866277540867973,
          0.0012287208576234443,
          0.0027507080914917206,
          0.007532172647616361,
          0.010139654533108663,
          0.004060521067421256,
          0.005322495139330535,
          0.0014928623566761781,
          0.015490350582148265,
          0.009697980408197379,
          0.0024029333263320403,
          0.005466902699081662,
          0.0039688187135490365,
          0.0019526492289155455,
          0.0005679732207468269,
          0.003683494726856602,
          0.004879653946026251,
          0.00555030328858058,
          0.0013534988495158583,
          0.002342030266759597,
          0.0020557114261460716,
          0.002074593489170885,
          0.0028691519729190057
         ],
         "xaxis": "x8",
         "y": [
          0.4446168430149555,
          0.730725499716672,
          0.5117237459099482,
          0.2676942315366533,
          0.6723012216389179,
          0.3140707593411207,
          0.33913436957768034,
          0.25604898769121903,
          0.2712962857913226,
          0.29718612822202534,
          0.2873523467116886,
          0.250072470969624,
          0.26273325227555777,
          0.26862444254485046,
          0.26721169985830784,
          0.27242452260993777,
          0.27255570533729734,
          0.27993245515972376,
          0.25754492823034525,
          0.2598910965025425,
          0.26958812959492207,
          0.2840522961183028,
          0.2522690114047792,
          0.24615790943304697,
          0.26900702052646214,
          0.25030556817849475,
          0.25226836072074044,
          0.25380293652415276,
          0.25901587141884697,
          0.26369955187494104,
          0.24597782558865017,
          0.26522068408402527,
          0.2492119800299406,
          0.2733392510563135,
          0.26239403896033764,
          0.26817180758172815,
          0.24963095784187317,
          0.2545858720938365,
          0.24833550055821738,
          0.31482233479619026,
          0.24922352758320895,
          0.2505142201076854,
          0.2533429182238049,
          0.2669638395309448,
          0.26226233773761326,
          0.2519530521498786,
          0.24927696420086753,
          0.26062609627842903,
          0.25837090114752453,
          0.2636747222680312,
          0.26690472662448883,
          0.2553761866357591,
          0.2435563455025355,
          0.250805311732822,
          0.24919878939787546,
          0.24940132598082224,
          0.23998218443658617,
          0.2500247094366286,
          0.250877751244439,
          0.24236836367183262,
          0.2490606294436888,
          0.2508597035299648,
          0.26629439927637577
         ],
         "yaxis": "y8"
        },
        {
         "marker": {
          "color": [
           0,
           1,
           2,
           3,
           4,
           5,
           6,
           7,
           10,
           14,
           15,
           16,
           17,
           19,
           20,
           21,
           22,
           23,
           24,
           25,
           27,
           28,
           29,
           31,
           32,
           33,
           34,
           35,
           36,
           42,
           43,
           44,
           45,
           47,
           48,
           51,
           52,
           53,
           55,
           59,
           62,
           64,
           65,
           67,
           68,
           71,
           72,
           73,
           76,
           79,
           80,
           81,
           82,
           85,
           86,
           88,
           91,
           92,
           93,
           94,
           95,
           98,
           99
          ],
          "colorbar": {
           "title": {
            "text": "Trial"
           },
           "x": 1,
           "xpad": 40
          },
          "colorscale": [
           [
            0,
            "rgb(247,251,255)"
           ],
           [
            0.125,
            "rgb(222,235,247)"
           ],
           [
            0.25,
            "rgb(198,219,239)"
           ],
           [
            0.375,
            "rgb(158,202,225)"
           ],
           [
            0.5,
            "rgb(107,174,214)"
           ],
           [
            0.625,
            "rgb(66,146,198)"
           ],
           [
            0.75,
            "rgb(33,113,181)"
           ],
           [
            0.875,
            "rgb(8,81,156)"
           ],
           [
            1,
            "rgb(8,48,107)"
           ]
          ],
          "line": {
           "color": "Grey",
           "width": 0.5
          },
          "showscale": false
         },
         "mode": "markers",
         "showlegend": false,
         "type": "scatter",
         "x": [
          22,
          24,
          2,
          11,
          28,
          23,
          25,
          4,
          14,
          17,
          14,
          6,
          6,
          6,
          17,
          6,
          6,
          7,
          12,
          13,
          11,
          4,
          19,
          18,
          20,
          19,
          20,
          26,
          22,
          22,
          15,
          15,
          17,
          14,
          26,
          23,
          21,
          15,
          21,
          13,
          19,
          23,
          19,
          21,
          1,
          20,
          19,
          17,
          19,
          13,
          10,
          20,
          19,
          22,
          16,
          16,
          15,
          15,
          12,
          14,
          14,
          13,
          15
         ],
         "xaxis": "x9",
         "y": [
          0.4446168430149555,
          0.730725499716672,
          0.5117237459099482,
          0.2676942315366533,
          0.6723012216389179,
          0.3140707593411207,
          0.33913436957768034,
          0.25604898769121903,
          0.2712962857913226,
          0.29718612822202534,
          0.2873523467116886,
          0.250072470969624,
          0.26273325227555777,
          0.26862444254485046,
          0.26721169985830784,
          0.27242452260993777,
          0.27255570533729734,
          0.27993245515972376,
          0.25754492823034525,
          0.2598910965025425,
          0.26958812959492207,
          0.2840522961183028,
          0.2522690114047792,
          0.24615790943304697,
          0.26900702052646214,
          0.25030556817849475,
          0.25226836072074044,
          0.25380293652415276,
          0.25901587141884697,
          0.26369955187494104,
          0.24597782558865017,
          0.26522068408402527,
          0.2492119800299406,
          0.2733392510563135,
          0.26239403896033764,
          0.26817180758172815,
          0.24963095784187317,
          0.2545858720938365,
          0.24833550055821738,
          0.31482233479619026,
          0.24922352758320895,
          0.2505142201076854,
          0.2533429182238049,
          0.2669638395309448,
          0.26226233773761326,
          0.2519530521498786,
          0.24927696420086753,
          0.26062609627842903,
          0.25837090114752453,
          0.2636747222680312,
          0.26690472662448883,
          0.2553761866357591,
          0.2435563455025355,
          0.250805311732822,
          0.24919878939787546,
          0.24940132598082224,
          0.23998218443658617,
          0.2500247094366286,
          0.250877751244439,
          0.24236836367183262,
          0.2490606294436888,
          0.2508597035299648,
          0.26629439927637577
         ],
         "yaxis": "y9"
        },
        {
         "marker": {
          "color": [
           0,
           1,
           2,
           3,
           4,
           5,
           6,
           7,
           10,
           14,
           15,
           16,
           17,
           19,
           20,
           21,
           22,
           23,
           24,
           25,
           27,
           28,
           29,
           31,
           32,
           33,
           34,
           35,
           36,
           42,
           43,
           44,
           45,
           47,
           48,
           51,
           52,
           53,
           55,
           59,
           62,
           64,
           65,
           67,
           68,
           71,
           72,
           73,
           76,
           79,
           80,
           81,
           82,
           85,
           86,
           88,
           91,
           92,
           93,
           94,
           95,
           98,
           99
          ],
          "colorbar": {
           "title": {
            "text": "Trial"
           },
           "x": 1,
           "xpad": 40
          },
          "colorscale": [
           [
            0,
            "rgb(247,251,255)"
           ],
           [
            0.125,
            "rgb(222,235,247)"
           ],
           [
            0.25,
            "rgb(198,219,239)"
           ],
           [
            0.375,
            "rgb(158,202,225)"
           ],
           [
            0.5,
            "rgb(107,174,214)"
           ],
           [
            0.625,
            "rgb(66,146,198)"
           ],
           [
            0.75,
            "rgb(33,113,181)"
           ],
           [
            0.875,
            "rgb(8,81,156)"
           ],
           [
            1,
            "rgb(8,48,107)"
           ]
          ],
          "line": {
           "color": "Grey",
           "width": 0.5
          },
          "showscale": false
         },
         "mode": "markers",
         "showlegend": false,
         "type": "scatter",
         "x": [
          8,
          2,
          4,
          7,
          9,
          7,
          10,
          3,
          1,
          6,
          5,
          3,
          1,
          3,
          2,
          1,
          2,
          1,
          4,
          4,
          3,
          4,
          6,
          6,
          6,
          8,
          8,
          8,
          8,
          8,
          6,
          7,
          8,
          7,
          9,
          8,
          8,
          8,
          7,
          7,
          8,
          7,
          9,
          10,
          7,
          8,
          8,
          9,
          6,
          4,
          7,
          8,
          8,
          8,
          7,
          8,
          8,
          8,
          7,
          8,
          9,
          9,
          6
         ],
         "xaxis": "x10",
         "y": [
          0.4446168430149555,
          0.730725499716672,
          0.5117237459099482,
          0.2676942315366533,
          0.6723012216389179,
          0.3140707593411207,
          0.33913436957768034,
          0.25604898769121903,
          0.2712962857913226,
          0.29718612822202534,
          0.2873523467116886,
          0.250072470969624,
          0.26273325227555777,
          0.26862444254485046,
          0.26721169985830784,
          0.27242452260993777,
          0.27255570533729734,
          0.27993245515972376,
          0.25754492823034525,
          0.2598910965025425,
          0.26958812959492207,
          0.2840522961183028,
          0.2522690114047792,
          0.24615790943304697,
          0.26900702052646214,
          0.25030556817849475,
          0.25226836072074044,
          0.25380293652415276,
          0.25901587141884697,
          0.26369955187494104,
          0.24597782558865017,
          0.26522068408402527,
          0.2492119800299406,
          0.2733392510563135,
          0.26239403896033764,
          0.26817180758172815,
          0.24963095784187317,
          0.2545858720938365,
          0.24833550055821738,
          0.31482233479619026,
          0.24922352758320895,
          0.2505142201076854,
          0.2533429182238049,
          0.2669638395309448,
          0.26226233773761326,
          0.2519530521498786,
          0.24927696420086753,
          0.26062609627842903,
          0.25837090114752453,
          0.2636747222680312,
          0.26690472662448883,
          0.2553761866357591,
          0.2435563455025355,
          0.250805311732822,
          0.24919878939787546,
          0.24940132598082224,
          0.23998218443658617,
          0.2500247094366286,
          0.250877751244439,
          0.24236836367183262,
          0.2490606294436888,
          0.2508597035299648,
          0.26629439927637577
         ],
         "yaxis": "y10"
        },
        {
         "marker": {
          "color": [
           0,
           1,
           2,
           3,
           4,
           5,
           6,
           7,
           10,
           14,
           15,
           16,
           17,
           19,
           20,
           21,
           22,
           23,
           24,
           25,
           27,
           28,
           29,
           31,
           32,
           33,
           34,
           35,
           36,
           42,
           43,
           44,
           45,
           47,
           48,
           51,
           52,
           53,
           55,
           59,
           62,
           64,
           65,
           67,
           68,
           71,
           72,
           73,
           76,
           79,
           80,
           81,
           82,
           85,
           86,
           88,
           91,
           92,
           93,
           94,
           95,
           98,
           99
          ],
          "colorbar": {
           "title": {
            "text": "Trial"
           },
           "x": 1,
           "xpad": 40
          },
          "colorscale": [
           [
            0,
            "rgb(247,251,255)"
           ],
           [
            0.125,
            "rgb(222,235,247)"
           ],
           [
            0.25,
            "rgb(198,219,239)"
           ],
           [
            0.375,
            "rgb(158,202,225)"
           ],
           [
            0.5,
            "rgb(107,174,214)"
           ],
           [
            0.625,
            "rgb(66,146,198)"
           ],
           [
            0.75,
            "rgb(33,113,181)"
           ],
           [
            0.875,
            "rgb(8,81,156)"
           ],
           [
            1,
            "rgb(8,48,107)"
           ]
          ],
          "line": {
           "color": "Grey",
           "width": 0.5
          },
          "showscale": false
         },
         "mode": "markers",
         "showlegend": false,
         "type": "scatter",
         "x": [
          "AvgPool1d",
          "AvgPool1d",
          "AvgPool1d",
          "MaxPool1d",
          "MaxPool1d",
          "MaxPool1d",
          "MaxPool1d",
          "AvgPool1d",
          "AvgPool1d",
          "MaxPool1d",
          "AvgPool1d",
          "AvgPool1d",
          "AvgPool1d",
          "AvgPool1d",
          "AvgPool1d",
          "AvgPool1d",
          "AvgPool1d",
          "AvgPool1d",
          "AvgPool1d",
          "AvgPool1d",
          "AvgPool1d",
          "AvgPool1d",
          "AvgPool1d",
          "AvgPool1d",
          "AvgPool1d",
          "AvgPool1d",
          "AvgPool1d",
          "AvgPool1d",
          "AvgPool1d",
          "AvgPool1d",
          "AvgPool1d",
          "AvgPool1d",
          "AvgPool1d",
          "AvgPool1d",
          "AvgPool1d",
          "AvgPool1d",
          "AvgPool1d",
          "AvgPool1d",
          "AvgPool1d",
          "AvgPool1d",
          "AvgPool1d",
          "AvgPool1d",
          "AvgPool1d",
          "AvgPool1d",
          "AvgPool1d",
          "AvgPool1d",
          "AvgPool1d",
          "AvgPool1d",
          "AvgPool1d",
          "AvgPool1d",
          "AvgPool1d",
          "AvgPool1d",
          "AvgPool1d",
          "AvgPool1d",
          "AvgPool1d",
          "AvgPool1d",
          "AvgPool1d",
          "AvgPool1d",
          "AvgPool1d",
          "AvgPool1d",
          "AvgPool1d",
          "AvgPool1d",
          "AvgPool1d"
         ],
         "xaxis": "x11",
         "y": [
          0.4446168430149555,
          0.730725499716672,
          0.5117237459099482,
          0.2676942315366533,
          0.6723012216389179,
          0.3140707593411207,
          0.33913436957768034,
          0.25604898769121903,
          0.2712962857913226,
          0.29718612822202534,
          0.2873523467116886,
          0.250072470969624,
          0.26273325227555777,
          0.26862444254485046,
          0.26721169985830784,
          0.27242452260993777,
          0.27255570533729734,
          0.27993245515972376,
          0.25754492823034525,
          0.2598910965025425,
          0.26958812959492207,
          0.2840522961183028,
          0.2522690114047792,
          0.24615790943304697,
          0.26900702052646214,
          0.25030556817849475,
          0.25226836072074044,
          0.25380293652415276,
          0.25901587141884697,
          0.26369955187494104,
          0.24597782558865017,
          0.26522068408402527,
          0.2492119800299406,
          0.2733392510563135,
          0.26239403896033764,
          0.26817180758172815,
          0.24963095784187317,
          0.2545858720938365,
          0.24833550055821738,
          0.31482233479619026,
          0.24922352758320895,
          0.2505142201076854,
          0.2533429182238049,
          0.2669638395309448,
          0.26226233773761326,
          0.2519530521498786,
          0.24927696420086753,
          0.26062609627842903,
          0.25837090114752453,
          0.2636747222680312,
          0.26690472662448883,
          0.2553761866357591,
          0.2435563455025355,
          0.250805311732822,
          0.24919878939787546,
          0.24940132598082224,
          0.23998218443658617,
          0.2500247094366286,
          0.250877751244439,
          0.24236836367183262,
          0.2490606294436888,
          0.2508597035299648,
          0.26629439927637577
         ],
         "yaxis": "y11"
        }
       ],
       "layout": {
        "template": {
         "data": {
          "bar": [
           {
            "error_x": {
             "color": "#2a3f5f"
            },
            "error_y": {
             "color": "#2a3f5f"
            },
            "marker": {
             "line": {
              "color": "#E5ECF6",
              "width": 0.5
             },
             "pattern": {
              "fillmode": "overlay",
              "size": 10,
              "solidity": 0.2
             }
            },
            "type": "bar"
           }
          ],
          "barpolar": [
           {
            "marker": {
             "line": {
              "color": "#E5ECF6",
              "width": 0.5
             },
             "pattern": {
              "fillmode": "overlay",
              "size": 10,
              "solidity": 0.2
             }
            },
            "type": "barpolar"
           }
          ],
          "carpet": [
           {
            "aaxis": {
             "endlinecolor": "#2a3f5f",
             "gridcolor": "white",
             "linecolor": "white",
             "minorgridcolor": "white",
             "startlinecolor": "#2a3f5f"
            },
            "baxis": {
             "endlinecolor": "#2a3f5f",
             "gridcolor": "white",
             "linecolor": "white",
             "minorgridcolor": "white",
             "startlinecolor": "#2a3f5f"
            },
            "type": "carpet"
           }
          ],
          "choropleth": [
           {
            "colorbar": {
             "outlinewidth": 0,
             "ticks": ""
            },
            "type": "choropleth"
           }
          ],
          "contour": [
           {
            "colorbar": {
             "outlinewidth": 0,
             "ticks": ""
            },
            "colorscale": [
             [
              0,
              "#0d0887"
             ],
             [
              0.1111111111111111,
              "#46039f"
             ],
             [
              0.2222222222222222,
              "#7201a8"
             ],
             [
              0.3333333333333333,
              "#9c179e"
             ],
             [
              0.4444444444444444,
              "#bd3786"
             ],
             [
              0.5555555555555556,
              "#d8576b"
             ],
             [
              0.6666666666666666,
              "#ed7953"
             ],
             [
              0.7777777777777778,
              "#fb9f3a"
             ],
             [
              0.8888888888888888,
              "#fdca26"
             ],
             [
              1,
              "#f0f921"
             ]
            ],
            "type": "contour"
           }
          ],
          "contourcarpet": [
           {
            "colorbar": {
             "outlinewidth": 0,
             "ticks": ""
            },
            "type": "contourcarpet"
           }
          ],
          "heatmap": [
           {
            "colorbar": {
             "outlinewidth": 0,
             "ticks": ""
            },
            "colorscale": [
             [
              0,
              "#0d0887"
             ],
             [
              0.1111111111111111,
              "#46039f"
             ],
             [
              0.2222222222222222,
              "#7201a8"
             ],
             [
              0.3333333333333333,
              "#9c179e"
             ],
             [
              0.4444444444444444,
              "#bd3786"
             ],
             [
              0.5555555555555556,
              "#d8576b"
             ],
             [
              0.6666666666666666,
              "#ed7953"
             ],
             [
              0.7777777777777778,
              "#fb9f3a"
             ],
             [
              0.8888888888888888,
              "#fdca26"
             ],
             [
              1,
              "#f0f921"
             ]
            ],
            "type": "heatmap"
           }
          ],
          "heatmapgl": [
           {
            "colorbar": {
             "outlinewidth": 0,
             "ticks": ""
            },
            "colorscale": [
             [
              0,
              "#0d0887"
             ],
             [
              0.1111111111111111,
              "#46039f"
             ],
             [
              0.2222222222222222,
              "#7201a8"
             ],
             [
              0.3333333333333333,
              "#9c179e"
             ],
             [
              0.4444444444444444,
              "#bd3786"
             ],
             [
              0.5555555555555556,
              "#d8576b"
             ],
             [
              0.6666666666666666,
              "#ed7953"
             ],
             [
              0.7777777777777778,
              "#fb9f3a"
             ],
             [
              0.8888888888888888,
              "#fdca26"
             ],
             [
              1,
              "#f0f921"
             ]
            ],
            "type": "heatmapgl"
           }
          ],
          "histogram": [
           {
            "marker": {
             "pattern": {
              "fillmode": "overlay",
              "size": 10,
              "solidity": 0.2
             }
            },
            "type": "histogram"
           }
          ],
          "histogram2d": [
           {
            "colorbar": {
             "outlinewidth": 0,
             "ticks": ""
            },
            "colorscale": [
             [
              0,
              "#0d0887"
             ],
             [
              0.1111111111111111,
              "#46039f"
             ],
             [
              0.2222222222222222,
              "#7201a8"
             ],
             [
              0.3333333333333333,
              "#9c179e"
             ],
             [
              0.4444444444444444,
              "#bd3786"
             ],
             [
              0.5555555555555556,
              "#d8576b"
             ],
             [
              0.6666666666666666,
              "#ed7953"
             ],
             [
              0.7777777777777778,
              "#fb9f3a"
             ],
             [
              0.8888888888888888,
              "#fdca26"
             ],
             [
              1,
              "#f0f921"
             ]
            ],
            "type": "histogram2d"
           }
          ],
          "histogram2dcontour": [
           {
            "colorbar": {
             "outlinewidth": 0,
             "ticks": ""
            },
            "colorscale": [
             [
              0,
              "#0d0887"
             ],
             [
              0.1111111111111111,
              "#46039f"
             ],
             [
              0.2222222222222222,
              "#7201a8"
             ],
             [
              0.3333333333333333,
              "#9c179e"
             ],
             [
              0.4444444444444444,
              "#bd3786"
             ],
             [
              0.5555555555555556,
              "#d8576b"
             ],
             [
              0.6666666666666666,
              "#ed7953"
             ],
             [
              0.7777777777777778,
              "#fb9f3a"
             ],
             [
              0.8888888888888888,
              "#fdca26"
             ],
             [
              1,
              "#f0f921"
             ]
            ],
            "type": "histogram2dcontour"
           }
          ],
          "mesh3d": [
           {
            "colorbar": {
             "outlinewidth": 0,
             "ticks": ""
            },
            "type": "mesh3d"
           }
          ],
          "parcoords": [
           {
            "line": {
             "colorbar": {
              "outlinewidth": 0,
              "ticks": ""
             }
            },
            "type": "parcoords"
           }
          ],
          "pie": [
           {
            "automargin": true,
            "type": "pie"
           }
          ],
          "scatter": [
           {
            "fillpattern": {
             "fillmode": "overlay",
             "size": 10,
             "solidity": 0.2
            },
            "type": "scatter"
           }
          ],
          "scatter3d": [
           {
            "line": {
             "colorbar": {
              "outlinewidth": 0,
              "ticks": ""
             }
            },
            "marker": {
             "colorbar": {
              "outlinewidth": 0,
              "ticks": ""
             }
            },
            "type": "scatter3d"
           }
          ],
          "scattercarpet": [
           {
            "marker": {
             "colorbar": {
              "outlinewidth": 0,
              "ticks": ""
             }
            },
            "type": "scattercarpet"
           }
          ],
          "scattergeo": [
           {
            "marker": {
             "colorbar": {
              "outlinewidth": 0,
              "ticks": ""
             }
            },
            "type": "scattergeo"
           }
          ],
          "scattergl": [
           {
            "marker": {
             "colorbar": {
              "outlinewidth": 0,
              "ticks": ""
             }
            },
            "type": "scattergl"
           }
          ],
          "scattermapbox": [
           {
            "marker": {
             "colorbar": {
              "outlinewidth": 0,
              "ticks": ""
             }
            },
            "type": "scattermapbox"
           }
          ],
          "scatterpolar": [
           {
            "marker": {
             "colorbar": {
              "outlinewidth": 0,
              "ticks": ""
             }
            },
            "type": "scatterpolar"
           }
          ],
          "scatterpolargl": [
           {
            "marker": {
             "colorbar": {
              "outlinewidth": 0,
              "ticks": ""
             }
            },
            "type": "scatterpolargl"
           }
          ],
          "scatterternary": [
           {
            "marker": {
             "colorbar": {
              "outlinewidth": 0,
              "ticks": ""
             }
            },
            "type": "scatterternary"
           }
          ],
          "surface": [
           {
            "colorbar": {
             "outlinewidth": 0,
             "ticks": ""
            },
            "colorscale": [
             [
              0,
              "#0d0887"
             ],
             [
              0.1111111111111111,
              "#46039f"
             ],
             [
              0.2222222222222222,
              "#7201a8"
             ],
             [
              0.3333333333333333,
              "#9c179e"
             ],
             [
              0.4444444444444444,
              "#bd3786"
             ],
             [
              0.5555555555555556,
              "#d8576b"
             ],
             [
              0.6666666666666666,
              "#ed7953"
             ],
             [
              0.7777777777777778,
              "#fb9f3a"
             ],
             [
              0.8888888888888888,
              "#fdca26"
             ],
             [
              1,
              "#f0f921"
             ]
            ],
            "type": "surface"
           }
          ],
          "table": [
           {
            "cells": {
             "fill": {
              "color": "#EBF0F8"
             },
             "line": {
              "color": "white"
             }
            },
            "header": {
             "fill": {
              "color": "#C8D4E3"
             },
             "line": {
              "color": "white"
             }
            },
            "type": "table"
           }
          ]
         },
         "layout": {
          "annotationdefaults": {
           "arrowcolor": "#2a3f5f",
           "arrowhead": 0,
           "arrowwidth": 1
          },
          "autotypenumbers": "strict",
          "coloraxis": {
           "colorbar": {
            "outlinewidth": 0,
            "ticks": ""
           }
          },
          "colorscale": {
           "diverging": [
            [
             0,
             "#8e0152"
            ],
            [
             0.1,
             "#c51b7d"
            ],
            [
             0.2,
             "#de77ae"
            ],
            [
             0.3,
             "#f1b6da"
            ],
            [
             0.4,
             "#fde0ef"
            ],
            [
             0.5,
             "#f7f7f7"
            ],
            [
             0.6,
             "#e6f5d0"
            ],
            [
             0.7,
             "#b8e186"
            ],
            [
             0.8,
             "#7fbc41"
            ],
            [
             0.9,
             "#4d9221"
            ],
            [
             1,
             "#276419"
            ]
           ],
           "sequential": [
            [
             0,
             "#0d0887"
            ],
            [
             0.1111111111111111,
             "#46039f"
            ],
            [
             0.2222222222222222,
             "#7201a8"
            ],
            [
             0.3333333333333333,
             "#9c179e"
            ],
            [
             0.4444444444444444,
             "#bd3786"
            ],
            [
             0.5555555555555556,
             "#d8576b"
            ],
            [
             0.6666666666666666,
             "#ed7953"
            ],
            [
             0.7777777777777778,
             "#fb9f3a"
            ],
            [
             0.8888888888888888,
             "#fdca26"
            ],
            [
             1,
             "#f0f921"
            ]
           ],
           "sequentialminus": [
            [
             0,
             "#0d0887"
            ],
            [
             0.1111111111111111,
             "#46039f"
            ],
            [
             0.2222222222222222,
             "#7201a8"
            ],
            [
             0.3333333333333333,
             "#9c179e"
            ],
            [
             0.4444444444444444,
             "#bd3786"
            ],
            [
             0.5555555555555556,
             "#d8576b"
            ],
            [
             0.6666666666666666,
             "#ed7953"
            ],
            [
             0.7777777777777778,
             "#fb9f3a"
            ],
            [
             0.8888888888888888,
             "#fdca26"
            ],
            [
             1,
             "#f0f921"
            ]
           ]
          },
          "colorway": [
           "#636efa",
           "#EF553B",
           "#00cc96",
           "#ab63fa",
           "#FFA15A",
           "#19d3f3",
           "#FF6692",
           "#B6E880",
           "#FF97FF",
           "#FECB52"
          ],
          "font": {
           "color": "#2a3f5f"
          },
          "geo": {
           "bgcolor": "white",
           "lakecolor": "white",
           "landcolor": "#E5ECF6",
           "showlakes": true,
           "showland": true,
           "subunitcolor": "white"
          },
          "hoverlabel": {
           "align": "left"
          },
          "hovermode": "closest",
          "mapbox": {
           "style": "light"
          },
          "paper_bgcolor": "white",
          "plot_bgcolor": "#E5ECF6",
          "polar": {
           "angularaxis": {
            "gridcolor": "white",
            "linecolor": "white",
            "ticks": ""
           },
           "bgcolor": "#E5ECF6",
           "radialaxis": {
            "gridcolor": "white",
            "linecolor": "white",
            "ticks": ""
           }
          },
          "scene": {
           "xaxis": {
            "backgroundcolor": "#E5ECF6",
            "gridcolor": "white",
            "gridwidth": 2,
            "linecolor": "white",
            "showbackground": true,
            "ticks": "",
            "zerolinecolor": "white"
           },
           "yaxis": {
            "backgroundcolor": "#E5ECF6",
            "gridcolor": "white",
            "gridwidth": 2,
            "linecolor": "white",
            "showbackground": true,
            "ticks": "",
            "zerolinecolor": "white"
           },
           "zaxis": {
            "backgroundcolor": "#E5ECF6",
            "gridcolor": "white",
            "gridwidth": 2,
            "linecolor": "white",
            "showbackground": true,
            "ticks": "",
            "zerolinecolor": "white"
           }
          },
          "shapedefaults": {
           "line": {
            "color": "#2a3f5f"
           }
          },
          "ternary": {
           "aaxis": {
            "gridcolor": "white",
            "linecolor": "white",
            "ticks": ""
           },
           "baxis": {
            "gridcolor": "white",
            "linecolor": "white",
            "ticks": ""
           },
           "bgcolor": "#E5ECF6",
           "caxis": {
            "gridcolor": "white",
            "linecolor": "white",
            "ticks": ""
           }
          },
          "title": {
           "x": 0.05
          },
          "xaxis": {
           "automargin": true,
           "gridcolor": "white",
           "linecolor": "white",
           "ticks": "",
           "title": {
            "standoff": 15
           },
           "zerolinecolor": "white",
           "zerolinewidth": 2
          },
          "yaxis": {
           "automargin": true,
           "gridcolor": "white",
           "linecolor": "white",
           "ticks": "",
           "title": {
            "standoff": 15
           },
           "zerolinecolor": "white",
           "zerolinewidth": 2
          }
         }
        },
        "title": {
         "text": "Slice Plot"
        },
        "width": 3300,
        "xaxis": {
         "anchor": "y",
         "domain": [
          0,
          0.07438016528925619
         ],
         "title": {
          "text": "activation_conv"
         }
        },
        "xaxis10": {
         "anchor": "y10",
         "domain": [
          0.8330578512396694,
          0.9074380165289255
         ],
         "title": {
          "text": "n_layers_linear"
         }
        },
        "xaxis11": {
         "anchor": "y11",
         "domain": [
          0.9256198347107437,
          0.9999999999999999
         ],
         "title": {
          "text": "pool"
         }
        },
        "xaxis2": {
         "anchor": "y2",
         "domain": [
          0.09256198347107437,
          0.16694214876033056
         ],
         "title": {
          "text": "activation_lin"
         }
        },
        "xaxis3": {
         "anchor": "y3",
         "domain": [
          0.18512396694214875,
          0.25950413223140495
         ],
         "title": {
          "text": "conv_batchnorm_layer0"
         }
        },
        "xaxis4": {
         "anchor": "y4",
         "domain": [
          0.27768595041322314,
          0.3520661157024793
         ],
         "title": {
          "text": "conv_size_layer1"
         }
        },
        "xaxis5": {
         "anchor": "y5",
         "domain": [
          0.3702479338842975,
          0.44462809917355367
         ],
         "title": {
          "text": "kernel_size_layer0"
         }
        },
        "xaxis6": {
         "anchor": "y6",
         "domain": [
          0.46280991735537186,
          0.5371900826446281
         ],
         "title": {
          "text": "linear_batchnorm_layer0"
         }
        },
        "xaxis7": {
         "anchor": "y7",
         "domain": [
          0.5553719008264462,
          0.6297520661157023
         ],
         "title": {
          "text": "linear_size_layer0"
         }
        },
        "xaxis8": {
         "anchor": "y8",
         "domain": [
          0.6479338842975206,
          0.7223140495867768
         ],
         "title": {
          "text": "lr"
         },
         "type": "log"
        },
        "xaxis9": {
         "anchor": "y9",
         "domain": [
          0.740495867768595,
          0.8148760330578512
         ],
         "title": {
          "text": "n_layers_blocks"
         }
        },
        "yaxis": {
         "anchor": "x",
         "domain": [
          0,
          1
         ],
         "title": {
          "text": "Objective Value"
         }
        },
        "yaxis10": {
         "anchor": "x10",
         "domain": [
          0,
          1
         ],
         "matches": "y",
         "showticklabels": false
        },
        "yaxis11": {
         "anchor": "x11",
         "domain": [
          0,
          1
         ],
         "matches": "y",
         "showticklabels": false
        },
        "yaxis2": {
         "anchor": "x2",
         "domain": [
          0,
          1
         ],
         "matches": "y",
         "showticklabels": false
        },
        "yaxis3": {
         "anchor": "x3",
         "domain": [
          0,
          1
         ],
         "matches": "y",
         "showticklabels": false
        },
        "yaxis4": {
         "anchor": "x4",
         "domain": [
          0,
          1
         ],
         "matches": "y",
         "showticklabels": false
        },
        "yaxis5": {
         "anchor": "x5",
         "domain": [
          0,
          1
         ],
         "matches": "y",
         "showticklabels": false
        },
        "yaxis6": {
         "anchor": "x6",
         "domain": [
          0,
          1
         ],
         "matches": "y",
         "showticklabels": false
        },
        "yaxis7": {
         "anchor": "x7",
         "domain": [
          0,
          1
         ],
         "matches": "y",
         "showticklabels": false
        },
        "yaxis8": {
         "anchor": "x8",
         "domain": [
          0,
          1
         ],
         "matches": "y",
         "showticklabels": false
        },
        "yaxis9": {
         "anchor": "x9",
         "domain": [
          0,
          1
         ],
         "matches": "y",
         "showticklabels": false
        }
       }
      },
      "text/html": [
       "<div>                            <div id=\"9f27a96d-d077-4a0e-a089-8c3d0a3cfac0\" class=\"plotly-graph-div\" style=\"height:525px; width:3300px;\"></div>            <script type=\"text/javascript\">                require([\"plotly\"], function(Plotly) {                    window.PLOTLYENV=window.PLOTLYENV || {};                                    if (document.getElementById(\"9f27a96d-d077-4a0e-a089-8c3d0a3cfac0\")) {                    Plotly.newPlot(                        \"9f27a96d-d077-4a0e-a089-8c3d0a3cfac0\",                        [{\"marker\":{\"color\":[0,1,2,3,4,5,6,7,10,14,15,16,17,19,20,21,22,23,24,25,27,28,29,31,32,33,34,35,36,42,43,44,45,47,48,51,52,53,55,59,62,64,65,67,68,71,72,73,76,79,80,81,82,85,86,88,91,92,93,94,95,98,99],\"colorbar\":{\"title\":{\"text\":\"Trial\"},\"x\":1.0,\"xpad\":40},\"colorscale\":[[0.0,\"rgb(247,251,255)\"],[0.125,\"rgb(222,235,247)\"],[0.25,\"rgb(198,219,239)\"],[0.375,\"rgb(158,202,225)\"],[0.5,\"rgb(107,174,214)\"],[0.625,\"rgb(66,146,198)\"],[0.75,\"rgb(33,113,181)\"],[0.875,\"rgb(8,81,156)\"],[1.0,\"rgb(8,48,107)\"]],\"line\":{\"color\":\"Grey\",\"width\":0.5},\"showscale\":true},\"mode\":\"markers\",\"showlegend\":false,\"x\":[\"LeakyReLU\",\"LeakyReLU\",\"LeakyReLU\",\"ELU\",\"LeakyReLU\",\"LeakyReLU\",\"LeakyReLU\",\"LeakyReLU\",\"ReLU\",\"ReLU\",\"ELU\",\"ELU\",\"ReLU\",\"ELU\",\"ReLU\",\"ReLU\",\"ReLU\",\"ReLU\",\"ReLU\",\"ELU\",\"LeakyReLU\",\"ReLU\",\"ELU\",\"ELU\",\"ELU\",\"ELU\",\"ELU\",\"ELU\",\"ELU\",\"ELU\",\"ELU\",\"ELU\",\"ELU\",\"ELU\",\"ELU\",\"ELU\",\"ELU\",\"ELU\",\"ELU\",\"ELU\",\"ELU\",\"ELU\",\"ELU\",\"ELU\",\"ELU\",\"ELU\",\"ELU\",\"ELU\",\"ELU\",\"ELU\",\"LeakyReLU\",\"ELU\",\"ELU\",\"ELU\",\"ELU\",\"ELU\",\"ELU\",\"ELU\",\"ELU\",\"ELU\",\"ELU\",\"ELU\",\"ELU\"],\"y\":[0.4446168430149555,0.730725499716672,0.5117237459099482,0.2676942315366533,0.6723012216389179,0.3140707593411207,0.33913436957768034,0.25604898769121903,0.2712962857913226,0.29718612822202534,0.2873523467116886,0.250072470969624,0.26273325227555777,0.26862444254485046,0.26721169985830784,0.27242452260993777,0.27255570533729734,0.27993245515972376,0.25754492823034525,0.2598910965025425,0.26958812959492207,0.2840522961183028,0.2522690114047792,0.24615790943304697,0.26900702052646214,0.25030556817849475,0.25226836072074044,0.25380293652415276,0.25901587141884697,0.26369955187494104,0.24597782558865017,0.26522068408402527,0.2492119800299406,0.2733392510563135,0.26239403896033764,0.26817180758172815,0.24963095784187317,0.2545858720938365,0.24833550055821738,0.31482233479619026,0.24922352758320895,0.2505142201076854,0.2533429182238049,0.2669638395309448,0.26226233773761326,0.2519530521498786,0.24927696420086753,0.26062609627842903,0.25837090114752453,0.2636747222680312,0.26690472662448883,0.2553761866357591,0.2435563455025355,0.250805311732822,0.24919878939787546,0.24940132598082224,0.23998218443658617,0.2500247094366286,0.250877751244439,0.24236836367183262,0.2490606294436888,0.2508597035299648,0.26629439927637577],\"type\":\"scatter\",\"xaxis\":\"x\",\"yaxis\":\"y\"},{\"marker\":{\"color\":[0,1,2,3,4,5,6,7,10,14,15,16,17,19,20,21,22,23,24,25,27,28,29,31,32,33,34,35,36,42,43,44,45,47,48,51,52,53,55,59,62,64,65,67,68,71,72,73,76,79,80,81,82,85,86,88,91,92,93,94,95,98,99],\"colorbar\":{\"title\":{\"text\":\"Trial\"},\"x\":1.0,\"xpad\":40},\"colorscale\":[[0.0,\"rgb(247,251,255)\"],[0.125,\"rgb(222,235,247)\"],[0.25,\"rgb(198,219,239)\"],[0.375,\"rgb(158,202,225)\"],[0.5,\"rgb(107,174,214)\"],[0.625,\"rgb(66,146,198)\"],[0.75,\"rgb(33,113,181)\"],[0.875,\"rgb(8,81,156)\"],[1.0,\"rgb(8,48,107)\"]],\"line\":{\"color\":\"Grey\",\"width\":0.5},\"showscale\":false},\"mode\":\"markers\",\"showlegend\":false,\"x\":[\"ELU\",\"LeakyReLU\",\"LeakyReLU\",\"LeakyReLU\",\"LeakyReLU\",\"ELU\",\"LeakyReLU\",\"ELU\",\"ReLU\",\"ReLU\",\"LeakyReLU\",\"ELU\",\"ELU\",\"ELU\",\"ELU\",\"ELU\",\"ELU\",\"ELU\",\"ELU\",\"ELU\",\"ELU\",\"ELU\",\"ELU\",\"ELU\",\"ELU\",\"ELU\",\"ELU\",\"ELU\",\"ReLU\",\"ELU\",\"ELU\",\"LeakyReLU\",\"ELU\",\"ReLU\",\"ELU\",\"ELU\",\"ELU\",\"ELU\",\"ELU\",\"ELU\",\"ELU\",\"ELU\",\"ELU\",\"ELU\",\"ELU\",\"ELU\",\"ELU\",\"ELU\",\"ELU\",\"ELU\",\"LeakyReLU\",\"ELU\",\"ELU\",\"ELU\",\"ELU\",\"ELU\",\"ELU\",\"ELU\",\"ELU\",\"ELU\",\"ELU\",\"LeakyReLU\",\"ELU\"],\"y\":[0.4446168430149555,0.730725499716672,0.5117237459099482,0.2676942315366533,0.6723012216389179,0.3140707593411207,0.33913436957768034,0.25604898769121903,0.2712962857913226,0.29718612822202534,0.2873523467116886,0.250072470969624,0.26273325227555777,0.26862444254485046,0.26721169985830784,0.27242452260993777,0.27255570533729734,0.27993245515972376,0.25754492823034525,0.2598910965025425,0.26958812959492207,0.2840522961183028,0.2522690114047792,0.24615790943304697,0.26900702052646214,0.25030556817849475,0.25226836072074044,0.25380293652415276,0.25901587141884697,0.26369955187494104,0.24597782558865017,0.26522068408402527,0.2492119800299406,0.2733392510563135,0.26239403896033764,0.26817180758172815,0.24963095784187317,0.2545858720938365,0.24833550055821738,0.31482233479619026,0.24922352758320895,0.2505142201076854,0.2533429182238049,0.2669638395309448,0.26226233773761326,0.2519530521498786,0.24927696420086753,0.26062609627842903,0.25837090114752453,0.2636747222680312,0.26690472662448883,0.2553761866357591,0.2435563455025355,0.250805311732822,0.24919878939787546,0.24940132598082224,0.23998218443658617,0.2500247094366286,0.250877751244439,0.24236836367183262,0.2490606294436888,0.2508597035299648,0.26629439927637577],\"type\":\"scatter\",\"xaxis\":\"x2\",\"yaxis\":\"y2\"},{\"marker\":{\"color\":[0,1,2,3,4,5,6,7,10,14,15,16,17,19,20,21,22,23,24,25,27,28,29,31,32,33,34,35,36,42,43,44,45,47,48,51,52,53,55,59,62,64,65,67,68,71,72,73,76,79,80,81,82,85,86,88,91,92,93,94,95,98,99],\"colorbar\":{\"title\":{\"text\":\"Trial\"},\"x\":1.0,\"xpad\":40},\"colorscale\":[[0.0,\"rgb(247,251,255)\"],[0.125,\"rgb(222,235,247)\"],[0.25,\"rgb(198,219,239)\"],[0.375,\"rgb(158,202,225)\"],[0.5,\"rgb(107,174,214)\"],[0.625,\"rgb(66,146,198)\"],[0.75,\"rgb(33,113,181)\"],[0.875,\"rgb(8,81,156)\"],[1.0,\"rgb(8,48,107)\"]],\"line\":{\"color\":\"Grey\",\"width\":0.5},\"showscale\":false},\"mode\":\"markers\",\"showlegend\":false,\"x\":[true,false,true,true,true,true,true,false,false,false,true,true,false,true,false,false,false,false,false,false,false,true,true,true,true,true,true,true,true,true,true,true,true,true,true,true,true,true,true,true,true,true,true,true,true,true,true,true,true,true,true,true,true,false,true,true,true,true,true,true,true,false,true],\"y\":[0.4446168430149555,0.730725499716672,0.5117237459099482,0.2676942315366533,0.6723012216389179,0.3140707593411207,0.33913436957768034,0.25604898769121903,0.2712962857913226,0.29718612822202534,0.2873523467116886,0.250072470969624,0.26273325227555777,0.26862444254485046,0.26721169985830784,0.27242452260993777,0.27255570533729734,0.27993245515972376,0.25754492823034525,0.2598910965025425,0.26958812959492207,0.2840522961183028,0.2522690114047792,0.24615790943304697,0.26900702052646214,0.25030556817849475,0.25226836072074044,0.25380293652415276,0.25901587141884697,0.26369955187494104,0.24597782558865017,0.26522068408402527,0.2492119800299406,0.2733392510563135,0.26239403896033764,0.26817180758172815,0.24963095784187317,0.2545858720938365,0.24833550055821738,0.31482233479619026,0.24922352758320895,0.2505142201076854,0.2533429182238049,0.2669638395309448,0.26226233773761326,0.2519530521498786,0.24927696420086753,0.26062609627842903,0.25837090114752453,0.2636747222680312,0.26690472662448883,0.2553761866357591,0.2435563455025355,0.250805311732822,0.24919878939787546,0.24940132598082224,0.23998218443658617,0.2500247094366286,0.250877751244439,0.24236836367183262,0.2490606294436888,0.2508597035299648,0.26629439927637577],\"type\":\"scatter\",\"xaxis\":\"x3\",\"yaxis\":\"y3\"},{\"marker\":{\"color\":[0,1,2,3,4,5,6,7,10,14,15,16,17,19,20,21,22,23,24,25,27,28,29,31,32,33,34,35,36,42,43,44,45,47,48,51,52,53,55,59,62,64,65,67,71,72,73,76,79,80,81,82,85,86,88,91,92,93,94,95,98,99],\"colorbar\":{\"title\":{\"text\":\"Trial\"},\"x\":1.0,\"xpad\":40},\"colorscale\":[[0.0,\"rgb(247,251,255)\"],[0.125,\"rgb(222,235,247)\"],[0.25,\"rgb(198,219,239)\"],[0.375,\"rgb(158,202,225)\"],[0.5,\"rgb(107,174,214)\"],[0.625,\"rgb(66,146,198)\"],[0.75,\"rgb(33,113,181)\"],[0.875,\"rgb(8,81,156)\"],[1.0,\"rgb(8,48,107)\"]],\"line\":{\"color\":\"Grey\",\"width\":0.5},\"showscale\":false},\"mode\":\"markers\",\"showlegend\":false,\"x\":[100,160,170,230,270,170,300,140,220,250,150,190,190,140,100,180,200,190,220,220,120,220,270,270,280,270,270,260,300,270,260,240,260,230,170,280,260,230,210,210,240,240,250,260,270,240,240,260,180,240,280,270,260,250,240,260,250,270,260,260,280,300],\"y\":[0.4446168430149555,0.730725499716672,0.5117237459099482,0.2676942315366533,0.6723012216389179,0.3140707593411207,0.33913436957768034,0.25604898769121903,0.2712962857913226,0.29718612822202534,0.2873523467116886,0.250072470969624,0.26273325227555777,0.26862444254485046,0.26721169985830784,0.27242452260993777,0.27255570533729734,0.27993245515972376,0.25754492823034525,0.2598910965025425,0.26958812959492207,0.2840522961183028,0.2522690114047792,0.24615790943304697,0.26900702052646214,0.25030556817849475,0.25226836072074044,0.25380293652415276,0.25901587141884697,0.26369955187494104,0.24597782558865017,0.26522068408402527,0.2492119800299406,0.2733392510563135,0.26239403896033764,0.26817180758172815,0.24963095784187317,0.2545858720938365,0.24833550055821738,0.31482233479619026,0.24922352758320895,0.2505142201076854,0.2533429182238049,0.2669638395309448,0.2519530521498786,0.24927696420086753,0.26062609627842903,0.25837090114752453,0.2636747222680312,0.26690472662448883,0.2553761866357591,0.2435563455025355,0.250805311732822,0.24919878939787546,0.24940132598082224,0.23998218443658617,0.2500247094366286,0.250877751244439,0.24236836367183262,0.2490606294436888,0.2508597035299648,0.26629439927637577],\"type\":\"scatter\",\"xaxis\":\"x4\",\"yaxis\":\"y4\"},{\"marker\":{\"color\":[0,1,2,3,4,5,6,7,10,14,15,16,17,19,20,21,22,23,24,25,27,28,29,31,32,33,34,35,36,42,43,44,45,47,48,51,52,53,55,59,62,64,65,67,68,71,72,73,76,79,80,81,82,85,86,88,91,92,93,94,95,98,99],\"colorbar\":{\"title\":{\"text\":\"Trial\"},\"x\":1.0,\"xpad\":40},\"colorscale\":[[0.0,\"rgb(247,251,255)\"],[0.125,\"rgb(222,235,247)\"],[0.25,\"rgb(198,219,239)\"],[0.375,\"rgb(158,202,225)\"],[0.5,\"rgb(107,174,214)\"],[0.625,\"rgb(66,146,198)\"],[0.75,\"rgb(33,113,181)\"],[0.875,\"rgb(8,81,156)\"],[1.0,\"rgb(8,48,107)\"]],\"line\":{\"color\":\"Grey\",\"width\":0.5},\"showscale\":false},\"mode\":\"markers\",\"showlegend\":false,\"x\":[4,7,3,10,8,6,11,13,13,12,10,1,2,1,5,1,3,2,2,1,4,8,3,3,3,3,3,5,4,2,3,5,7,8,9,4,3,1,7,8,5,5,6,5,7,3,2,2,3,3,4,3,2,2,3,4,3,3,3,5,5,6,5],\"y\":[0.4446168430149555,0.730725499716672,0.5117237459099482,0.2676942315366533,0.6723012216389179,0.3140707593411207,0.33913436957768034,0.25604898769121903,0.2712962857913226,0.29718612822202534,0.2873523467116886,0.250072470969624,0.26273325227555777,0.26862444254485046,0.26721169985830784,0.27242452260993777,0.27255570533729734,0.27993245515972376,0.25754492823034525,0.2598910965025425,0.26958812959492207,0.2840522961183028,0.2522690114047792,0.24615790943304697,0.26900702052646214,0.25030556817849475,0.25226836072074044,0.25380293652415276,0.25901587141884697,0.26369955187494104,0.24597782558865017,0.26522068408402527,0.2492119800299406,0.2733392510563135,0.26239403896033764,0.26817180758172815,0.24963095784187317,0.2545858720938365,0.24833550055821738,0.31482233479619026,0.24922352758320895,0.2505142201076854,0.2533429182238049,0.2669638395309448,0.26226233773761326,0.2519530521498786,0.24927696420086753,0.26062609627842903,0.25837090114752453,0.2636747222680312,0.26690472662448883,0.2553761866357591,0.2435563455025355,0.250805311732822,0.24919878939787546,0.24940132598082224,0.23998218443658617,0.2500247094366286,0.250877751244439,0.24236836367183262,0.2490606294436888,0.2508597035299648,0.26629439927637577],\"type\":\"scatter\",\"xaxis\":\"x5\",\"yaxis\":\"y5\"},{\"marker\":{\"color\":[0,1,2,3,4,5,6,7,10,14,15,16,17,19,20,21,22,23,24,25,27,28,29,31,32,33,34,35,36,42,43,44,45,47,48,51,52,53,55,59,62,64,65,67,68,71,72,73,76,79,80,81,82,85,86,88,91,92,93,94,95,98,99],\"colorbar\":{\"title\":{\"text\":\"Trial\"},\"x\":1.0,\"xpad\":40},\"colorscale\":[[0.0,\"rgb(247,251,255)\"],[0.125,\"rgb(222,235,247)\"],[0.25,\"rgb(198,219,239)\"],[0.375,\"rgb(158,202,225)\"],[0.5,\"rgb(107,174,214)\"],[0.625,\"rgb(66,146,198)\"],[0.75,\"rgb(33,113,181)\"],[0.875,\"rgb(8,81,156)\"],[1.0,\"rgb(8,48,107)\"]],\"line\":{\"color\":\"Grey\",\"width\":0.5},\"showscale\":false},\"mode\":\"markers\",\"showlegend\":false,\"x\":[true,false,false,false,false,true,true,false,false,false,true,false,false,false,false,false,false,false,false,false,false,false,true,true,true,true,true,true,true,true,true,true,true,true,true,true,true,true,true,true,true,true,true,true,false,true,true,true,true,false,true,true,true,true,true,true,true,true,true,true,true,true,true],\"y\":[0.4446168430149555,0.730725499716672,0.5117237459099482,0.2676942315366533,0.6723012216389179,0.3140707593411207,0.33913436957768034,0.25604898769121903,0.2712962857913226,0.29718612822202534,0.2873523467116886,0.250072470969624,0.26273325227555777,0.26862444254485046,0.26721169985830784,0.27242452260993777,0.27255570533729734,0.27993245515972376,0.25754492823034525,0.2598910965025425,0.26958812959492207,0.2840522961183028,0.2522690114047792,0.24615790943304697,0.26900702052646214,0.25030556817849475,0.25226836072074044,0.25380293652415276,0.25901587141884697,0.26369955187494104,0.24597782558865017,0.26522068408402527,0.2492119800299406,0.2733392510563135,0.26239403896033764,0.26817180758172815,0.24963095784187317,0.2545858720938365,0.24833550055821738,0.31482233479619026,0.24922352758320895,0.2505142201076854,0.2533429182238049,0.2669638395309448,0.26226233773761326,0.2519530521498786,0.24927696420086753,0.26062609627842903,0.25837090114752453,0.2636747222680312,0.26690472662448883,0.2553761866357591,0.2435563455025355,0.250805311732822,0.24919878939787546,0.24940132598082224,0.23998218443658617,0.2500247094366286,0.250877751244439,0.24236836367183262,0.2490606294436888,0.2508597035299648,0.26629439927637577],\"type\":\"scatter\",\"xaxis\":\"x6\",\"yaxis\":\"y6\"},{\"marker\":{\"color\":[0,1,2,3,4,5,6,7,10,14,15,16,17,19,20,21,22,23,24,25,27,28,29,31,32,33,34,35,36,42,43,44,45,47,48,51,52,53,55,59,62,64,65,67,68,71,72,73,76,79,80,81,82,85,86,88,91,92,93,94,95,98,99],\"colorbar\":{\"title\":{\"text\":\"Trial\"},\"x\":1.0,\"xpad\":40},\"colorscale\":[[0.0,\"rgb(247,251,255)\"],[0.125,\"rgb(222,235,247)\"],[0.25,\"rgb(198,219,239)\"],[0.375,\"rgb(158,202,225)\"],[0.5,\"rgb(107,174,214)\"],[0.625,\"rgb(66,146,198)\"],[0.75,\"rgb(33,113,181)\"],[0.875,\"rgb(8,81,156)\"],[1.0,\"rgb(8,48,107)\"]],\"line\":{\"color\":\"Grey\",\"width\":0.5},\"showscale\":false},\"mode\":\"markers\",\"showlegend\":false,\"x\":[280,270,160,150,300,170,270,250,230,140,200,100,100,180,120,100,110,130,250,250,300,250,280,260,270,280,290,290,300,290,260,240,260,270,260,240,290,280,260,220,270,240,230,250,170,270,280,260,290,270,300,280,260,260,270,290,290,290,280,300,300,300,270],\"y\":[0.4446168430149555,0.730725499716672,0.5117237459099482,0.2676942315366533,0.6723012216389179,0.3140707593411207,0.33913436957768034,0.25604898769121903,0.2712962857913226,0.29718612822202534,0.2873523467116886,0.250072470969624,0.26273325227555777,0.26862444254485046,0.26721169985830784,0.27242452260993777,0.27255570533729734,0.27993245515972376,0.25754492823034525,0.2598910965025425,0.26958812959492207,0.2840522961183028,0.2522690114047792,0.24615790943304697,0.26900702052646214,0.25030556817849475,0.25226836072074044,0.25380293652415276,0.25901587141884697,0.26369955187494104,0.24597782558865017,0.26522068408402527,0.2492119800299406,0.2733392510563135,0.26239403896033764,0.26817180758172815,0.24963095784187317,0.2545858720938365,0.24833550055821738,0.31482233479619026,0.24922352758320895,0.2505142201076854,0.2533429182238049,0.2669638395309448,0.26226233773761326,0.2519530521498786,0.24927696420086753,0.26062609627842903,0.25837090114752453,0.2636747222680312,0.26690472662448883,0.2553761866357591,0.2435563455025355,0.250805311732822,0.24919878939787546,0.24940132598082224,0.23998218443658617,0.2500247094366286,0.250877751244439,0.24236836367183262,0.2490606294436888,0.2508597035299648,0.26629439927637577],\"type\":\"scatter\",\"xaxis\":\"x7\",\"yaxis\":\"y7\"},{\"marker\":{\"color\":[0,1,2,3,4,5,6,7,10,14,15,16,17,19,20,21,22,23,24,25,27,28,29,31,32,33,34,35,36,42,43,44,45,47,48,51,52,53,55,59,62,64,65,67,68,71,72,73,76,79,80,81,82,85,86,88,91,92,93,94,95,98,99],\"colorbar\":{\"title\":{\"text\":\"Trial\"},\"x\":1.0,\"xpad\":40},\"colorscale\":[[0.0,\"rgb(247,251,255)\"],[0.125,\"rgb(222,235,247)\"],[0.25,\"rgb(198,219,239)\"],[0.375,\"rgb(158,202,225)\"],[0.5,\"rgb(107,174,214)\"],[0.625,\"rgb(66,146,198)\"],[0.75,\"rgb(33,113,181)\"],[0.875,\"rgb(8,81,156)\"],[1.0,\"rgb(8,48,107)\"]],\"line\":{\"color\":\"Grey\",\"width\":0.5},\"showscale\":false},\"mode\":\"markers\",\"showlegend\":false,\"x\":[0.00011559955517185576,2.2098183790587996e-07,8.85275149730791e-06,0.00036395552932453983,1.5091005228232322e-06,0.054167375206091384,0.006567915134389158,0.029555953254341016,0.002189723493256008,2.0211587453684984e-05,0.008018184833108032,0.0006141228160181547,0.007807173033913387,0.08503064548936277,0.013565756701634709,0.0017972214088929604,0.012424083988544273,0.003149354044336472,0.0004916663184891787,0.0006807661783914115,8.979325458953446e-05,0.0002720407362061604,0.020444903001525225,0.0033956084039836335,0.023342145924235818,0.004722858141772513,0.003938335464655694,0.004471474863361872,0.00134326603215106,0.013918288196746557,0.004976155798328318,0.002594123225123045,0.005927827773436723,0.006664749175874788,0.0009977091473159607,0.005614887032451263,0.003637546492673381,0.012611820528184948,0.0023333785918522873,0.0077542686440377285,0.0015866277540867973,0.0012287208576234443,0.0027507080914917206,0.007532172647616361,0.010139654533108663,0.004060521067421256,0.005322495139330535,0.0014928623566761781,0.015490350582148265,0.009697980408197379,0.0024029333263320403,0.005466902699081662,0.0039688187135490365,0.0019526492289155455,0.0005679732207468269,0.003683494726856602,0.004879653946026251,0.00555030328858058,0.0013534988495158583,0.002342030266759597,0.0020557114261460716,0.002074593489170885,0.0028691519729190057],\"y\":[0.4446168430149555,0.730725499716672,0.5117237459099482,0.2676942315366533,0.6723012216389179,0.3140707593411207,0.33913436957768034,0.25604898769121903,0.2712962857913226,0.29718612822202534,0.2873523467116886,0.250072470969624,0.26273325227555777,0.26862444254485046,0.26721169985830784,0.27242452260993777,0.27255570533729734,0.27993245515972376,0.25754492823034525,0.2598910965025425,0.26958812959492207,0.2840522961183028,0.2522690114047792,0.24615790943304697,0.26900702052646214,0.25030556817849475,0.25226836072074044,0.25380293652415276,0.25901587141884697,0.26369955187494104,0.24597782558865017,0.26522068408402527,0.2492119800299406,0.2733392510563135,0.26239403896033764,0.26817180758172815,0.24963095784187317,0.2545858720938365,0.24833550055821738,0.31482233479619026,0.24922352758320895,0.2505142201076854,0.2533429182238049,0.2669638395309448,0.26226233773761326,0.2519530521498786,0.24927696420086753,0.26062609627842903,0.25837090114752453,0.2636747222680312,0.26690472662448883,0.2553761866357591,0.2435563455025355,0.250805311732822,0.24919878939787546,0.24940132598082224,0.23998218443658617,0.2500247094366286,0.250877751244439,0.24236836367183262,0.2490606294436888,0.2508597035299648,0.26629439927637577],\"type\":\"scatter\",\"xaxis\":\"x8\",\"yaxis\":\"y8\"},{\"marker\":{\"color\":[0,1,2,3,4,5,6,7,10,14,15,16,17,19,20,21,22,23,24,25,27,28,29,31,32,33,34,35,36,42,43,44,45,47,48,51,52,53,55,59,62,64,65,67,68,71,72,73,76,79,80,81,82,85,86,88,91,92,93,94,95,98,99],\"colorbar\":{\"title\":{\"text\":\"Trial\"},\"x\":1.0,\"xpad\":40},\"colorscale\":[[0.0,\"rgb(247,251,255)\"],[0.125,\"rgb(222,235,247)\"],[0.25,\"rgb(198,219,239)\"],[0.375,\"rgb(158,202,225)\"],[0.5,\"rgb(107,174,214)\"],[0.625,\"rgb(66,146,198)\"],[0.75,\"rgb(33,113,181)\"],[0.875,\"rgb(8,81,156)\"],[1.0,\"rgb(8,48,107)\"]],\"line\":{\"color\":\"Grey\",\"width\":0.5},\"showscale\":false},\"mode\":\"markers\",\"showlegend\":false,\"x\":[22,24,2,11,28,23,25,4,14,17,14,6,6,6,17,6,6,7,12,13,11,4,19,18,20,19,20,26,22,22,15,15,17,14,26,23,21,15,21,13,19,23,19,21,1,20,19,17,19,13,10,20,19,22,16,16,15,15,12,14,14,13,15],\"y\":[0.4446168430149555,0.730725499716672,0.5117237459099482,0.2676942315366533,0.6723012216389179,0.3140707593411207,0.33913436957768034,0.25604898769121903,0.2712962857913226,0.29718612822202534,0.2873523467116886,0.250072470969624,0.26273325227555777,0.26862444254485046,0.26721169985830784,0.27242452260993777,0.27255570533729734,0.27993245515972376,0.25754492823034525,0.2598910965025425,0.26958812959492207,0.2840522961183028,0.2522690114047792,0.24615790943304697,0.26900702052646214,0.25030556817849475,0.25226836072074044,0.25380293652415276,0.25901587141884697,0.26369955187494104,0.24597782558865017,0.26522068408402527,0.2492119800299406,0.2733392510563135,0.26239403896033764,0.26817180758172815,0.24963095784187317,0.2545858720938365,0.24833550055821738,0.31482233479619026,0.24922352758320895,0.2505142201076854,0.2533429182238049,0.2669638395309448,0.26226233773761326,0.2519530521498786,0.24927696420086753,0.26062609627842903,0.25837090114752453,0.2636747222680312,0.26690472662448883,0.2553761866357591,0.2435563455025355,0.250805311732822,0.24919878939787546,0.24940132598082224,0.23998218443658617,0.2500247094366286,0.250877751244439,0.24236836367183262,0.2490606294436888,0.2508597035299648,0.26629439927637577],\"type\":\"scatter\",\"xaxis\":\"x9\",\"yaxis\":\"y9\"},{\"marker\":{\"color\":[0,1,2,3,4,5,6,7,10,14,15,16,17,19,20,21,22,23,24,25,27,28,29,31,32,33,34,35,36,42,43,44,45,47,48,51,52,53,55,59,62,64,65,67,68,71,72,73,76,79,80,81,82,85,86,88,91,92,93,94,95,98,99],\"colorbar\":{\"title\":{\"text\":\"Trial\"},\"x\":1.0,\"xpad\":40},\"colorscale\":[[0.0,\"rgb(247,251,255)\"],[0.125,\"rgb(222,235,247)\"],[0.25,\"rgb(198,219,239)\"],[0.375,\"rgb(158,202,225)\"],[0.5,\"rgb(107,174,214)\"],[0.625,\"rgb(66,146,198)\"],[0.75,\"rgb(33,113,181)\"],[0.875,\"rgb(8,81,156)\"],[1.0,\"rgb(8,48,107)\"]],\"line\":{\"color\":\"Grey\",\"width\":0.5},\"showscale\":false},\"mode\":\"markers\",\"showlegend\":false,\"x\":[8,2,4,7,9,7,10,3,1,6,5,3,1,3,2,1,2,1,4,4,3,4,6,6,6,8,8,8,8,8,6,7,8,7,9,8,8,8,7,7,8,7,9,10,7,8,8,9,6,4,7,8,8,8,7,8,8,8,7,8,9,9,6],\"y\":[0.4446168430149555,0.730725499716672,0.5117237459099482,0.2676942315366533,0.6723012216389179,0.3140707593411207,0.33913436957768034,0.25604898769121903,0.2712962857913226,0.29718612822202534,0.2873523467116886,0.250072470969624,0.26273325227555777,0.26862444254485046,0.26721169985830784,0.27242452260993777,0.27255570533729734,0.27993245515972376,0.25754492823034525,0.2598910965025425,0.26958812959492207,0.2840522961183028,0.2522690114047792,0.24615790943304697,0.26900702052646214,0.25030556817849475,0.25226836072074044,0.25380293652415276,0.25901587141884697,0.26369955187494104,0.24597782558865017,0.26522068408402527,0.2492119800299406,0.2733392510563135,0.26239403896033764,0.26817180758172815,0.24963095784187317,0.2545858720938365,0.24833550055821738,0.31482233479619026,0.24922352758320895,0.2505142201076854,0.2533429182238049,0.2669638395309448,0.26226233773761326,0.2519530521498786,0.24927696420086753,0.26062609627842903,0.25837090114752453,0.2636747222680312,0.26690472662448883,0.2553761866357591,0.2435563455025355,0.250805311732822,0.24919878939787546,0.24940132598082224,0.23998218443658617,0.2500247094366286,0.250877751244439,0.24236836367183262,0.2490606294436888,0.2508597035299648,0.26629439927637577],\"type\":\"scatter\",\"xaxis\":\"x10\",\"yaxis\":\"y10\"},{\"marker\":{\"color\":[0,1,2,3,4,5,6,7,10,14,15,16,17,19,20,21,22,23,24,25,27,28,29,31,32,33,34,35,36,42,43,44,45,47,48,51,52,53,55,59,62,64,65,67,68,71,72,73,76,79,80,81,82,85,86,88,91,92,93,94,95,98,99],\"colorbar\":{\"title\":{\"text\":\"Trial\"},\"x\":1.0,\"xpad\":40},\"colorscale\":[[0.0,\"rgb(247,251,255)\"],[0.125,\"rgb(222,235,247)\"],[0.25,\"rgb(198,219,239)\"],[0.375,\"rgb(158,202,225)\"],[0.5,\"rgb(107,174,214)\"],[0.625,\"rgb(66,146,198)\"],[0.75,\"rgb(33,113,181)\"],[0.875,\"rgb(8,81,156)\"],[1.0,\"rgb(8,48,107)\"]],\"line\":{\"color\":\"Grey\",\"width\":0.5},\"showscale\":false},\"mode\":\"markers\",\"showlegend\":false,\"x\":[\"AvgPool1d\",\"AvgPool1d\",\"AvgPool1d\",\"MaxPool1d\",\"MaxPool1d\",\"MaxPool1d\",\"MaxPool1d\",\"AvgPool1d\",\"AvgPool1d\",\"MaxPool1d\",\"AvgPool1d\",\"AvgPool1d\",\"AvgPool1d\",\"AvgPool1d\",\"AvgPool1d\",\"AvgPool1d\",\"AvgPool1d\",\"AvgPool1d\",\"AvgPool1d\",\"AvgPool1d\",\"AvgPool1d\",\"AvgPool1d\",\"AvgPool1d\",\"AvgPool1d\",\"AvgPool1d\",\"AvgPool1d\",\"AvgPool1d\",\"AvgPool1d\",\"AvgPool1d\",\"AvgPool1d\",\"AvgPool1d\",\"AvgPool1d\",\"AvgPool1d\",\"AvgPool1d\",\"AvgPool1d\",\"AvgPool1d\",\"AvgPool1d\",\"AvgPool1d\",\"AvgPool1d\",\"AvgPool1d\",\"AvgPool1d\",\"AvgPool1d\",\"AvgPool1d\",\"AvgPool1d\",\"AvgPool1d\",\"AvgPool1d\",\"AvgPool1d\",\"AvgPool1d\",\"AvgPool1d\",\"AvgPool1d\",\"AvgPool1d\",\"AvgPool1d\",\"AvgPool1d\",\"AvgPool1d\",\"AvgPool1d\",\"AvgPool1d\",\"AvgPool1d\",\"AvgPool1d\",\"AvgPool1d\",\"AvgPool1d\",\"AvgPool1d\",\"AvgPool1d\",\"AvgPool1d\"],\"y\":[0.4446168430149555,0.730725499716672,0.5117237459099482,0.2676942315366533,0.6723012216389179,0.3140707593411207,0.33913436957768034,0.25604898769121903,0.2712962857913226,0.29718612822202534,0.2873523467116886,0.250072470969624,0.26273325227555777,0.26862444254485046,0.26721169985830784,0.27242452260993777,0.27255570533729734,0.27993245515972376,0.25754492823034525,0.2598910965025425,0.26958812959492207,0.2840522961183028,0.2522690114047792,0.24615790943304697,0.26900702052646214,0.25030556817849475,0.25226836072074044,0.25380293652415276,0.25901587141884697,0.26369955187494104,0.24597782558865017,0.26522068408402527,0.2492119800299406,0.2733392510563135,0.26239403896033764,0.26817180758172815,0.24963095784187317,0.2545858720938365,0.24833550055821738,0.31482233479619026,0.24922352758320895,0.2505142201076854,0.2533429182238049,0.2669638395309448,0.26226233773761326,0.2519530521498786,0.24927696420086753,0.26062609627842903,0.25837090114752453,0.2636747222680312,0.26690472662448883,0.2553761866357591,0.2435563455025355,0.250805311732822,0.24919878939787546,0.24940132598082224,0.23998218443658617,0.2500247094366286,0.250877751244439,0.24236836367183262,0.2490606294436888,0.2508597035299648,0.26629439927637577],\"type\":\"scatter\",\"xaxis\":\"x11\",\"yaxis\":\"y11\"}],                        {\"template\":{\"data\":{\"histogram2dcontour\":[{\"type\":\"histogram2dcontour\",\"colorbar\":{\"outlinewidth\":0,\"ticks\":\"\"},\"colorscale\":[[0.0,\"#0d0887\"],[0.1111111111111111,\"#46039f\"],[0.2222222222222222,\"#7201a8\"],[0.3333333333333333,\"#9c179e\"],[0.4444444444444444,\"#bd3786\"],[0.5555555555555556,\"#d8576b\"],[0.6666666666666666,\"#ed7953\"],[0.7777777777777778,\"#fb9f3a\"],[0.8888888888888888,\"#fdca26\"],[1.0,\"#f0f921\"]]}],\"choropleth\":[{\"type\":\"choropleth\",\"colorbar\":{\"outlinewidth\":0,\"ticks\":\"\"}}],\"histogram2d\":[{\"type\":\"histogram2d\",\"colorbar\":{\"outlinewidth\":0,\"ticks\":\"\"},\"colorscale\":[[0.0,\"#0d0887\"],[0.1111111111111111,\"#46039f\"],[0.2222222222222222,\"#7201a8\"],[0.3333333333333333,\"#9c179e\"],[0.4444444444444444,\"#bd3786\"],[0.5555555555555556,\"#d8576b\"],[0.6666666666666666,\"#ed7953\"],[0.7777777777777778,\"#fb9f3a\"],[0.8888888888888888,\"#fdca26\"],[1.0,\"#f0f921\"]]}],\"heatmap\":[{\"type\":\"heatmap\",\"colorbar\":{\"outlinewidth\":0,\"ticks\":\"\"},\"colorscale\":[[0.0,\"#0d0887\"],[0.1111111111111111,\"#46039f\"],[0.2222222222222222,\"#7201a8\"],[0.3333333333333333,\"#9c179e\"],[0.4444444444444444,\"#bd3786\"],[0.5555555555555556,\"#d8576b\"],[0.6666666666666666,\"#ed7953\"],[0.7777777777777778,\"#fb9f3a\"],[0.8888888888888888,\"#fdca26\"],[1.0,\"#f0f921\"]]}],\"heatmapgl\":[{\"type\":\"heatmapgl\",\"colorbar\":{\"outlinewidth\":0,\"ticks\":\"\"},\"colorscale\":[[0.0,\"#0d0887\"],[0.1111111111111111,\"#46039f\"],[0.2222222222222222,\"#7201a8\"],[0.3333333333333333,\"#9c179e\"],[0.4444444444444444,\"#bd3786\"],[0.5555555555555556,\"#d8576b\"],[0.6666666666666666,\"#ed7953\"],[0.7777777777777778,\"#fb9f3a\"],[0.8888888888888888,\"#fdca26\"],[1.0,\"#f0f921\"]]}],\"contourcarpet\":[{\"type\":\"contourcarpet\",\"colorbar\":{\"outlinewidth\":0,\"ticks\":\"\"}}],\"contour\":[{\"type\":\"contour\",\"colorbar\":{\"outlinewidth\":0,\"ticks\":\"\"},\"colorscale\":[[0.0,\"#0d0887\"],[0.1111111111111111,\"#46039f\"],[0.2222222222222222,\"#7201a8\"],[0.3333333333333333,\"#9c179e\"],[0.4444444444444444,\"#bd3786\"],[0.5555555555555556,\"#d8576b\"],[0.6666666666666666,\"#ed7953\"],[0.7777777777777778,\"#fb9f3a\"],[0.8888888888888888,\"#fdca26\"],[1.0,\"#f0f921\"]]}],\"surface\":[{\"type\":\"surface\",\"colorbar\":{\"outlinewidth\":0,\"ticks\":\"\"},\"colorscale\":[[0.0,\"#0d0887\"],[0.1111111111111111,\"#46039f\"],[0.2222222222222222,\"#7201a8\"],[0.3333333333333333,\"#9c179e\"],[0.4444444444444444,\"#bd3786\"],[0.5555555555555556,\"#d8576b\"],[0.6666666666666666,\"#ed7953\"],[0.7777777777777778,\"#fb9f3a\"],[0.8888888888888888,\"#fdca26\"],[1.0,\"#f0f921\"]]}],\"mesh3d\":[{\"type\":\"mesh3d\",\"colorbar\":{\"outlinewidth\":0,\"ticks\":\"\"}}],\"scatter\":[{\"fillpattern\":{\"fillmode\":\"overlay\",\"size\":10,\"solidity\":0.2},\"type\":\"scatter\"}],\"parcoords\":[{\"type\":\"parcoords\",\"line\":{\"colorbar\":{\"outlinewidth\":0,\"ticks\":\"\"}}}],\"scatterpolargl\":[{\"type\":\"scatterpolargl\",\"marker\":{\"colorbar\":{\"outlinewidth\":0,\"ticks\":\"\"}}}],\"bar\":[{\"error_x\":{\"color\":\"#2a3f5f\"},\"error_y\":{\"color\":\"#2a3f5f\"},\"marker\":{\"line\":{\"color\":\"#E5ECF6\",\"width\":0.5},\"pattern\":{\"fillmode\":\"overlay\",\"size\":10,\"solidity\":0.2}},\"type\":\"bar\"}],\"scattergeo\":[{\"type\":\"scattergeo\",\"marker\":{\"colorbar\":{\"outlinewidth\":0,\"ticks\":\"\"}}}],\"scatterpolar\":[{\"type\":\"scatterpolar\",\"marker\":{\"colorbar\":{\"outlinewidth\":0,\"ticks\":\"\"}}}],\"histogram\":[{\"marker\":{\"pattern\":{\"fillmode\":\"overlay\",\"size\":10,\"solidity\":0.2}},\"type\":\"histogram\"}],\"scattergl\":[{\"type\":\"scattergl\",\"marker\":{\"colorbar\":{\"outlinewidth\":0,\"ticks\":\"\"}}}],\"scatter3d\":[{\"type\":\"scatter3d\",\"line\":{\"colorbar\":{\"outlinewidth\":0,\"ticks\":\"\"}},\"marker\":{\"colorbar\":{\"outlinewidth\":0,\"ticks\":\"\"}}}],\"scattermapbox\":[{\"type\":\"scattermapbox\",\"marker\":{\"colorbar\":{\"outlinewidth\":0,\"ticks\":\"\"}}}],\"scatterternary\":[{\"type\":\"scatterternary\",\"marker\":{\"colorbar\":{\"outlinewidth\":0,\"ticks\":\"\"}}}],\"scattercarpet\":[{\"type\":\"scattercarpet\",\"marker\":{\"colorbar\":{\"outlinewidth\":0,\"ticks\":\"\"}}}],\"carpet\":[{\"aaxis\":{\"endlinecolor\":\"#2a3f5f\",\"gridcolor\":\"white\",\"linecolor\":\"white\",\"minorgridcolor\":\"white\",\"startlinecolor\":\"#2a3f5f\"},\"baxis\":{\"endlinecolor\":\"#2a3f5f\",\"gridcolor\":\"white\",\"linecolor\":\"white\",\"minorgridcolor\":\"white\",\"startlinecolor\":\"#2a3f5f\"},\"type\":\"carpet\"}],\"table\":[{\"cells\":{\"fill\":{\"color\":\"#EBF0F8\"},\"line\":{\"color\":\"white\"}},\"header\":{\"fill\":{\"color\":\"#C8D4E3\"},\"line\":{\"color\":\"white\"}},\"type\":\"table\"}],\"barpolar\":[{\"marker\":{\"line\":{\"color\":\"#E5ECF6\",\"width\":0.5},\"pattern\":{\"fillmode\":\"overlay\",\"size\":10,\"solidity\":0.2}},\"type\":\"barpolar\"}],\"pie\":[{\"automargin\":true,\"type\":\"pie\"}]},\"layout\":{\"autotypenumbers\":\"strict\",\"colorway\":[\"#636efa\",\"#EF553B\",\"#00cc96\",\"#ab63fa\",\"#FFA15A\",\"#19d3f3\",\"#FF6692\",\"#B6E880\",\"#FF97FF\",\"#FECB52\"],\"font\":{\"color\":\"#2a3f5f\"},\"hovermode\":\"closest\",\"hoverlabel\":{\"align\":\"left\"},\"paper_bgcolor\":\"white\",\"plot_bgcolor\":\"#E5ECF6\",\"polar\":{\"bgcolor\":\"#E5ECF6\",\"angularaxis\":{\"gridcolor\":\"white\",\"linecolor\":\"white\",\"ticks\":\"\"},\"radialaxis\":{\"gridcolor\":\"white\",\"linecolor\":\"white\",\"ticks\":\"\"}},\"ternary\":{\"bgcolor\":\"#E5ECF6\",\"aaxis\":{\"gridcolor\":\"white\",\"linecolor\":\"white\",\"ticks\":\"\"},\"baxis\":{\"gridcolor\":\"white\",\"linecolor\":\"white\",\"ticks\":\"\"},\"caxis\":{\"gridcolor\":\"white\",\"linecolor\":\"white\",\"ticks\":\"\"}},\"coloraxis\":{\"colorbar\":{\"outlinewidth\":0,\"ticks\":\"\"}},\"colorscale\":{\"sequential\":[[0.0,\"#0d0887\"],[0.1111111111111111,\"#46039f\"],[0.2222222222222222,\"#7201a8\"],[0.3333333333333333,\"#9c179e\"],[0.4444444444444444,\"#bd3786\"],[0.5555555555555556,\"#d8576b\"],[0.6666666666666666,\"#ed7953\"],[0.7777777777777778,\"#fb9f3a\"],[0.8888888888888888,\"#fdca26\"],[1.0,\"#f0f921\"]],\"sequentialminus\":[[0.0,\"#0d0887\"],[0.1111111111111111,\"#46039f\"],[0.2222222222222222,\"#7201a8\"],[0.3333333333333333,\"#9c179e\"],[0.4444444444444444,\"#bd3786\"],[0.5555555555555556,\"#d8576b\"],[0.6666666666666666,\"#ed7953\"],[0.7777777777777778,\"#fb9f3a\"],[0.8888888888888888,\"#fdca26\"],[1.0,\"#f0f921\"]],\"diverging\":[[0,\"#8e0152\"],[0.1,\"#c51b7d\"],[0.2,\"#de77ae\"],[0.3,\"#f1b6da\"],[0.4,\"#fde0ef\"],[0.5,\"#f7f7f7\"],[0.6,\"#e6f5d0\"],[0.7,\"#b8e186\"],[0.8,\"#7fbc41\"],[0.9,\"#4d9221\"],[1,\"#276419\"]]},\"xaxis\":{\"gridcolor\":\"white\",\"linecolor\":\"white\",\"ticks\":\"\",\"title\":{\"standoff\":15},\"zerolinecolor\":\"white\",\"automargin\":true,\"zerolinewidth\":2},\"yaxis\":{\"gridcolor\":\"white\",\"linecolor\":\"white\",\"ticks\":\"\",\"title\":{\"standoff\":15},\"zerolinecolor\":\"white\",\"automargin\":true,\"zerolinewidth\":2},\"scene\":{\"xaxis\":{\"backgroundcolor\":\"#E5ECF6\",\"gridcolor\":\"white\",\"linecolor\":\"white\",\"showbackground\":true,\"ticks\":\"\",\"zerolinecolor\":\"white\",\"gridwidth\":2},\"yaxis\":{\"backgroundcolor\":\"#E5ECF6\",\"gridcolor\":\"white\",\"linecolor\":\"white\",\"showbackground\":true,\"ticks\":\"\",\"zerolinecolor\":\"white\",\"gridwidth\":2},\"zaxis\":{\"backgroundcolor\":\"#E5ECF6\",\"gridcolor\":\"white\",\"linecolor\":\"white\",\"showbackground\":true,\"ticks\":\"\",\"zerolinecolor\":\"white\",\"gridwidth\":2}},\"shapedefaults\":{\"line\":{\"color\":\"#2a3f5f\"}},\"annotationdefaults\":{\"arrowcolor\":\"#2a3f5f\",\"arrowhead\":0,\"arrowwidth\":1},\"geo\":{\"bgcolor\":\"white\",\"landcolor\":\"#E5ECF6\",\"subunitcolor\":\"white\",\"showland\":true,\"showlakes\":true,\"lakecolor\":\"white\"},\"title\":{\"x\":0.05},\"mapbox\":{\"style\":\"light\"}}},\"xaxis\":{\"anchor\":\"y\",\"domain\":[0.0,0.07438016528925619],\"title\":{\"text\":\"activation_conv\"}},\"yaxis\":{\"anchor\":\"x\",\"domain\":[0.0,1.0],\"title\":{\"text\":\"Objective Value\"}},\"xaxis2\":{\"anchor\":\"y2\",\"domain\":[0.09256198347107437,0.16694214876033056],\"title\":{\"text\":\"activation_lin\"}},\"yaxis2\":{\"anchor\":\"x2\",\"domain\":[0.0,1.0],\"matches\":\"y\",\"showticklabels\":false},\"xaxis3\":{\"anchor\":\"y3\",\"domain\":[0.18512396694214875,0.25950413223140495],\"title\":{\"text\":\"conv_batchnorm_layer0\"}},\"yaxis3\":{\"anchor\":\"x3\",\"domain\":[0.0,1.0],\"matches\":\"y\",\"showticklabels\":false},\"xaxis4\":{\"anchor\":\"y4\",\"domain\":[0.27768595041322314,0.3520661157024793],\"title\":{\"text\":\"conv_size_layer1\"}},\"yaxis4\":{\"anchor\":\"x4\",\"domain\":[0.0,1.0],\"matches\":\"y\",\"showticklabels\":false},\"xaxis5\":{\"anchor\":\"y5\",\"domain\":[0.3702479338842975,0.44462809917355367],\"title\":{\"text\":\"kernel_size_layer0\"}},\"yaxis5\":{\"anchor\":\"x5\",\"domain\":[0.0,1.0],\"matches\":\"y\",\"showticklabels\":false},\"xaxis6\":{\"anchor\":\"y6\",\"domain\":[0.46280991735537186,0.5371900826446281],\"title\":{\"text\":\"linear_batchnorm_layer0\"}},\"yaxis6\":{\"anchor\":\"x6\",\"domain\":[0.0,1.0],\"matches\":\"y\",\"showticklabels\":false},\"xaxis7\":{\"anchor\":\"y7\",\"domain\":[0.5553719008264462,0.6297520661157023],\"title\":{\"text\":\"linear_size_layer0\"}},\"yaxis7\":{\"anchor\":\"x7\",\"domain\":[0.0,1.0],\"matches\":\"y\",\"showticklabels\":false},\"xaxis8\":{\"anchor\":\"y8\",\"domain\":[0.6479338842975206,0.7223140495867768],\"title\":{\"text\":\"lr\"},\"type\":\"log\"},\"yaxis8\":{\"anchor\":\"x8\",\"domain\":[0.0,1.0],\"matches\":\"y\",\"showticklabels\":false},\"xaxis9\":{\"anchor\":\"y9\",\"domain\":[0.740495867768595,0.8148760330578512],\"title\":{\"text\":\"n_layers_blocks\"}},\"yaxis9\":{\"anchor\":\"x9\",\"domain\":[0.0,1.0],\"matches\":\"y\",\"showticklabels\":false},\"xaxis10\":{\"anchor\":\"y10\",\"domain\":[0.8330578512396694,0.9074380165289255],\"title\":{\"text\":\"n_layers_linear\"}},\"yaxis10\":{\"anchor\":\"x10\",\"domain\":[0.0,1.0],\"matches\":\"y\",\"showticklabels\":false},\"xaxis11\":{\"anchor\":\"y11\",\"domain\":[0.9256198347107437,0.9999999999999999],\"title\":{\"text\":\"pool\"}},\"yaxis11\":{\"anchor\":\"x11\",\"domain\":[0.0,1.0],\"matches\":\"y\",\"showticklabels\":false},\"title\":{\"text\":\"Slice Plot\"},\"width\":3300},                        {\"responsive\": true}                    ).then(function(){\n",
       "                            \n",
       "var gd = document.getElementById('9f27a96d-d077-4a0e-a089-8c3d0a3cfac0');\n",
       "var x = new MutationObserver(function (mutations, observer) {{\n",
       "        var display = window.getComputedStyle(gd).display;\n",
       "        if (!display || display === 'none') {{\n",
       "            console.log([gd, 'removed!']);\n",
       "            Plotly.purge(gd);\n",
       "            observer.disconnect();\n",
       "        }}\n",
       "}});\n",
       "\n",
       "// Listen for the removal of the full notebook cells\n",
       "var notebookContainer = gd.closest('#notebook-container');\n",
       "if (notebookContainer) {{\n",
       "    x.observe(notebookContainer, {childList: true});\n",
       "}}\n",
       "\n",
       "// Listen for the clearing of the current output cell\n",
       "var outputEl = gd.closest('.output');\n",
       "if (outputEl) {{\n",
       "    x.observe(outputEl, {childList: true});\n",
       "}}\n",
       "\n",
       "                        })                };                });            </script>        </div>"
      ]
     },
     "metadata": {},
     "output_type": "display_data"
    }
   ],
   "source": [
    "fig = optuna.visualization.plot_slice(study, params=[\"conv_size_layer1\", \"lr\", \"linear_size_layer0\", \"conv_batchnorm_layer0\", \"kernel_size_layer0\", \"n_layers_linear\", \"n_layers_blocks\", \"linear_batchnorm_layer0\", \"pool\", \"activation_conv\", \"activation_lin\"])\n",
    "fig.show()"
   ]
  },
  {
   "cell_type": "code",
   "execution_count": 15,
   "metadata": {},
   "outputs": [
    {
     "data": {
      "application/vnd.plotly.v1+json": {
       "config": {
        "plotlyServerURL": "https://plot.ly"
       },
       "data": [
        {
         "colorbar": {
          "title": {
           "text": "Objective Value"
          }
         },
         "colorscale": [
          [
           0,
           "rgb(247,251,255)"
          ],
          [
           0.125,
           "rgb(222,235,247)"
          ],
          [
           0.25,
           "rgb(198,219,239)"
          ],
          [
           0.375,
           "rgb(158,202,225)"
          ],
          [
           0.5,
           "rgb(107,174,214)"
          ],
          [
           0.625,
           "rgb(66,146,198)"
          ],
          [
           0.75,
           "rgb(33,113,181)"
          ],
          [
           0.875,
           "rgb(8,81,156)"
          ],
          [
           1,
           "rgb(8,48,107)"
          ]
         ],
         "connectgaps": true,
         "contours": {
          "coloring": "heatmap"
         },
         "hoverinfo": "none",
         "line": {
          "smoothing": 1.3
         },
         "reversescale": true,
         "type": "contour",
         "x": [
          1.1617044061013055e-7,
          2.2098183790587996e-7,
          0.0000015091005228232322,
          0.00000885275149730791,
          0.000020211587453684984,
          0.00008979325458953446,
          0.00011559955517185576,
          0.0002720407362061604,
          0.00036395552932453983,
          0.0004916663184891787,
          0.0005679732207468269,
          0.0006141228160181547,
          0.0006807661783914115,
          0.0009977091473159607,
          0.0012287208576234443,
          0.00134326603215106,
          0.0013534988495158583,
          0.0014928623566761781,
          0.0015866277540867973,
          0.0017972214088929604,
          0.0019526492289155455,
          0.0020557114261460716,
          0.002074593489170885,
          0.002189723493256008,
          0.0023333785918522873,
          0.002342030266759597,
          0.0024029333263320403,
          0.002594123225123045,
          0.0027507080914917206,
          0.0028691519729190057,
          0.003149354044336472,
          0.0033956084039836335,
          0.003637546492673381,
          0.003683494726856602,
          0.003938335464655694,
          0.0039688187135490365,
          0.004060521067421256,
          0.004471474863361872,
          0.004722858141772513,
          0.004879653946026251,
          0.004976155798328318,
          0.005322495139330535,
          0.005466902699081662,
          0.00555030328858058,
          0.005614887032451263,
          0.005927827773436723,
          0.006567915134389158,
          0.006664749175874788,
          0.007532172647616361,
          0.0077542686440377285,
          0.007807173033913387,
          0.008018184833108032,
          0.009697980408197379,
          0.010139654533108663,
          0.012424083988544273,
          0.012611820528184948,
          0.013565756701634709,
          0.013918288196746557,
          0.015490350582148265,
          0.020444903001525225,
          0.023342145924235818,
          0.029555953254341016,
          0.054167375206091384,
          0.08503064548936277,
          0.16174706939111091
         ],
         "y": [
          "Adagrad",
          "Adam",
          "AdamW",
          "NAdam",
          "SGD"
         ],
         "z": [
          [
           null,
           null,
           null,
           null,
           null,
           null,
           0.4446168430149555,
           null,
           null,
           null,
           0.24919878939787546,
           null,
           null,
           null,
           0.2505142201076854,
           0.25901587141884697,
           0.250877751244439,
           0.26062609627842903,
           0.24922352758320895,
           null,
           null,
           0.2490606294436888,
           0.2508597035299648,
           null,
           0.24833550055821738,
           0.24236836367183262,
           null,
           null,
           null,
           0.26629439927637577,
           null,
           0.24615790943304697,
           0.24963095784187317,
           0.24940132598082224,
           0.25226836072074044,
           0.2435563455025355,
           0.2519530521498786,
           0.25380293652415276,
           0.25030556817849475,
           0.23998218443658617,
           0.24597782558865017,
           0.24927696420086753,
           0.2553761866357591,
           0.2500247094366286,
           0.26817180758172815,
           null,
           null,
           null,
           null,
           null,
           null,
           null,
           0.2636747222680312,
           0.26226233773761326,
           null,
           null,
           0.26721169985830784,
           0.26369955187494104,
           null,
           0.2522690114047792,
           0.26900702052646214,
           null,
           0.3140707593411207,
           null,
           null
          ],
          [
           null,
           0.730725499716672,
           null,
           null,
           null,
           null,
           null,
           null,
           null,
           null,
           null,
           null,
           null,
           null,
           null,
           null,
           null,
           null,
           null,
           null,
           0.250805311732822,
           null,
           null,
           null,
           null,
           null,
           null,
           0.26522068408402527,
           0.2533429182238049,
           null,
           null,
           null,
           null,
           null,
           null,
           null,
           null,
           null,
           null,
           null,
           null,
           null,
           null,
           null,
           null,
           null,
           null,
           null,
           null,
           null,
           null,
           null,
           null,
           null,
           null,
           null,
           null,
           null,
           null,
           null,
           null,
           null,
           null,
           null,
           null
          ],
          [
           null,
           null,
           null,
           0.5117237459099482,
           0.29718612822202534,
           0.26958812959492207,
           null,
           null,
           null,
           0.25754492823034525,
           null,
           null,
           null,
           null,
           null,
           null,
           null,
           null,
           null,
           0.27242452260993777,
           null,
           null,
           null,
           0.2712962857913226,
           null,
           null,
           null,
           null,
           null,
           null,
           0.27993245515972376,
           null,
           null,
           null,
           null,
           null,
           null,
           null,
           null,
           null,
           null,
           null,
           null,
           null,
           null,
           null,
           null,
           null,
           null,
           null,
           0.26273325227555777,
           null,
           null,
           null,
           0.27255570533729734,
           null,
           null,
           null,
           null,
           null,
           null,
           0.25604898769121903,
           null,
           null,
           null
          ],
          [
           null,
           null,
           0.6723012216389179,
           null,
           null,
           null,
           null,
           0.2840522961183028,
           0.2676942315366533,
           null,
           null,
           0.250072470969624,
           0.2598910965025425,
           0.26239403896033764,
           null,
           null,
           null,
           null,
           null,
           null,
           null,
           null,
           null,
           null,
           null,
           null,
           0.26690472662448883,
           null,
           null,
           null,
           null,
           null,
           null,
           null,
           null,
           null,
           null,
           null,
           null,
           null,
           null,
           null,
           null,
           null,
           null,
           0.2492119800299406,
           0.33913436957768034,
           0.2733392510563135,
           0.2669638395309448,
           0.31482233479619026,
           null,
           0.2873523467116886,
           null,
           null,
           null,
           0.2545858720938365,
           null,
           null,
           0.25837090114752453,
           null,
           null,
           null,
           null,
           null,
           null
          ],
          [
           null,
           null,
           null,
           null,
           null,
           null,
           null,
           null,
           null,
           null,
           null,
           null,
           null,
           null,
           null,
           null,
           null,
           null,
           null,
           null,
           null,
           null,
           null,
           null,
           null,
           null,
           null,
           null,
           null,
           null,
           null,
           null,
           null,
           null,
           null,
           null,
           null,
           null,
           null,
           null,
           null,
           null,
           null,
           null,
           null,
           null,
           null,
           null,
           null,
           null,
           null,
           null,
           null,
           null,
           null,
           null,
           null,
           null,
           null,
           null,
           null,
           null,
           null,
           0.26862444254485046,
           null
          ]
         ]
        },
        {
         "marker": {
          "color": "black",
          "line": {
           "color": "Grey",
           "width": 2
          }
         },
         "mode": "markers",
         "showlegend": false,
         "type": "scatter",
         "x": [
          0.00011559955517185576,
          2.2098183790587996e-7,
          0.00000885275149730791,
          0.00036395552932453983,
          0.0000015091005228232322,
          0.054167375206091384,
          0.006567915134389158,
          0.029555953254341016,
          0.002189723493256008,
          0.000020211587453684984,
          0.008018184833108032,
          0.0006141228160181547,
          0.007807173033913387,
          0.08503064548936277,
          0.013565756701634709,
          0.0017972214088929604,
          0.012424083988544273,
          0.003149354044336472,
          0.0004916663184891787,
          0.0006807661783914115,
          0.00008979325458953446,
          0.0002720407362061604,
          0.020444903001525225,
          0.0033956084039836335,
          0.023342145924235818,
          0.004722858141772513,
          0.003938335464655694,
          0.004471474863361872,
          0.00134326603215106,
          0.013918288196746557,
          0.004976155798328318,
          0.002594123225123045,
          0.005927827773436723,
          0.006664749175874788,
          0.0009977091473159607,
          0.005614887032451263,
          0.003637546492673381,
          0.012611820528184948,
          0.0023333785918522873,
          0.0077542686440377285,
          0.0015866277540867973,
          0.0012287208576234443,
          0.0027507080914917206,
          0.007532172647616361,
          0.010139654533108663,
          0.004060521067421256,
          0.005322495139330535,
          0.0014928623566761781,
          0.015490350582148265,
          0.009697980408197379,
          0.0024029333263320403,
          0.005466902699081662,
          0.0039688187135490365,
          0.0019526492289155455,
          0.0005679732207468269,
          0.003683494726856602,
          0.004879653946026251,
          0.00555030328858058,
          0.0013534988495158583,
          0.002342030266759597,
          0.0020557114261460716,
          0.002074593489170885,
          0.0028691519729190057
         ],
         "y": [
          "Adagrad",
          "Adam",
          "AdamW",
          "NAdam",
          "NAdam",
          "Adagrad",
          "NAdam",
          "AdamW",
          "AdamW",
          "AdamW",
          "NAdam",
          "NAdam",
          "AdamW",
          "SGD",
          "Adagrad",
          "AdamW",
          "AdamW",
          "AdamW",
          "AdamW",
          "NAdam",
          "AdamW",
          "NAdam",
          "Adagrad",
          "Adagrad",
          "Adagrad",
          "Adagrad",
          "Adagrad",
          "Adagrad",
          "Adagrad",
          "Adagrad",
          "Adagrad",
          "Adam",
          "NAdam",
          "NAdam",
          "NAdam",
          "Adagrad",
          "Adagrad",
          "NAdam",
          "Adagrad",
          "NAdam",
          "Adagrad",
          "Adagrad",
          "Adam",
          "NAdam",
          "Adagrad",
          "Adagrad",
          "Adagrad",
          "Adagrad",
          "NAdam",
          "Adagrad",
          "NAdam",
          "Adagrad",
          "Adagrad",
          "Adam",
          "Adagrad",
          "Adagrad",
          "Adagrad",
          "Adagrad",
          "Adagrad",
          "Adagrad",
          "Adagrad",
          "Adagrad",
          "Adagrad"
         ]
        }
       ],
       "layout": {
        "template": {
         "data": {
          "bar": [
           {
            "error_x": {
             "color": "#2a3f5f"
            },
            "error_y": {
             "color": "#2a3f5f"
            },
            "marker": {
             "line": {
              "color": "#E5ECF6",
              "width": 0.5
             },
             "pattern": {
              "fillmode": "overlay",
              "size": 10,
              "solidity": 0.2
             }
            },
            "type": "bar"
           }
          ],
          "barpolar": [
           {
            "marker": {
             "line": {
              "color": "#E5ECF6",
              "width": 0.5
             },
             "pattern": {
              "fillmode": "overlay",
              "size": 10,
              "solidity": 0.2
             }
            },
            "type": "barpolar"
           }
          ],
          "carpet": [
           {
            "aaxis": {
             "endlinecolor": "#2a3f5f",
             "gridcolor": "white",
             "linecolor": "white",
             "minorgridcolor": "white",
             "startlinecolor": "#2a3f5f"
            },
            "baxis": {
             "endlinecolor": "#2a3f5f",
             "gridcolor": "white",
             "linecolor": "white",
             "minorgridcolor": "white",
             "startlinecolor": "#2a3f5f"
            },
            "type": "carpet"
           }
          ],
          "choropleth": [
           {
            "colorbar": {
             "outlinewidth": 0,
             "ticks": ""
            },
            "type": "choropleth"
           }
          ],
          "contour": [
           {
            "colorbar": {
             "outlinewidth": 0,
             "ticks": ""
            },
            "colorscale": [
             [
              0,
              "#0d0887"
             ],
             [
              0.1111111111111111,
              "#46039f"
             ],
             [
              0.2222222222222222,
              "#7201a8"
             ],
             [
              0.3333333333333333,
              "#9c179e"
             ],
             [
              0.4444444444444444,
              "#bd3786"
             ],
             [
              0.5555555555555556,
              "#d8576b"
             ],
             [
              0.6666666666666666,
              "#ed7953"
             ],
             [
              0.7777777777777778,
              "#fb9f3a"
             ],
             [
              0.8888888888888888,
              "#fdca26"
             ],
             [
              1,
              "#f0f921"
             ]
            ],
            "type": "contour"
           }
          ],
          "contourcarpet": [
           {
            "colorbar": {
             "outlinewidth": 0,
             "ticks": ""
            },
            "type": "contourcarpet"
           }
          ],
          "heatmap": [
           {
            "colorbar": {
             "outlinewidth": 0,
             "ticks": ""
            },
            "colorscale": [
             [
              0,
              "#0d0887"
             ],
             [
              0.1111111111111111,
              "#46039f"
             ],
             [
              0.2222222222222222,
              "#7201a8"
             ],
             [
              0.3333333333333333,
              "#9c179e"
             ],
             [
              0.4444444444444444,
              "#bd3786"
             ],
             [
              0.5555555555555556,
              "#d8576b"
             ],
             [
              0.6666666666666666,
              "#ed7953"
             ],
             [
              0.7777777777777778,
              "#fb9f3a"
             ],
             [
              0.8888888888888888,
              "#fdca26"
             ],
             [
              1,
              "#f0f921"
             ]
            ],
            "type": "heatmap"
           }
          ],
          "heatmapgl": [
           {
            "colorbar": {
             "outlinewidth": 0,
             "ticks": ""
            },
            "colorscale": [
             [
              0,
              "#0d0887"
             ],
             [
              0.1111111111111111,
              "#46039f"
             ],
             [
              0.2222222222222222,
              "#7201a8"
             ],
             [
              0.3333333333333333,
              "#9c179e"
             ],
             [
              0.4444444444444444,
              "#bd3786"
             ],
             [
              0.5555555555555556,
              "#d8576b"
             ],
             [
              0.6666666666666666,
              "#ed7953"
             ],
             [
              0.7777777777777778,
              "#fb9f3a"
             ],
             [
              0.8888888888888888,
              "#fdca26"
             ],
             [
              1,
              "#f0f921"
             ]
            ],
            "type": "heatmapgl"
           }
          ],
          "histogram": [
           {
            "marker": {
             "pattern": {
              "fillmode": "overlay",
              "size": 10,
              "solidity": 0.2
             }
            },
            "type": "histogram"
           }
          ],
          "histogram2d": [
           {
            "colorbar": {
             "outlinewidth": 0,
             "ticks": ""
            },
            "colorscale": [
             [
              0,
              "#0d0887"
             ],
             [
              0.1111111111111111,
              "#46039f"
             ],
             [
              0.2222222222222222,
              "#7201a8"
             ],
             [
              0.3333333333333333,
              "#9c179e"
             ],
             [
              0.4444444444444444,
              "#bd3786"
             ],
             [
              0.5555555555555556,
              "#d8576b"
             ],
             [
              0.6666666666666666,
              "#ed7953"
             ],
             [
              0.7777777777777778,
              "#fb9f3a"
             ],
             [
              0.8888888888888888,
              "#fdca26"
             ],
             [
              1,
              "#f0f921"
             ]
            ],
            "type": "histogram2d"
           }
          ],
          "histogram2dcontour": [
           {
            "colorbar": {
             "outlinewidth": 0,
             "ticks": ""
            },
            "colorscale": [
             [
              0,
              "#0d0887"
             ],
             [
              0.1111111111111111,
              "#46039f"
             ],
             [
              0.2222222222222222,
              "#7201a8"
             ],
             [
              0.3333333333333333,
              "#9c179e"
             ],
             [
              0.4444444444444444,
              "#bd3786"
             ],
             [
              0.5555555555555556,
              "#d8576b"
             ],
             [
              0.6666666666666666,
              "#ed7953"
             ],
             [
              0.7777777777777778,
              "#fb9f3a"
             ],
             [
              0.8888888888888888,
              "#fdca26"
             ],
             [
              1,
              "#f0f921"
             ]
            ],
            "type": "histogram2dcontour"
           }
          ],
          "mesh3d": [
           {
            "colorbar": {
             "outlinewidth": 0,
             "ticks": ""
            },
            "type": "mesh3d"
           }
          ],
          "parcoords": [
           {
            "line": {
             "colorbar": {
              "outlinewidth": 0,
              "ticks": ""
             }
            },
            "type": "parcoords"
           }
          ],
          "pie": [
           {
            "automargin": true,
            "type": "pie"
           }
          ],
          "scatter": [
           {
            "fillpattern": {
             "fillmode": "overlay",
             "size": 10,
             "solidity": 0.2
            },
            "type": "scatter"
           }
          ],
          "scatter3d": [
           {
            "line": {
             "colorbar": {
              "outlinewidth": 0,
              "ticks": ""
             }
            },
            "marker": {
             "colorbar": {
              "outlinewidth": 0,
              "ticks": ""
             }
            },
            "type": "scatter3d"
           }
          ],
          "scattercarpet": [
           {
            "marker": {
             "colorbar": {
              "outlinewidth": 0,
              "ticks": ""
             }
            },
            "type": "scattercarpet"
           }
          ],
          "scattergeo": [
           {
            "marker": {
             "colorbar": {
              "outlinewidth": 0,
              "ticks": ""
             }
            },
            "type": "scattergeo"
           }
          ],
          "scattergl": [
           {
            "marker": {
             "colorbar": {
              "outlinewidth": 0,
              "ticks": ""
             }
            },
            "type": "scattergl"
           }
          ],
          "scattermapbox": [
           {
            "marker": {
             "colorbar": {
              "outlinewidth": 0,
              "ticks": ""
             }
            },
            "type": "scattermapbox"
           }
          ],
          "scatterpolar": [
           {
            "marker": {
             "colorbar": {
              "outlinewidth": 0,
              "ticks": ""
             }
            },
            "type": "scatterpolar"
           }
          ],
          "scatterpolargl": [
           {
            "marker": {
             "colorbar": {
              "outlinewidth": 0,
              "ticks": ""
             }
            },
            "type": "scatterpolargl"
           }
          ],
          "scatterternary": [
           {
            "marker": {
             "colorbar": {
              "outlinewidth": 0,
              "ticks": ""
             }
            },
            "type": "scatterternary"
           }
          ],
          "surface": [
           {
            "colorbar": {
             "outlinewidth": 0,
             "ticks": ""
            },
            "colorscale": [
             [
              0,
              "#0d0887"
             ],
             [
              0.1111111111111111,
              "#46039f"
             ],
             [
              0.2222222222222222,
              "#7201a8"
             ],
             [
              0.3333333333333333,
              "#9c179e"
             ],
             [
              0.4444444444444444,
              "#bd3786"
             ],
             [
              0.5555555555555556,
              "#d8576b"
             ],
             [
              0.6666666666666666,
              "#ed7953"
             ],
             [
              0.7777777777777778,
              "#fb9f3a"
             ],
             [
              0.8888888888888888,
              "#fdca26"
             ],
             [
              1,
              "#f0f921"
             ]
            ],
            "type": "surface"
           }
          ],
          "table": [
           {
            "cells": {
             "fill": {
              "color": "#EBF0F8"
             },
             "line": {
              "color": "white"
             }
            },
            "header": {
             "fill": {
              "color": "#C8D4E3"
             },
             "line": {
              "color": "white"
             }
            },
            "type": "table"
           }
          ]
         },
         "layout": {
          "annotationdefaults": {
           "arrowcolor": "#2a3f5f",
           "arrowhead": 0,
           "arrowwidth": 1
          },
          "autotypenumbers": "strict",
          "coloraxis": {
           "colorbar": {
            "outlinewidth": 0,
            "ticks": ""
           }
          },
          "colorscale": {
           "diverging": [
            [
             0,
             "#8e0152"
            ],
            [
             0.1,
             "#c51b7d"
            ],
            [
             0.2,
             "#de77ae"
            ],
            [
             0.3,
             "#f1b6da"
            ],
            [
             0.4,
             "#fde0ef"
            ],
            [
             0.5,
             "#f7f7f7"
            ],
            [
             0.6,
             "#e6f5d0"
            ],
            [
             0.7,
             "#b8e186"
            ],
            [
             0.8,
             "#7fbc41"
            ],
            [
             0.9,
             "#4d9221"
            ],
            [
             1,
             "#276419"
            ]
           ],
           "sequential": [
            [
             0,
             "#0d0887"
            ],
            [
             0.1111111111111111,
             "#46039f"
            ],
            [
             0.2222222222222222,
             "#7201a8"
            ],
            [
             0.3333333333333333,
             "#9c179e"
            ],
            [
             0.4444444444444444,
             "#bd3786"
            ],
            [
             0.5555555555555556,
             "#d8576b"
            ],
            [
             0.6666666666666666,
             "#ed7953"
            ],
            [
             0.7777777777777778,
             "#fb9f3a"
            ],
            [
             0.8888888888888888,
             "#fdca26"
            ],
            [
             1,
             "#f0f921"
            ]
           ],
           "sequentialminus": [
            [
             0,
             "#0d0887"
            ],
            [
             0.1111111111111111,
             "#46039f"
            ],
            [
             0.2222222222222222,
             "#7201a8"
            ],
            [
             0.3333333333333333,
             "#9c179e"
            ],
            [
             0.4444444444444444,
             "#bd3786"
            ],
            [
             0.5555555555555556,
             "#d8576b"
            ],
            [
             0.6666666666666666,
             "#ed7953"
            ],
            [
             0.7777777777777778,
             "#fb9f3a"
            ],
            [
             0.8888888888888888,
             "#fdca26"
            ],
            [
             1,
             "#f0f921"
            ]
           ]
          },
          "colorway": [
           "#636efa",
           "#EF553B",
           "#00cc96",
           "#ab63fa",
           "#FFA15A",
           "#19d3f3",
           "#FF6692",
           "#B6E880",
           "#FF97FF",
           "#FECB52"
          ],
          "font": {
           "color": "#2a3f5f"
          },
          "geo": {
           "bgcolor": "white",
           "lakecolor": "white",
           "landcolor": "#E5ECF6",
           "showlakes": true,
           "showland": true,
           "subunitcolor": "white"
          },
          "hoverlabel": {
           "align": "left"
          },
          "hovermode": "closest",
          "mapbox": {
           "style": "light"
          },
          "paper_bgcolor": "white",
          "plot_bgcolor": "#E5ECF6",
          "polar": {
           "angularaxis": {
            "gridcolor": "white",
            "linecolor": "white",
            "ticks": ""
           },
           "bgcolor": "#E5ECF6",
           "radialaxis": {
            "gridcolor": "white",
            "linecolor": "white",
            "ticks": ""
           }
          },
          "scene": {
           "xaxis": {
            "backgroundcolor": "#E5ECF6",
            "gridcolor": "white",
            "gridwidth": 2,
            "linecolor": "white",
            "showbackground": true,
            "ticks": "",
            "zerolinecolor": "white"
           },
           "yaxis": {
            "backgroundcolor": "#E5ECF6",
            "gridcolor": "white",
            "gridwidth": 2,
            "linecolor": "white",
            "showbackground": true,
            "ticks": "",
            "zerolinecolor": "white"
           },
           "zaxis": {
            "backgroundcolor": "#E5ECF6",
            "gridcolor": "white",
            "gridwidth": 2,
            "linecolor": "white",
            "showbackground": true,
            "ticks": "",
            "zerolinecolor": "white"
           }
          },
          "shapedefaults": {
           "line": {
            "color": "#2a3f5f"
           }
          },
          "ternary": {
           "aaxis": {
            "gridcolor": "white",
            "linecolor": "white",
            "ticks": ""
           },
           "baxis": {
            "gridcolor": "white",
            "linecolor": "white",
            "ticks": ""
           },
           "bgcolor": "#E5ECF6",
           "caxis": {
            "gridcolor": "white",
            "linecolor": "white",
            "ticks": ""
           }
          },
          "title": {
           "x": 0.05
          },
          "xaxis": {
           "automargin": true,
           "gridcolor": "white",
           "linecolor": "white",
           "ticks": "",
           "title": {
            "standoff": 15
           },
           "zerolinecolor": "white",
           "zerolinewidth": 2
          },
          "yaxis": {
           "automargin": true,
           "gridcolor": "white",
           "linecolor": "white",
           "ticks": "",
           "title": {
            "standoff": 15
           },
           "zerolinecolor": "white",
           "zerolinewidth": 2
          }
         }
        },
        "title": {
         "text": "Contour Plot"
        },
        "xaxis": {
         "range": [
          -6.934904363451787,
          -0.7911635793380823
         ],
         "title": {
          "text": "lr"
         },
         "type": "log"
        },
        "yaxis": {
         "range": [
          -0.2,
          4.2
         ],
         "title": {
          "text": "optimizer"
         },
         "type": "category"
        }
       }
      },
      "text/html": [
       "<div>                            <div id=\"389f8201-a949-402b-a7ad-27d3aa252806\" class=\"plotly-graph-div\" style=\"height:525px; width:100%;\"></div>            <script type=\"text/javascript\">                require([\"plotly\"], function(Plotly) {                    window.PLOTLYENV=window.PLOTLYENV || {};                                    if (document.getElementById(\"389f8201-a949-402b-a7ad-27d3aa252806\")) {                    Plotly.newPlot(                        \"389f8201-a949-402b-a7ad-27d3aa252806\",                        [{\"colorbar\":{\"title\":{\"text\":\"Objective Value\"}},\"colorscale\":[[0.0,\"rgb(247,251,255)\"],[0.125,\"rgb(222,235,247)\"],[0.25,\"rgb(198,219,239)\"],[0.375,\"rgb(158,202,225)\"],[0.5,\"rgb(107,174,214)\"],[0.625,\"rgb(66,146,198)\"],[0.75,\"rgb(33,113,181)\"],[0.875,\"rgb(8,81,156)\"],[1.0,\"rgb(8,48,107)\"]],\"connectgaps\":true,\"contours\":{\"coloring\":\"heatmap\"},\"hoverinfo\":\"none\",\"line\":{\"smoothing\":1.3},\"reversescale\":true,\"x\":[1.1617044061013055e-07,2.2098183790587996e-07,1.5091005228232322e-06,8.85275149730791e-06,2.0211587453684984e-05,8.979325458953446e-05,0.00011559955517185576,0.0002720407362061604,0.00036395552932453983,0.0004916663184891787,0.0005679732207468269,0.0006141228160181547,0.0006807661783914115,0.0009977091473159607,0.0012287208576234443,0.00134326603215106,0.0013534988495158583,0.0014928623566761781,0.0015866277540867973,0.0017972214088929604,0.0019526492289155455,0.0020557114261460716,0.002074593489170885,0.002189723493256008,0.0023333785918522873,0.002342030266759597,0.0024029333263320403,0.002594123225123045,0.0027507080914917206,0.0028691519729190057,0.003149354044336472,0.0033956084039836335,0.003637546492673381,0.003683494726856602,0.003938335464655694,0.0039688187135490365,0.004060521067421256,0.004471474863361872,0.004722858141772513,0.004879653946026251,0.004976155798328318,0.005322495139330535,0.005466902699081662,0.00555030328858058,0.005614887032451263,0.005927827773436723,0.006567915134389158,0.006664749175874788,0.007532172647616361,0.0077542686440377285,0.007807173033913387,0.008018184833108032,0.009697980408197379,0.010139654533108663,0.012424083988544273,0.012611820528184948,0.013565756701634709,0.013918288196746557,0.015490350582148265,0.020444903001525225,0.023342145924235818,0.029555953254341016,0.054167375206091384,0.08503064548936277,0.16174706939111091],\"y\":[\"Adagrad\",\"Adam\",\"AdamW\",\"NAdam\",\"SGD\"],\"z\":[[null,null,null,null,null,null,0.4446168430149555,null,null,null,0.24919878939787546,null,null,null,0.2505142201076854,0.25901587141884697,0.250877751244439,0.26062609627842903,0.24922352758320895,null,null,0.2490606294436888,0.2508597035299648,null,0.24833550055821738,0.24236836367183262,null,null,null,0.26629439927637577,null,0.24615790943304697,0.24963095784187317,0.24940132598082224,0.25226836072074044,0.2435563455025355,0.2519530521498786,0.25380293652415276,0.25030556817849475,0.23998218443658617,0.24597782558865017,0.24927696420086753,0.2553761866357591,0.2500247094366286,0.26817180758172815,null,null,null,null,null,null,null,0.2636747222680312,0.26226233773761326,null,null,0.26721169985830784,0.26369955187494104,null,0.2522690114047792,0.26900702052646214,null,0.3140707593411207,null,null],[null,0.730725499716672,null,null,null,null,null,null,null,null,null,null,null,null,null,null,null,null,null,null,0.250805311732822,null,null,null,null,null,null,0.26522068408402527,0.2533429182238049,null,null,null,null,null,null,null,null,null,null,null,null,null,null,null,null,null,null,null,null,null,null,null,null,null,null,null,null,null,null,null,null,null,null,null,null],[null,null,null,0.5117237459099482,0.29718612822202534,0.26958812959492207,null,null,null,0.25754492823034525,null,null,null,null,null,null,null,null,null,0.27242452260993777,null,null,null,0.2712962857913226,null,null,null,null,null,null,0.27993245515972376,null,null,null,null,null,null,null,null,null,null,null,null,null,null,null,null,null,null,null,0.26273325227555777,null,null,null,0.27255570533729734,null,null,null,null,null,null,0.25604898769121903,null,null,null],[null,null,0.6723012216389179,null,null,null,null,0.2840522961183028,0.2676942315366533,null,null,0.250072470969624,0.2598910965025425,0.26239403896033764,null,null,null,null,null,null,null,null,null,null,null,null,0.26690472662448883,null,null,null,null,null,null,null,null,null,null,null,null,null,null,null,null,null,null,0.2492119800299406,0.33913436957768034,0.2733392510563135,0.2669638395309448,0.31482233479619026,null,0.2873523467116886,null,null,null,0.2545858720938365,null,null,0.25837090114752453,null,null,null,null,null,null],[null,null,null,null,null,null,null,null,null,null,null,null,null,null,null,null,null,null,null,null,null,null,null,null,null,null,null,null,null,null,null,null,null,null,null,null,null,null,null,null,null,null,null,null,null,null,null,null,null,null,null,null,null,null,null,null,null,null,null,null,null,null,null,0.26862444254485046,null]],\"type\":\"contour\"},{\"marker\":{\"color\":\"black\",\"line\":{\"color\":\"Grey\",\"width\":2.0}},\"mode\":\"markers\",\"showlegend\":false,\"x\":[0.00011559955517185576,2.2098183790587996e-07,8.85275149730791e-06,0.00036395552932453983,1.5091005228232322e-06,0.054167375206091384,0.006567915134389158,0.029555953254341016,0.002189723493256008,2.0211587453684984e-05,0.008018184833108032,0.0006141228160181547,0.007807173033913387,0.08503064548936277,0.013565756701634709,0.0017972214088929604,0.012424083988544273,0.003149354044336472,0.0004916663184891787,0.0006807661783914115,8.979325458953446e-05,0.0002720407362061604,0.020444903001525225,0.0033956084039836335,0.023342145924235818,0.004722858141772513,0.003938335464655694,0.004471474863361872,0.00134326603215106,0.013918288196746557,0.004976155798328318,0.002594123225123045,0.005927827773436723,0.006664749175874788,0.0009977091473159607,0.005614887032451263,0.003637546492673381,0.012611820528184948,0.0023333785918522873,0.0077542686440377285,0.0015866277540867973,0.0012287208576234443,0.0027507080914917206,0.007532172647616361,0.010139654533108663,0.004060521067421256,0.005322495139330535,0.0014928623566761781,0.015490350582148265,0.009697980408197379,0.0024029333263320403,0.005466902699081662,0.0039688187135490365,0.0019526492289155455,0.0005679732207468269,0.003683494726856602,0.004879653946026251,0.00555030328858058,0.0013534988495158583,0.002342030266759597,0.0020557114261460716,0.002074593489170885,0.0028691519729190057],\"y\":[\"Adagrad\",\"Adam\",\"AdamW\",\"NAdam\",\"NAdam\",\"Adagrad\",\"NAdam\",\"AdamW\",\"AdamW\",\"AdamW\",\"NAdam\",\"NAdam\",\"AdamW\",\"SGD\",\"Adagrad\",\"AdamW\",\"AdamW\",\"AdamW\",\"AdamW\",\"NAdam\",\"AdamW\",\"NAdam\",\"Adagrad\",\"Adagrad\",\"Adagrad\",\"Adagrad\",\"Adagrad\",\"Adagrad\",\"Adagrad\",\"Adagrad\",\"Adagrad\",\"Adam\",\"NAdam\",\"NAdam\",\"NAdam\",\"Adagrad\",\"Adagrad\",\"NAdam\",\"Adagrad\",\"NAdam\",\"Adagrad\",\"Adagrad\",\"Adam\",\"NAdam\",\"Adagrad\",\"Adagrad\",\"Adagrad\",\"Adagrad\",\"NAdam\",\"Adagrad\",\"NAdam\",\"Adagrad\",\"Adagrad\",\"Adam\",\"Adagrad\",\"Adagrad\",\"Adagrad\",\"Adagrad\",\"Adagrad\",\"Adagrad\",\"Adagrad\",\"Adagrad\",\"Adagrad\"],\"type\":\"scatter\"}],                        {\"title\":{\"text\":\"Contour Plot\"},\"template\":{\"data\":{\"histogram2dcontour\":[{\"type\":\"histogram2dcontour\",\"colorbar\":{\"outlinewidth\":0,\"ticks\":\"\"},\"colorscale\":[[0.0,\"#0d0887\"],[0.1111111111111111,\"#46039f\"],[0.2222222222222222,\"#7201a8\"],[0.3333333333333333,\"#9c179e\"],[0.4444444444444444,\"#bd3786\"],[0.5555555555555556,\"#d8576b\"],[0.6666666666666666,\"#ed7953\"],[0.7777777777777778,\"#fb9f3a\"],[0.8888888888888888,\"#fdca26\"],[1.0,\"#f0f921\"]]}],\"choropleth\":[{\"type\":\"choropleth\",\"colorbar\":{\"outlinewidth\":0,\"ticks\":\"\"}}],\"histogram2d\":[{\"type\":\"histogram2d\",\"colorbar\":{\"outlinewidth\":0,\"ticks\":\"\"},\"colorscale\":[[0.0,\"#0d0887\"],[0.1111111111111111,\"#46039f\"],[0.2222222222222222,\"#7201a8\"],[0.3333333333333333,\"#9c179e\"],[0.4444444444444444,\"#bd3786\"],[0.5555555555555556,\"#d8576b\"],[0.6666666666666666,\"#ed7953\"],[0.7777777777777778,\"#fb9f3a\"],[0.8888888888888888,\"#fdca26\"],[1.0,\"#f0f921\"]]}],\"heatmap\":[{\"type\":\"heatmap\",\"colorbar\":{\"outlinewidth\":0,\"ticks\":\"\"},\"colorscale\":[[0.0,\"#0d0887\"],[0.1111111111111111,\"#46039f\"],[0.2222222222222222,\"#7201a8\"],[0.3333333333333333,\"#9c179e\"],[0.4444444444444444,\"#bd3786\"],[0.5555555555555556,\"#d8576b\"],[0.6666666666666666,\"#ed7953\"],[0.7777777777777778,\"#fb9f3a\"],[0.8888888888888888,\"#fdca26\"],[1.0,\"#f0f921\"]]}],\"heatmapgl\":[{\"type\":\"heatmapgl\",\"colorbar\":{\"outlinewidth\":0,\"ticks\":\"\"},\"colorscale\":[[0.0,\"#0d0887\"],[0.1111111111111111,\"#46039f\"],[0.2222222222222222,\"#7201a8\"],[0.3333333333333333,\"#9c179e\"],[0.4444444444444444,\"#bd3786\"],[0.5555555555555556,\"#d8576b\"],[0.6666666666666666,\"#ed7953\"],[0.7777777777777778,\"#fb9f3a\"],[0.8888888888888888,\"#fdca26\"],[1.0,\"#f0f921\"]]}],\"contourcarpet\":[{\"type\":\"contourcarpet\",\"colorbar\":{\"outlinewidth\":0,\"ticks\":\"\"}}],\"contour\":[{\"type\":\"contour\",\"colorbar\":{\"outlinewidth\":0,\"ticks\":\"\"},\"colorscale\":[[0.0,\"#0d0887\"],[0.1111111111111111,\"#46039f\"],[0.2222222222222222,\"#7201a8\"],[0.3333333333333333,\"#9c179e\"],[0.4444444444444444,\"#bd3786\"],[0.5555555555555556,\"#d8576b\"],[0.6666666666666666,\"#ed7953\"],[0.7777777777777778,\"#fb9f3a\"],[0.8888888888888888,\"#fdca26\"],[1.0,\"#f0f921\"]]}],\"surface\":[{\"type\":\"surface\",\"colorbar\":{\"outlinewidth\":0,\"ticks\":\"\"},\"colorscale\":[[0.0,\"#0d0887\"],[0.1111111111111111,\"#46039f\"],[0.2222222222222222,\"#7201a8\"],[0.3333333333333333,\"#9c179e\"],[0.4444444444444444,\"#bd3786\"],[0.5555555555555556,\"#d8576b\"],[0.6666666666666666,\"#ed7953\"],[0.7777777777777778,\"#fb9f3a\"],[0.8888888888888888,\"#fdca26\"],[1.0,\"#f0f921\"]]}],\"mesh3d\":[{\"type\":\"mesh3d\",\"colorbar\":{\"outlinewidth\":0,\"ticks\":\"\"}}],\"scatter\":[{\"fillpattern\":{\"fillmode\":\"overlay\",\"size\":10,\"solidity\":0.2},\"type\":\"scatter\"}],\"parcoords\":[{\"type\":\"parcoords\",\"line\":{\"colorbar\":{\"outlinewidth\":0,\"ticks\":\"\"}}}],\"scatterpolargl\":[{\"type\":\"scatterpolargl\",\"marker\":{\"colorbar\":{\"outlinewidth\":0,\"ticks\":\"\"}}}],\"bar\":[{\"error_x\":{\"color\":\"#2a3f5f\"},\"error_y\":{\"color\":\"#2a3f5f\"},\"marker\":{\"line\":{\"color\":\"#E5ECF6\",\"width\":0.5},\"pattern\":{\"fillmode\":\"overlay\",\"size\":10,\"solidity\":0.2}},\"type\":\"bar\"}],\"scattergeo\":[{\"type\":\"scattergeo\",\"marker\":{\"colorbar\":{\"outlinewidth\":0,\"ticks\":\"\"}}}],\"scatterpolar\":[{\"type\":\"scatterpolar\",\"marker\":{\"colorbar\":{\"outlinewidth\":0,\"ticks\":\"\"}}}],\"histogram\":[{\"marker\":{\"pattern\":{\"fillmode\":\"overlay\",\"size\":10,\"solidity\":0.2}},\"type\":\"histogram\"}],\"scattergl\":[{\"type\":\"scattergl\",\"marker\":{\"colorbar\":{\"outlinewidth\":0,\"ticks\":\"\"}}}],\"scatter3d\":[{\"type\":\"scatter3d\",\"line\":{\"colorbar\":{\"outlinewidth\":0,\"ticks\":\"\"}},\"marker\":{\"colorbar\":{\"outlinewidth\":0,\"ticks\":\"\"}}}],\"scattermapbox\":[{\"type\":\"scattermapbox\",\"marker\":{\"colorbar\":{\"outlinewidth\":0,\"ticks\":\"\"}}}],\"scatterternary\":[{\"type\":\"scatterternary\",\"marker\":{\"colorbar\":{\"outlinewidth\":0,\"ticks\":\"\"}}}],\"scattercarpet\":[{\"type\":\"scattercarpet\",\"marker\":{\"colorbar\":{\"outlinewidth\":0,\"ticks\":\"\"}}}],\"carpet\":[{\"aaxis\":{\"endlinecolor\":\"#2a3f5f\",\"gridcolor\":\"white\",\"linecolor\":\"white\",\"minorgridcolor\":\"white\",\"startlinecolor\":\"#2a3f5f\"},\"baxis\":{\"endlinecolor\":\"#2a3f5f\",\"gridcolor\":\"white\",\"linecolor\":\"white\",\"minorgridcolor\":\"white\",\"startlinecolor\":\"#2a3f5f\"},\"type\":\"carpet\"}],\"table\":[{\"cells\":{\"fill\":{\"color\":\"#EBF0F8\"},\"line\":{\"color\":\"white\"}},\"header\":{\"fill\":{\"color\":\"#C8D4E3\"},\"line\":{\"color\":\"white\"}},\"type\":\"table\"}],\"barpolar\":[{\"marker\":{\"line\":{\"color\":\"#E5ECF6\",\"width\":0.5},\"pattern\":{\"fillmode\":\"overlay\",\"size\":10,\"solidity\":0.2}},\"type\":\"barpolar\"}],\"pie\":[{\"automargin\":true,\"type\":\"pie\"}]},\"layout\":{\"autotypenumbers\":\"strict\",\"colorway\":[\"#636efa\",\"#EF553B\",\"#00cc96\",\"#ab63fa\",\"#FFA15A\",\"#19d3f3\",\"#FF6692\",\"#B6E880\",\"#FF97FF\",\"#FECB52\"],\"font\":{\"color\":\"#2a3f5f\"},\"hovermode\":\"closest\",\"hoverlabel\":{\"align\":\"left\"},\"paper_bgcolor\":\"white\",\"plot_bgcolor\":\"#E5ECF6\",\"polar\":{\"bgcolor\":\"#E5ECF6\",\"angularaxis\":{\"gridcolor\":\"white\",\"linecolor\":\"white\",\"ticks\":\"\"},\"radialaxis\":{\"gridcolor\":\"white\",\"linecolor\":\"white\",\"ticks\":\"\"}},\"ternary\":{\"bgcolor\":\"#E5ECF6\",\"aaxis\":{\"gridcolor\":\"white\",\"linecolor\":\"white\",\"ticks\":\"\"},\"baxis\":{\"gridcolor\":\"white\",\"linecolor\":\"white\",\"ticks\":\"\"},\"caxis\":{\"gridcolor\":\"white\",\"linecolor\":\"white\",\"ticks\":\"\"}},\"coloraxis\":{\"colorbar\":{\"outlinewidth\":0,\"ticks\":\"\"}},\"colorscale\":{\"sequential\":[[0.0,\"#0d0887\"],[0.1111111111111111,\"#46039f\"],[0.2222222222222222,\"#7201a8\"],[0.3333333333333333,\"#9c179e\"],[0.4444444444444444,\"#bd3786\"],[0.5555555555555556,\"#d8576b\"],[0.6666666666666666,\"#ed7953\"],[0.7777777777777778,\"#fb9f3a\"],[0.8888888888888888,\"#fdca26\"],[1.0,\"#f0f921\"]],\"sequentialminus\":[[0.0,\"#0d0887\"],[0.1111111111111111,\"#46039f\"],[0.2222222222222222,\"#7201a8\"],[0.3333333333333333,\"#9c179e\"],[0.4444444444444444,\"#bd3786\"],[0.5555555555555556,\"#d8576b\"],[0.6666666666666666,\"#ed7953\"],[0.7777777777777778,\"#fb9f3a\"],[0.8888888888888888,\"#fdca26\"],[1.0,\"#f0f921\"]],\"diverging\":[[0,\"#8e0152\"],[0.1,\"#c51b7d\"],[0.2,\"#de77ae\"],[0.3,\"#f1b6da\"],[0.4,\"#fde0ef\"],[0.5,\"#f7f7f7\"],[0.6,\"#e6f5d0\"],[0.7,\"#b8e186\"],[0.8,\"#7fbc41\"],[0.9,\"#4d9221\"],[1,\"#276419\"]]},\"xaxis\":{\"gridcolor\":\"white\",\"linecolor\":\"white\",\"ticks\":\"\",\"title\":{\"standoff\":15},\"zerolinecolor\":\"white\",\"automargin\":true,\"zerolinewidth\":2},\"yaxis\":{\"gridcolor\":\"white\",\"linecolor\":\"white\",\"ticks\":\"\",\"title\":{\"standoff\":15},\"zerolinecolor\":\"white\",\"automargin\":true,\"zerolinewidth\":2},\"scene\":{\"xaxis\":{\"backgroundcolor\":\"#E5ECF6\",\"gridcolor\":\"white\",\"linecolor\":\"white\",\"showbackground\":true,\"ticks\":\"\",\"zerolinecolor\":\"white\",\"gridwidth\":2},\"yaxis\":{\"backgroundcolor\":\"#E5ECF6\",\"gridcolor\":\"white\",\"linecolor\":\"white\",\"showbackground\":true,\"ticks\":\"\",\"zerolinecolor\":\"white\",\"gridwidth\":2},\"zaxis\":{\"backgroundcolor\":\"#E5ECF6\",\"gridcolor\":\"white\",\"linecolor\":\"white\",\"showbackground\":true,\"ticks\":\"\",\"zerolinecolor\":\"white\",\"gridwidth\":2}},\"shapedefaults\":{\"line\":{\"color\":\"#2a3f5f\"}},\"annotationdefaults\":{\"arrowcolor\":\"#2a3f5f\",\"arrowhead\":0,\"arrowwidth\":1},\"geo\":{\"bgcolor\":\"white\",\"landcolor\":\"#E5ECF6\",\"subunitcolor\":\"white\",\"showland\":true,\"showlakes\":true,\"lakecolor\":\"white\"},\"title\":{\"x\":0.05},\"mapbox\":{\"style\":\"light\"}}},\"xaxis\":{\"title\":{\"text\":\"lr\"},\"range\":[-6.934904363451787,-0.7911635793380823],\"type\":\"log\"},\"yaxis\":{\"title\":{\"text\":\"optimizer\"},\"range\":[-0.2,4.2],\"type\":\"category\"}},                        {\"responsive\": true}                    ).then(function(){\n",
       "                            \n",
       "var gd = document.getElementById('389f8201-a949-402b-a7ad-27d3aa252806');\n",
       "var x = new MutationObserver(function (mutations, observer) {{\n",
       "        var display = window.getComputedStyle(gd).display;\n",
       "        if (!display || display === 'none') {{\n",
       "            console.log([gd, 'removed!']);\n",
       "            Plotly.purge(gd);\n",
       "            observer.disconnect();\n",
       "        }}\n",
       "}});\n",
       "\n",
       "// Listen for the removal of the full notebook cells\n",
       "var notebookContainer = gd.closest('#notebook-container');\n",
       "if (notebookContainer) {{\n",
       "    x.observe(notebookContainer, {childList: true});\n",
       "}}\n",
       "\n",
       "// Listen for the clearing of the current output cell\n",
       "var outputEl = gd.closest('.output');\n",
       "if (outputEl) {{\n",
       "    x.observe(outputEl, {childList: true});\n",
       "}}\n",
       "\n",
       "                        })                };                });            </script>        </div>"
      ]
     },
     "metadata": {},
     "output_type": "display_data"
    }
   ],
   "source": [
    "fig = optuna.visualization.plot_contour(study, [\"lr\", \"optimizer\"])\n",
    "fig.show()"
   ]
  },
  {
   "cell_type": "code",
   "execution_count": 16,
   "metadata": {},
   "outputs": [
    {
     "data": {
      "application/vnd.plotly.v1+json": {
       "config": {
        "plotlyServerURL": "https://plot.ly"
       },
       "data": [
        {
         "colorbar": {
          "title": {
           "text": "Objective Value"
          }
         },
         "colorscale": [
          [
           0,
           "rgb(247,251,255)"
          ],
          [
           0.125,
           "rgb(222,235,247)"
          ],
          [
           0.25,
           "rgb(198,219,239)"
          ],
          [
           0.375,
           "rgb(158,202,225)"
          ],
          [
           0.5,
           "rgb(107,174,214)"
          ],
          [
           0.625,
           "rgb(66,146,198)"
          ],
          [
           0.75,
           "rgb(33,113,181)"
          ],
          [
           0.875,
           "rgb(8,81,156)"
          ],
          [
           1,
           "rgb(8,48,107)"
          ]
         ],
         "connectgaps": true,
         "contours": {
          "coloring": "heatmap"
         },
         "hoverinfo": "none",
         "line": {
          "smoothing": 1.3
         },
         "reversescale": true,
         "type": "contour",
         "x": [
          10.399999999999999,
          16,
          32,
          48,
          64,
          80,
          96,
          112,
          128,
          133.6
         ],
         "y": [
          1.1617044061013055e-7,
          2.2098183790587996e-7,
          0.0000015091005228232322,
          0.00000885275149730791,
          0.000020211587453684984,
          0.00008979325458953446,
          0.00011559955517185576,
          0.0002720407362061604,
          0.00036395552932453983,
          0.0004916663184891787,
          0.0005679732207468269,
          0.0006141228160181547,
          0.0006807661783914115,
          0.0009977091473159607,
          0.0012287208576234443,
          0.00134326603215106,
          0.0013534988495158583,
          0.0014928623566761781,
          0.0015866277540867973,
          0.0017972214088929604,
          0.0019526492289155455,
          0.0020557114261460716,
          0.002074593489170885,
          0.002189723493256008,
          0.0023333785918522873,
          0.002342030266759597,
          0.0024029333263320403,
          0.002594123225123045,
          0.0027507080914917206,
          0.0028691519729190057,
          0.003149354044336472,
          0.0033956084039836335,
          0.003637546492673381,
          0.003683494726856602,
          0.003938335464655694,
          0.0039688187135490365,
          0.004060521067421256,
          0.004471474863361872,
          0.004722858141772513,
          0.004879653946026251,
          0.004976155798328318,
          0.005322495139330535,
          0.005466902699081662,
          0.00555030328858058,
          0.005614887032451263,
          0.005927827773436723,
          0.006567915134389158,
          0.006664749175874788,
          0.007532172647616361,
          0.0077542686440377285,
          0.007807173033913387,
          0.008018184833108032,
          0.009697980408197379,
          0.010139654533108663,
          0.012424083988544273,
          0.012611820528184948,
          0.013565756701634709,
          0.013918288196746557,
          0.015490350582148265,
          0.020444903001525225,
          0.023342145924235818,
          0.029555953254341016,
          0.054167375206091384,
          0.08503064548936277,
          0.16174706939111091
         ],
         "z": [
          [
           null,
           null,
           null,
           null,
           null,
           null,
           null,
           null,
           null,
           null
          ],
          [
           null,
           null,
           null,
           null,
           null,
           null,
           0.730725499716672,
           null,
           null,
           null
          ],
          [
           null,
           null,
           null,
           null,
           0.6723012216389179,
           null,
           null,
           null,
           null,
           null
          ],
          [
           null,
           0.5117237459099482,
           null,
           null,
           null,
           null,
           null,
           null,
           null,
           null
          ],
          [
           null,
           null,
           null,
           null,
           null,
           0.29718612822202534,
           null,
           null,
           null,
           null
          ],
          [
           null,
           null,
           null,
           null,
           0.26958812959492207,
           null,
           null,
           null,
           null,
           null
          ],
          [
           null,
           null,
           null,
           null,
           null,
           null,
           null,
           null,
           0.4446168430149555,
           null
          ],
          [
           null,
           null,
           null,
           null,
           null,
           null,
           0.2840522961183028,
           null,
           null,
           null
          ],
          [
           null,
           null,
           null,
           null,
           null,
           null,
           null,
           0.2676942315366533,
           null,
           null
          ],
          [
           null,
           null,
           null,
           null,
           0.25754492823034525,
           null,
           null,
           null,
           null,
           null
          ],
          [
           null,
           null,
           null,
           null,
           null,
           null,
           null,
           0.24919878939787546,
           null,
           null
          ],
          [
           null,
           null,
           null,
           null,
           null,
           null,
           null,
           0.250072470969624,
           null,
           null
          ],
          [
           null,
           null,
           null,
           null,
           0.2598910965025425,
           null,
           null,
           null,
           null,
           null
          ],
          [
           null,
           null,
           null,
           null,
           null,
           null,
           null,
           null,
           0.26239403896033764,
           null
          ],
          [
           null,
           null,
           null,
           null,
           null,
           null,
           0.2505142201076854,
           null,
           null,
           null
          ],
          [
           null,
           null,
           null,
           null,
           null,
           null,
           null,
           0.25901587141884697,
           null,
           null
          ],
          [
           null,
           null,
           null,
           null,
           null,
           null,
           null,
           0.250877751244439,
           null,
           null
          ],
          [
           null,
           null,
           null,
           null,
           null,
           null,
           null,
           null,
           0.26062609627842903,
           null
          ],
          [
           null,
           null,
           null,
           null,
           null,
           null,
           0.24922352758320895,
           null,
           null,
           null
          ],
          [
           null,
           null,
           null,
           0.27242452260993777,
           null,
           null,
           null,
           null,
           null,
           null
          ],
          [
           null,
           null,
           null,
           null,
           null,
           null,
           null,
           0.250805311732822,
           null,
           null
          ],
          [
           null,
           null,
           null,
           null,
           null,
           null,
           0.2490606294436888,
           null,
           null,
           null
          ],
          [
           null,
           null,
           null,
           null,
           null,
           null,
           0.2508597035299648,
           null,
           null,
           null
          ],
          [
           null,
           null,
           0.2712962857913226,
           null,
           null,
           null,
           null,
           null,
           null,
           null
          ],
          [
           null,
           null,
           null,
           null,
           null,
           null,
           null,
           0.24833550055821738,
           null,
           null
          ],
          [
           null,
           null,
           null,
           null,
           null,
           null,
           null,
           0.24236836367183262,
           null,
           null
          ],
          [
           null,
           null,
           null,
           null,
           null,
           null,
           0.26690472662448883,
           null,
           null,
           null
          ],
          [
           null,
           null,
           null,
           null,
           null,
           null,
           0.26522068408402527,
           null,
           null,
           null
          ],
          [
           null,
           null,
           null,
           null,
           null,
           null,
           null,
           0.2533429182238049,
           null,
           null
          ],
          [
           null,
           null,
           null,
           null,
           0.26629439927637577,
           null,
           null,
           null,
           null,
           null
          ],
          [
           null,
           null,
           0.27993245515972376,
           null,
           null,
           null,
           null,
           null,
           null,
           null
          ],
          [
           null,
           null,
           null,
           null,
           null,
           null,
           null,
           0.24615790943304697,
           null,
           null
          ],
          [
           null,
           null,
           null,
           null,
           null,
           null,
           null,
           0.24963095784187317,
           null,
           null
          ],
          [
           null,
           null,
           null,
           null,
           null,
           null,
           null,
           0.24940132598082224,
           null,
           null
          ],
          [
           null,
           null,
           null,
           null,
           null,
           null,
           null,
           0.25226836072074044,
           null,
           null
          ],
          [
           null,
           null,
           null,
           null,
           null,
           null,
           null,
           0.2435563455025355,
           null,
           null
          ],
          [
           null,
           null,
           null,
           null,
           null,
           null,
           null,
           0.2519530521498786,
           null,
           null
          ],
          [
           null,
           null,
           null,
           null,
           null,
           null,
           null,
           null,
           0.25380293652415276,
           null
          ],
          [
           null,
           null,
           null,
           null,
           null,
           null,
           null,
           0.25030556817849475,
           null,
           null
          ],
          [
           null,
           null,
           null,
           null,
           null,
           null,
           null,
           0.23998218443658617,
           null,
           null
          ],
          [
           null,
           null,
           null,
           null,
           null,
           null,
           null,
           0.24597782558865017,
           null,
           null
          ],
          [
           null,
           null,
           null,
           null,
           null,
           null,
           null,
           0.24927696420086753,
           null,
           null
          ],
          [
           null,
           null,
           null,
           null,
           null,
           null,
           null,
           0.2553761866357591,
           null,
           null
          ],
          [
           null,
           null,
           null,
           null,
           null,
           null,
           null,
           0.2500247094366286,
           null,
           null
          ],
          [
           null,
           null,
           null,
           null,
           null,
           null,
           0.26817180758172815,
           null,
           null,
           null
          ],
          [
           null,
           null,
           null,
           null,
           null,
           null,
           null,
           null,
           0.2492119800299406,
           null
          ],
          [
           null,
           null,
           null,
           0.33913436957768034,
           null,
           null,
           null,
           null,
           null,
           null
          ],
          [
           null,
           null,
           null,
           null,
           null,
           null,
           null,
           null,
           0.2733392510563135,
           null
          ],
          [
           null,
           null,
           null,
           null,
           null,
           null,
           null,
           null,
           0.2669638395309448,
           null
          ],
          [
           null,
           null,
           null,
           null,
           null,
           null,
           null,
           null,
           0.31482233479619026,
           null
          ],
          [
           null,
           null,
           null,
           0.26273325227555777,
           null,
           null,
           null,
           null,
           null,
           null
          ],
          [
           null,
           null,
           null,
           null,
           null,
           null,
           null,
           0.2873523467116886,
           null,
           null
          ],
          [
           null,
           null,
           null,
           null,
           null,
           0.2636747222680312,
           null,
           null,
           null,
           null
          ],
          [
           null,
           null,
           null,
           null,
           null,
           null,
           null,
           0.26226233773761326,
           null,
           null
          ],
          [
           null,
           null,
           null,
           0.27255570533729734,
           null,
           null,
           null,
           null,
           null,
           null
          ],
          [
           null,
           null,
           null,
           null,
           null,
           null,
           null,
           0.2545858720938365,
           null,
           null
          ],
          [
           null,
           null,
           null,
           null,
           null,
           null,
           null,
           null,
           0.26721169985830784,
           null
          ],
          [
           null,
           null,
           null,
           null,
           null,
           null,
           0.26369955187494104,
           null,
           null,
           null
          ],
          [
           null,
           null,
           null,
           null,
           null,
           null,
           null,
           0.25837090114752453,
           null,
           null
          ],
          [
           null,
           null,
           null,
           null,
           null,
           null,
           null,
           0.2522690114047792,
           null,
           null
          ],
          [
           null,
           null,
           null,
           null,
           null,
           null,
           null,
           0.26900702052646214,
           null,
           null
          ],
          [
           null,
           null,
           null,
           null,
           null,
           0.25604898769121903,
           null,
           null,
           null,
           null
          ],
          [
           null,
           null,
           null,
           null,
           0.3140707593411207,
           null,
           null,
           null,
           null,
           null
          ],
          [
           null,
           null,
           null,
           null,
           null,
           null,
           0.26862444254485046,
           null,
           null,
           null
          ],
          [
           null,
           null,
           null,
           null,
           null,
           null,
           null,
           null,
           null,
           null
          ]
         ]
        },
        {
         "marker": {
          "color": "black",
          "line": {
           "color": "Grey",
           "width": 2
          }
         },
         "mode": "markers",
         "showlegend": false,
         "type": "scatter",
         "x": [
          128,
          96,
          16,
          112,
          64,
          64,
          48,
          80,
          32,
          80,
          112,
          112,
          48,
          96,
          128,
          48,
          48,
          32,
          64,
          64,
          64,
          96,
          112,
          112,
          112,
          112,
          112,
          128,
          112,
          96,
          112,
          96,
          128,
          128,
          128,
          96,
          112,
          112,
          112,
          128,
          96,
          96,
          112,
          128,
          112,
          112,
          112,
          128,
          112,
          80,
          96,
          112,
          112,
          112,
          112,
          112,
          112,
          112,
          112,
          112,
          96,
          96,
          64
         ],
         "y": [
          0.00011559955517185576,
          2.2098183790587996e-7,
          0.00000885275149730791,
          0.00036395552932453983,
          0.0000015091005228232322,
          0.054167375206091384,
          0.006567915134389158,
          0.029555953254341016,
          0.002189723493256008,
          0.000020211587453684984,
          0.008018184833108032,
          0.0006141228160181547,
          0.007807173033913387,
          0.08503064548936277,
          0.013565756701634709,
          0.0017972214088929604,
          0.012424083988544273,
          0.003149354044336472,
          0.0004916663184891787,
          0.0006807661783914115,
          0.00008979325458953446,
          0.0002720407362061604,
          0.020444903001525225,
          0.0033956084039836335,
          0.023342145924235818,
          0.004722858141772513,
          0.003938335464655694,
          0.004471474863361872,
          0.00134326603215106,
          0.013918288196746557,
          0.004976155798328318,
          0.002594123225123045,
          0.005927827773436723,
          0.006664749175874788,
          0.0009977091473159607,
          0.005614887032451263,
          0.003637546492673381,
          0.012611820528184948,
          0.0023333785918522873,
          0.0077542686440377285,
          0.0015866277540867973,
          0.0012287208576234443,
          0.0027507080914917206,
          0.007532172647616361,
          0.010139654533108663,
          0.004060521067421256,
          0.005322495139330535,
          0.0014928623566761781,
          0.015490350582148265,
          0.009697980408197379,
          0.0024029333263320403,
          0.005466902699081662,
          0.0039688187135490365,
          0.0019526492289155455,
          0.0005679732207468269,
          0.003683494726856602,
          0.004879653946026251,
          0.00555030328858058,
          0.0013534988495158583,
          0.002342030266759597,
          0.0020557114261460716,
          0.002074593489170885,
          0.0028691519729190057
         ]
        }
       ],
       "layout": {
        "template": {
         "data": {
          "bar": [
           {
            "error_x": {
             "color": "#2a3f5f"
            },
            "error_y": {
             "color": "#2a3f5f"
            },
            "marker": {
             "line": {
              "color": "#E5ECF6",
              "width": 0.5
             },
             "pattern": {
              "fillmode": "overlay",
              "size": 10,
              "solidity": 0.2
             }
            },
            "type": "bar"
           }
          ],
          "barpolar": [
           {
            "marker": {
             "line": {
              "color": "#E5ECF6",
              "width": 0.5
             },
             "pattern": {
              "fillmode": "overlay",
              "size": 10,
              "solidity": 0.2
             }
            },
            "type": "barpolar"
           }
          ],
          "carpet": [
           {
            "aaxis": {
             "endlinecolor": "#2a3f5f",
             "gridcolor": "white",
             "linecolor": "white",
             "minorgridcolor": "white",
             "startlinecolor": "#2a3f5f"
            },
            "baxis": {
             "endlinecolor": "#2a3f5f",
             "gridcolor": "white",
             "linecolor": "white",
             "minorgridcolor": "white",
             "startlinecolor": "#2a3f5f"
            },
            "type": "carpet"
           }
          ],
          "choropleth": [
           {
            "colorbar": {
             "outlinewidth": 0,
             "ticks": ""
            },
            "type": "choropleth"
           }
          ],
          "contour": [
           {
            "colorbar": {
             "outlinewidth": 0,
             "ticks": ""
            },
            "colorscale": [
             [
              0,
              "#0d0887"
             ],
             [
              0.1111111111111111,
              "#46039f"
             ],
             [
              0.2222222222222222,
              "#7201a8"
             ],
             [
              0.3333333333333333,
              "#9c179e"
             ],
             [
              0.4444444444444444,
              "#bd3786"
             ],
             [
              0.5555555555555556,
              "#d8576b"
             ],
             [
              0.6666666666666666,
              "#ed7953"
             ],
             [
              0.7777777777777778,
              "#fb9f3a"
             ],
             [
              0.8888888888888888,
              "#fdca26"
             ],
             [
              1,
              "#f0f921"
             ]
            ],
            "type": "contour"
           }
          ],
          "contourcarpet": [
           {
            "colorbar": {
             "outlinewidth": 0,
             "ticks": ""
            },
            "type": "contourcarpet"
           }
          ],
          "heatmap": [
           {
            "colorbar": {
             "outlinewidth": 0,
             "ticks": ""
            },
            "colorscale": [
             [
              0,
              "#0d0887"
             ],
             [
              0.1111111111111111,
              "#46039f"
             ],
             [
              0.2222222222222222,
              "#7201a8"
             ],
             [
              0.3333333333333333,
              "#9c179e"
             ],
             [
              0.4444444444444444,
              "#bd3786"
             ],
             [
              0.5555555555555556,
              "#d8576b"
             ],
             [
              0.6666666666666666,
              "#ed7953"
             ],
             [
              0.7777777777777778,
              "#fb9f3a"
             ],
             [
              0.8888888888888888,
              "#fdca26"
             ],
             [
              1,
              "#f0f921"
             ]
            ],
            "type": "heatmap"
           }
          ],
          "heatmapgl": [
           {
            "colorbar": {
             "outlinewidth": 0,
             "ticks": ""
            },
            "colorscale": [
             [
              0,
              "#0d0887"
             ],
             [
              0.1111111111111111,
              "#46039f"
             ],
             [
              0.2222222222222222,
              "#7201a8"
             ],
             [
              0.3333333333333333,
              "#9c179e"
             ],
             [
              0.4444444444444444,
              "#bd3786"
             ],
             [
              0.5555555555555556,
              "#d8576b"
             ],
             [
              0.6666666666666666,
              "#ed7953"
             ],
             [
              0.7777777777777778,
              "#fb9f3a"
             ],
             [
              0.8888888888888888,
              "#fdca26"
             ],
             [
              1,
              "#f0f921"
             ]
            ],
            "type": "heatmapgl"
           }
          ],
          "histogram": [
           {
            "marker": {
             "pattern": {
              "fillmode": "overlay",
              "size": 10,
              "solidity": 0.2
             }
            },
            "type": "histogram"
           }
          ],
          "histogram2d": [
           {
            "colorbar": {
             "outlinewidth": 0,
             "ticks": ""
            },
            "colorscale": [
             [
              0,
              "#0d0887"
             ],
             [
              0.1111111111111111,
              "#46039f"
             ],
             [
              0.2222222222222222,
              "#7201a8"
             ],
             [
              0.3333333333333333,
              "#9c179e"
             ],
             [
              0.4444444444444444,
              "#bd3786"
             ],
             [
              0.5555555555555556,
              "#d8576b"
             ],
             [
              0.6666666666666666,
              "#ed7953"
             ],
             [
              0.7777777777777778,
              "#fb9f3a"
             ],
             [
              0.8888888888888888,
              "#fdca26"
             ],
             [
              1,
              "#f0f921"
             ]
            ],
            "type": "histogram2d"
           }
          ],
          "histogram2dcontour": [
           {
            "colorbar": {
             "outlinewidth": 0,
             "ticks": ""
            },
            "colorscale": [
             [
              0,
              "#0d0887"
             ],
             [
              0.1111111111111111,
              "#46039f"
             ],
             [
              0.2222222222222222,
              "#7201a8"
             ],
             [
              0.3333333333333333,
              "#9c179e"
             ],
             [
              0.4444444444444444,
              "#bd3786"
             ],
             [
              0.5555555555555556,
              "#d8576b"
             ],
             [
              0.6666666666666666,
              "#ed7953"
             ],
             [
              0.7777777777777778,
              "#fb9f3a"
             ],
             [
              0.8888888888888888,
              "#fdca26"
             ],
             [
              1,
              "#f0f921"
             ]
            ],
            "type": "histogram2dcontour"
           }
          ],
          "mesh3d": [
           {
            "colorbar": {
             "outlinewidth": 0,
             "ticks": ""
            },
            "type": "mesh3d"
           }
          ],
          "parcoords": [
           {
            "line": {
             "colorbar": {
              "outlinewidth": 0,
              "ticks": ""
             }
            },
            "type": "parcoords"
           }
          ],
          "pie": [
           {
            "automargin": true,
            "type": "pie"
           }
          ],
          "scatter": [
           {
            "fillpattern": {
             "fillmode": "overlay",
             "size": 10,
             "solidity": 0.2
            },
            "type": "scatter"
           }
          ],
          "scatter3d": [
           {
            "line": {
             "colorbar": {
              "outlinewidth": 0,
              "ticks": ""
             }
            },
            "marker": {
             "colorbar": {
              "outlinewidth": 0,
              "ticks": ""
             }
            },
            "type": "scatter3d"
           }
          ],
          "scattercarpet": [
           {
            "marker": {
             "colorbar": {
              "outlinewidth": 0,
              "ticks": ""
             }
            },
            "type": "scattercarpet"
           }
          ],
          "scattergeo": [
           {
            "marker": {
             "colorbar": {
              "outlinewidth": 0,
              "ticks": ""
             }
            },
            "type": "scattergeo"
           }
          ],
          "scattergl": [
           {
            "marker": {
             "colorbar": {
              "outlinewidth": 0,
              "ticks": ""
             }
            },
            "type": "scattergl"
           }
          ],
          "scattermapbox": [
           {
            "marker": {
             "colorbar": {
              "outlinewidth": 0,
              "ticks": ""
             }
            },
            "type": "scattermapbox"
           }
          ],
          "scatterpolar": [
           {
            "marker": {
             "colorbar": {
              "outlinewidth": 0,
              "ticks": ""
             }
            },
            "type": "scatterpolar"
           }
          ],
          "scatterpolargl": [
           {
            "marker": {
             "colorbar": {
              "outlinewidth": 0,
              "ticks": ""
             }
            },
            "type": "scatterpolargl"
           }
          ],
          "scatterternary": [
           {
            "marker": {
             "colorbar": {
              "outlinewidth": 0,
              "ticks": ""
             }
            },
            "type": "scatterternary"
           }
          ],
          "surface": [
           {
            "colorbar": {
             "outlinewidth": 0,
             "ticks": ""
            },
            "colorscale": [
             [
              0,
              "#0d0887"
             ],
             [
              0.1111111111111111,
              "#46039f"
             ],
             [
              0.2222222222222222,
              "#7201a8"
             ],
             [
              0.3333333333333333,
              "#9c179e"
             ],
             [
              0.4444444444444444,
              "#bd3786"
             ],
             [
              0.5555555555555556,
              "#d8576b"
             ],
             [
              0.6666666666666666,
              "#ed7953"
             ],
             [
              0.7777777777777778,
              "#fb9f3a"
             ],
             [
              0.8888888888888888,
              "#fdca26"
             ],
             [
              1,
              "#f0f921"
             ]
            ],
            "type": "surface"
           }
          ],
          "table": [
           {
            "cells": {
             "fill": {
              "color": "#EBF0F8"
             },
             "line": {
              "color": "white"
             }
            },
            "header": {
             "fill": {
              "color": "#C8D4E3"
             },
             "line": {
              "color": "white"
             }
            },
            "type": "table"
           }
          ]
         },
         "layout": {
          "annotationdefaults": {
           "arrowcolor": "#2a3f5f",
           "arrowhead": 0,
           "arrowwidth": 1
          },
          "autotypenumbers": "strict",
          "coloraxis": {
           "colorbar": {
            "outlinewidth": 0,
            "ticks": ""
           }
          },
          "colorscale": {
           "diverging": [
            [
             0,
             "#8e0152"
            ],
            [
             0.1,
             "#c51b7d"
            ],
            [
             0.2,
             "#de77ae"
            ],
            [
             0.3,
             "#f1b6da"
            ],
            [
             0.4,
             "#fde0ef"
            ],
            [
             0.5,
             "#f7f7f7"
            ],
            [
             0.6,
             "#e6f5d0"
            ],
            [
             0.7,
             "#b8e186"
            ],
            [
             0.8,
             "#7fbc41"
            ],
            [
             0.9,
             "#4d9221"
            ],
            [
             1,
             "#276419"
            ]
           ],
           "sequential": [
            [
             0,
             "#0d0887"
            ],
            [
             0.1111111111111111,
             "#46039f"
            ],
            [
             0.2222222222222222,
             "#7201a8"
            ],
            [
             0.3333333333333333,
             "#9c179e"
            ],
            [
             0.4444444444444444,
             "#bd3786"
            ],
            [
             0.5555555555555556,
             "#d8576b"
            ],
            [
             0.6666666666666666,
             "#ed7953"
            ],
            [
             0.7777777777777778,
             "#fb9f3a"
            ],
            [
             0.8888888888888888,
             "#fdca26"
            ],
            [
             1,
             "#f0f921"
            ]
           ],
           "sequentialminus": [
            [
             0,
             "#0d0887"
            ],
            [
             0.1111111111111111,
             "#46039f"
            ],
            [
             0.2222222222222222,
             "#7201a8"
            ],
            [
             0.3333333333333333,
             "#9c179e"
            ],
            [
             0.4444444444444444,
             "#bd3786"
            ],
            [
             0.5555555555555556,
             "#d8576b"
            ],
            [
             0.6666666666666666,
             "#ed7953"
            ],
            [
             0.7777777777777778,
             "#fb9f3a"
            ],
            [
             0.8888888888888888,
             "#fdca26"
            ],
            [
             1,
             "#f0f921"
            ]
           ]
          },
          "colorway": [
           "#636efa",
           "#EF553B",
           "#00cc96",
           "#ab63fa",
           "#FFA15A",
           "#19d3f3",
           "#FF6692",
           "#B6E880",
           "#FF97FF",
           "#FECB52"
          ],
          "font": {
           "color": "#2a3f5f"
          },
          "geo": {
           "bgcolor": "white",
           "lakecolor": "white",
           "landcolor": "#E5ECF6",
           "showlakes": true,
           "showland": true,
           "subunitcolor": "white"
          },
          "hoverlabel": {
           "align": "left"
          },
          "hovermode": "closest",
          "mapbox": {
           "style": "light"
          },
          "paper_bgcolor": "white",
          "plot_bgcolor": "#E5ECF6",
          "polar": {
           "angularaxis": {
            "gridcolor": "white",
            "linecolor": "white",
            "ticks": ""
           },
           "bgcolor": "#E5ECF6",
           "radialaxis": {
            "gridcolor": "white",
            "linecolor": "white",
            "ticks": ""
           }
          },
          "scene": {
           "xaxis": {
            "backgroundcolor": "#E5ECF6",
            "gridcolor": "white",
            "gridwidth": 2,
            "linecolor": "white",
            "showbackground": true,
            "ticks": "",
            "zerolinecolor": "white"
           },
           "yaxis": {
            "backgroundcolor": "#E5ECF6",
            "gridcolor": "white",
            "gridwidth": 2,
            "linecolor": "white",
            "showbackground": true,
            "ticks": "",
            "zerolinecolor": "white"
           },
           "zaxis": {
            "backgroundcolor": "#E5ECF6",
            "gridcolor": "white",
            "gridwidth": 2,
            "linecolor": "white",
            "showbackground": true,
            "ticks": "",
            "zerolinecolor": "white"
           }
          },
          "shapedefaults": {
           "line": {
            "color": "#2a3f5f"
           }
          },
          "ternary": {
           "aaxis": {
            "gridcolor": "white",
            "linecolor": "white",
            "ticks": ""
           },
           "baxis": {
            "gridcolor": "white",
            "linecolor": "white",
            "ticks": ""
           },
           "bgcolor": "#E5ECF6",
           "caxis": {
            "gridcolor": "white",
            "linecolor": "white",
            "ticks": ""
           }
          },
          "title": {
           "x": 0.05
          },
          "xaxis": {
           "automargin": true,
           "gridcolor": "white",
           "linecolor": "white",
           "ticks": "",
           "title": {
            "standoff": 15
           },
           "zerolinecolor": "white",
           "zerolinewidth": 2
          },
          "yaxis": {
           "automargin": true,
           "gridcolor": "white",
           "linecolor": "white",
           "ticks": "",
           "title": {
            "standoff": 15
           },
           "zerolinecolor": "white",
           "zerolinewidth": 2
          }
         }
        },
        "title": {
         "text": "Contour Plot"
        },
        "xaxis": {
         "range": [
          10.399999999999999,
          133.6
         ],
         "title": {
          "text": "batch_size"
         }
        },
        "yaxis": {
         "range": [
          -6.934904363451787,
          -0.7911635793380823
         ],
         "title": {
          "text": "lr"
         },
         "type": "log"
        }
       }
      },
      "text/html": [
       "<div>                            <div id=\"1d3a0adb-181a-4a2f-a9f1-01b4edfe5e14\" class=\"plotly-graph-div\" style=\"height:525px; width:100%;\"></div>            <script type=\"text/javascript\">                require([\"plotly\"], function(Plotly) {                    window.PLOTLYENV=window.PLOTLYENV || {};                                    if (document.getElementById(\"1d3a0adb-181a-4a2f-a9f1-01b4edfe5e14\")) {                    Plotly.newPlot(                        \"1d3a0adb-181a-4a2f-a9f1-01b4edfe5e14\",                        [{\"colorbar\":{\"title\":{\"text\":\"Objective Value\"}},\"colorscale\":[[0.0,\"rgb(247,251,255)\"],[0.125,\"rgb(222,235,247)\"],[0.25,\"rgb(198,219,239)\"],[0.375,\"rgb(158,202,225)\"],[0.5,\"rgb(107,174,214)\"],[0.625,\"rgb(66,146,198)\"],[0.75,\"rgb(33,113,181)\"],[0.875,\"rgb(8,81,156)\"],[1.0,\"rgb(8,48,107)\"]],\"connectgaps\":true,\"contours\":{\"coloring\":\"heatmap\"},\"hoverinfo\":\"none\",\"line\":{\"smoothing\":1.3},\"reversescale\":true,\"x\":[10.399999999999999,16,32,48,64,80,96,112,128,133.6],\"y\":[1.1617044061013055e-07,2.2098183790587996e-07,1.5091005228232322e-06,8.85275149730791e-06,2.0211587453684984e-05,8.979325458953446e-05,0.00011559955517185576,0.0002720407362061604,0.00036395552932453983,0.0004916663184891787,0.0005679732207468269,0.0006141228160181547,0.0006807661783914115,0.0009977091473159607,0.0012287208576234443,0.00134326603215106,0.0013534988495158583,0.0014928623566761781,0.0015866277540867973,0.0017972214088929604,0.0019526492289155455,0.0020557114261460716,0.002074593489170885,0.002189723493256008,0.0023333785918522873,0.002342030266759597,0.0024029333263320403,0.002594123225123045,0.0027507080914917206,0.0028691519729190057,0.003149354044336472,0.0033956084039836335,0.003637546492673381,0.003683494726856602,0.003938335464655694,0.0039688187135490365,0.004060521067421256,0.004471474863361872,0.004722858141772513,0.004879653946026251,0.004976155798328318,0.005322495139330535,0.005466902699081662,0.00555030328858058,0.005614887032451263,0.005927827773436723,0.006567915134389158,0.006664749175874788,0.007532172647616361,0.0077542686440377285,0.007807173033913387,0.008018184833108032,0.009697980408197379,0.010139654533108663,0.012424083988544273,0.012611820528184948,0.013565756701634709,0.013918288196746557,0.015490350582148265,0.020444903001525225,0.023342145924235818,0.029555953254341016,0.054167375206091384,0.08503064548936277,0.16174706939111091],\"z\":[[null,null,null,null,null,null,null,null,null,null],[null,null,null,null,null,null,0.730725499716672,null,null,null],[null,null,null,null,0.6723012216389179,null,null,null,null,null],[null,0.5117237459099482,null,null,null,null,null,null,null,null],[null,null,null,null,null,0.29718612822202534,null,null,null,null],[null,null,null,null,0.26958812959492207,null,null,null,null,null],[null,null,null,null,null,null,null,null,0.4446168430149555,null],[null,null,null,null,null,null,0.2840522961183028,null,null,null],[null,null,null,null,null,null,null,0.2676942315366533,null,null],[null,null,null,null,0.25754492823034525,null,null,null,null,null],[null,null,null,null,null,null,null,0.24919878939787546,null,null],[null,null,null,null,null,null,null,0.250072470969624,null,null],[null,null,null,null,0.2598910965025425,null,null,null,null,null],[null,null,null,null,null,null,null,null,0.26239403896033764,null],[null,null,null,null,null,null,0.2505142201076854,null,null,null],[null,null,null,null,null,null,null,0.25901587141884697,null,null],[null,null,null,null,null,null,null,0.250877751244439,null,null],[null,null,null,null,null,null,null,null,0.26062609627842903,null],[null,null,null,null,null,null,0.24922352758320895,null,null,null],[null,null,null,0.27242452260993777,null,null,null,null,null,null],[null,null,null,null,null,null,null,0.250805311732822,null,null],[null,null,null,null,null,null,0.2490606294436888,null,null,null],[null,null,null,null,null,null,0.2508597035299648,null,null,null],[null,null,0.2712962857913226,null,null,null,null,null,null,null],[null,null,null,null,null,null,null,0.24833550055821738,null,null],[null,null,null,null,null,null,null,0.24236836367183262,null,null],[null,null,null,null,null,null,0.26690472662448883,null,null,null],[null,null,null,null,null,null,0.26522068408402527,null,null,null],[null,null,null,null,null,null,null,0.2533429182238049,null,null],[null,null,null,null,0.26629439927637577,null,null,null,null,null],[null,null,0.27993245515972376,null,null,null,null,null,null,null],[null,null,null,null,null,null,null,0.24615790943304697,null,null],[null,null,null,null,null,null,null,0.24963095784187317,null,null],[null,null,null,null,null,null,null,0.24940132598082224,null,null],[null,null,null,null,null,null,null,0.25226836072074044,null,null],[null,null,null,null,null,null,null,0.2435563455025355,null,null],[null,null,null,null,null,null,null,0.2519530521498786,null,null],[null,null,null,null,null,null,null,null,0.25380293652415276,null],[null,null,null,null,null,null,null,0.25030556817849475,null,null],[null,null,null,null,null,null,null,0.23998218443658617,null,null],[null,null,null,null,null,null,null,0.24597782558865017,null,null],[null,null,null,null,null,null,null,0.24927696420086753,null,null],[null,null,null,null,null,null,null,0.2553761866357591,null,null],[null,null,null,null,null,null,null,0.2500247094366286,null,null],[null,null,null,null,null,null,0.26817180758172815,null,null,null],[null,null,null,null,null,null,null,null,0.2492119800299406,null],[null,null,null,0.33913436957768034,null,null,null,null,null,null],[null,null,null,null,null,null,null,null,0.2733392510563135,null],[null,null,null,null,null,null,null,null,0.2669638395309448,null],[null,null,null,null,null,null,null,null,0.31482233479619026,null],[null,null,null,0.26273325227555777,null,null,null,null,null,null],[null,null,null,null,null,null,null,0.2873523467116886,null,null],[null,null,null,null,null,0.2636747222680312,null,null,null,null],[null,null,null,null,null,null,null,0.26226233773761326,null,null],[null,null,null,0.27255570533729734,null,null,null,null,null,null],[null,null,null,null,null,null,null,0.2545858720938365,null,null],[null,null,null,null,null,null,null,null,0.26721169985830784,null],[null,null,null,null,null,null,0.26369955187494104,null,null,null],[null,null,null,null,null,null,null,0.25837090114752453,null,null],[null,null,null,null,null,null,null,0.2522690114047792,null,null],[null,null,null,null,null,null,null,0.26900702052646214,null,null],[null,null,null,null,null,0.25604898769121903,null,null,null,null],[null,null,null,null,0.3140707593411207,null,null,null,null,null],[null,null,null,null,null,null,0.26862444254485046,null,null,null],[null,null,null,null,null,null,null,null,null,null]],\"type\":\"contour\"},{\"marker\":{\"color\":\"black\",\"line\":{\"color\":\"Grey\",\"width\":2.0}},\"mode\":\"markers\",\"showlegend\":false,\"x\":[128,96,16,112,64,64,48,80,32,80,112,112,48,96,128,48,48,32,64,64,64,96,112,112,112,112,112,128,112,96,112,96,128,128,128,96,112,112,112,128,96,96,112,128,112,112,112,128,112,80,96,112,112,112,112,112,112,112,112,112,96,96,64],\"y\":[0.00011559955517185576,2.2098183790587996e-07,8.85275149730791e-06,0.00036395552932453983,1.5091005228232322e-06,0.054167375206091384,0.006567915134389158,0.029555953254341016,0.002189723493256008,2.0211587453684984e-05,0.008018184833108032,0.0006141228160181547,0.007807173033913387,0.08503064548936277,0.013565756701634709,0.0017972214088929604,0.012424083988544273,0.003149354044336472,0.0004916663184891787,0.0006807661783914115,8.979325458953446e-05,0.0002720407362061604,0.020444903001525225,0.0033956084039836335,0.023342145924235818,0.004722858141772513,0.003938335464655694,0.004471474863361872,0.00134326603215106,0.013918288196746557,0.004976155798328318,0.002594123225123045,0.005927827773436723,0.006664749175874788,0.0009977091473159607,0.005614887032451263,0.003637546492673381,0.012611820528184948,0.0023333785918522873,0.0077542686440377285,0.0015866277540867973,0.0012287208576234443,0.0027507080914917206,0.007532172647616361,0.010139654533108663,0.004060521067421256,0.005322495139330535,0.0014928623566761781,0.015490350582148265,0.009697980408197379,0.0024029333263320403,0.005466902699081662,0.0039688187135490365,0.0019526492289155455,0.0005679732207468269,0.003683494726856602,0.004879653946026251,0.00555030328858058,0.0013534988495158583,0.002342030266759597,0.0020557114261460716,0.002074593489170885,0.0028691519729190057],\"type\":\"scatter\"}],                        {\"title\":{\"text\":\"Contour Plot\"},\"template\":{\"data\":{\"histogram2dcontour\":[{\"type\":\"histogram2dcontour\",\"colorbar\":{\"outlinewidth\":0,\"ticks\":\"\"},\"colorscale\":[[0.0,\"#0d0887\"],[0.1111111111111111,\"#46039f\"],[0.2222222222222222,\"#7201a8\"],[0.3333333333333333,\"#9c179e\"],[0.4444444444444444,\"#bd3786\"],[0.5555555555555556,\"#d8576b\"],[0.6666666666666666,\"#ed7953\"],[0.7777777777777778,\"#fb9f3a\"],[0.8888888888888888,\"#fdca26\"],[1.0,\"#f0f921\"]]}],\"choropleth\":[{\"type\":\"choropleth\",\"colorbar\":{\"outlinewidth\":0,\"ticks\":\"\"}}],\"histogram2d\":[{\"type\":\"histogram2d\",\"colorbar\":{\"outlinewidth\":0,\"ticks\":\"\"},\"colorscale\":[[0.0,\"#0d0887\"],[0.1111111111111111,\"#46039f\"],[0.2222222222222222,\"#7201a8\"],[0.3333333333333333,\"#9c179e\"],[0.4444444444444444,\"#bd3786\"],[0.5555555555555556,\"#d8576b\"],[0.6666666666666666,\"#ed7953\"],[0.7777777777777778,\"#fb9f3a\"],[0.8888888888888888,\"#fdca26\"],[1.0,\"#f0f921\"]]}],\"heatmap\":[{\"type\":\"heatmap\",\"colorbar\":{\"outlinewidth\":0,\"ticks\":\"\"},\"colorscale\":[[0.0,\"#0d0887\"],[0.1111111111111111,\"#46039f\"],[0.2222222222222222,\"#7201a8\"],[0.3333333333333333,\"#9c179e\"],[0.4444444444444444,\"#bd3786\"],[0.5555555555555556,\"#d8576b\"],[0.6666666666666666,\"#ed7953\"],[0.7777777777777778,\"#fb9f3a\"],[0.8888888888888888,\"#fdca26\"],[1.0,\"#f0f921\"]]}],\"heatmapgl\":[{\"type\":\"heatmapgl\",\"colorbar\":{\"outlinewidth\":0,\"ticks\":\"\"},\"colorscale\":[[0.0,\"#0d0887\"],[0.1111111111111111,\"#46039f\"],[0.2222222222222222,\"#7201a8\"],[0.3333333333333333,\"#9c179e\"],[0.4444444444444444,\"#bd3786\"],[0.5555555555555556,\"#d8576b\"],[0.6666666666666666,\"#ed7953\"],[0.7777777777777778,\"#fb9f3a\"],[0.8888888888888888,\"#fdca26\"],[1.0,\"#f0f921\"]]}],\"contourcarpet\":[{\"type\":\"contourcarpet\",\"colorbar\":{\"outlinewidth\":0,\"ticks\":\"\"}}],\"contour\":[{\"type\":\"contour\",\"colorbar\":{\"outlinewidth\":0,\"ticks\":\"\"},\"colorscale\":[[0.0,\"#0d0887\"],[0.1111111111111111,\"#46039f\"],[0.2222222222222222,\"#7201a8\"],[0.3333333333333333,\"#9c179e\"],[0.4444444444444444,\"#bd3786\"],[0.5555555555555556,\"#d8576b\"],[0.6666666666666666,\"#ed7953\"],[0.7777777777777778,\"#fb9f3a\"],[0.8888888888888888,\"#fdca26\"],[1.0,\"#f0f921\"]]}],\"surface\":[{\"type\":\"surface\",\"colorbar\":{\"outlinewidth\":0,\"ticks\":\"\"},\"colorscale\":[[0.0,\"#0d0887\"],[0.1111111111111111,\"#46039f\"],[0.2222222222222222,\"#7201a8\"],[0.3333333333333333,\"#9c179e\"],[0.4444444444444444,\"#bd3786\"],[0.5555555555555556,\"#d8576b\"],[0.6666666666666666,\"#ed7953\"],[0.7777777777777778,\"#fb9f3a\"],[0.8888888888888888,\"#fdca26\"],[1.0,\"#f0f921\"]]}],\"mesh3d\":[{\"type\":\"mesh3d\",\"colorbar\":{\"outlinewidth\":0,\"ticks\":\"\"}}],\"scatter\":[{\"fillpattern\":{\"fillmode\":\"overlay\",\"size\":10,\"solidity\":0.2},\"type\":\"scatter\"}],\"parcoords\":[{\"type\":\"parcoords\",\"line\":{\"colorbar\":{\"outlinewidth\":0,\"ticks\":\"\"}}}],\"scatterpolargl\":[{\"type\":\"scatterpolargl\",\"marker\":{\"colorbar\":{\"outlinewidth\":0,\"ticks\":\"\"}}}],\"bar\":[{\"error_x\":{\"color\":\"#2a3f5f\"},\"error_y\":{\"color\":\"#2a3f5f\"},\"marker\":{\"line\":{\"color\":\"#E5ECF6\",\"width\":0.5},\"pattern\":{\"fillmode\":\"overlay\",\"size\":10,\"solidity\":0.2}},\"type\":\"bar\"}],\"scattergeo\":[{\"type\":\"scattergeo\",\"marker\":{\"colorbar\":{\"outlinewidth\":0,\"ticks\":\"\"}}}],\"scatterpolar\":[{\"type\":\"scatterpolar\",\"marker\":{\"colorbar\":{\"outlinewidth\":0,\"ticks\":\"\"}}}],\"histogram\":[{\"marker\":{\"pattern\":{\"fillmode\":\"overlay\",\"size\":10,\"solidity\":0.2}},\"type\":\"histogram\"}],\"scattergl\":[{\"type\":\"scattergl\",\"marker\":{\"colorbar\":{\"outlinewidth\":0,\"ticks\":\"\"}}}],\"scatter3d\":[{\"type\":\"scatter3d\",\"line\":{\"colorbar\":{\"outlinewidth\":0,\"ticks\":\"\"}},\"marker\":{\"colorbar\":{\"outlinewidth\":0,\"ticks\":\"\"}}}],\"scattermapbox\":[{\"type\":\"scattermapbox\",\"marker\":{\"colorbar\":{\"outlinewidth\":0,\"ticks\":\"\"}}}],\"scatterternary\":[{\"type\":\"scatterternary\",\"marker\":{\"colorbar\":{\"outlinewidth\":0,\"ticks\":\"\"}}}],\"scattercarpet\":[{\"type\":\"scattercarpet\",\"marker\":{\"colorbar\":{\"outlinewidth\":0,\"ticks\":\"\"}}}],\"carpet\":[{\"aaxis\":{\"endlinecolor\":\"#2a3f5f\",\"gridcolor\":\"white\",\"linecolor\":\"white\",\"minorgridcolor\":\"white\",\"startlinecolor\":\"#2a3f5f\"},\"baxis\":{\"endlinecolor\":\"#2a3f5f\",\"gridcolor\":\"white\",\"linecolor\":\"white\",\"minorgridcolor\":\"white\",\"startlinecolor\":\"#2a3f5f\"},\"type\":\"carpet\"}],\"table\":[{\"cells\":{\"fill\":{\"color\":\"#EBF0F8\"},\"line\":{\"color\":\"white\"}},\"header\":{\"fill\":{\"color\":\"#C8D4E3\"},\"line\":{\"color\":\"white\"}},\"type\":\"table\"}],\"barpolar\":[{\"marker\":{\"line\":{\"color\":\"#E5ECF6\",\"width\":0.5},\"pattern\":{\"fillmode\":\"overlay\",\"size\":10,\"solidity\":0.2}},\"type\":\"barpolar\"}],\"pie\":[{\"automargin\":true,\"type\":\"pie\"}]},\"layout\":{\"autotypenumbers\":\"strict\",\"colorway\":[\"#636efa\",\"#EF553B\",\"#00cc96\",\"#ab63fa\",\"#FFA15A\",\"#19d3f3\",\"#FF6692\",\"#B6E880\",\"#FF97FF\",\"#FECB52\"],\"font\":{\"color\":\"#2a3f5f\"},\"hovermode\":\"closest\",\"hoverlabel\":{\"align\":\"left\"},\"paper_bgcolor\":\"white\",\"plot_bgcolor\":\"#E5ECF6\",\"polar\":{\"bgcolor\":\"#E5ECF6\",\"angularaxis\":{\"gridcolor\":\"white\",\"linecolor\":\"white\",\"ticks\":\"\"},\"radialaxis\":{\"gridcolor\":\"white\",\"linecolor\":\"white\",\"ticks\":\"\"}},\"ternary\":{\"bgcolor\":\"#E5ECF6\",\"aaxis\":{\"gridcolor\":\"white\",\"linecolor\":\"white\",\"ticks\":\"\"},\"baxis\":{\"gridcolor\":\"white\",\"linecolor\":\"white\",\"ticks\":\"\"},\"caxis\":{\"gridcolor\":\"white\",\"linecolor\":\"white\",\"ticks\":\"\"}},\"coloraxis\":{\"colorbar\":{\"outlinewidth\":0,\"ticks\":\"\"}},\"colorscale\":{\"sequential\":[[0.0,\"#0d0887\"],[0.1111111111111111,\"#46039f\"],[0.2222222222222222,\"#7201a8\"],[0.3333333333333333,\"#9c179e\"],[0.4444444444444444,\"#bd3786\"],[0.5555555555555556,\"#d8576b\"],[0.6666666666666666,\"#ed7953\"],[0.7777777777777778,\"#fb9f3a\"],[0.8888888888888888,\"#fdca26\"],[1.0,\"#f0f921\"]],\"sequentialminus\":[[0.0,\"#0d0887\"],[0.1111111111111111,\"#46039f\"],[0.2222222222222222,\"#7201a8\"],[0.3333333333333333,\"#9c179e\"],[0.4444444444444444,\"#bd3786\"],[0.5555555555555556,\"#d8576b\"],[0.6666666666666666,\"#ed7953\"],[0.7777777777777778,\"#fb9f3a\"],[0.8888888888888888,\"#fdca26\"],[1.0,\"#f0f921\"]],\"diverging\":[[0,\"#8e0152\"],[0.1,\"#c51b7d\"],[0.2,\"#de77ae\"],[0.3,\"#f1b6da\"],[0.4,\"#fde0ef\"],[0.5,\"#f7f7f7\"],[0.6,\"#e6f5d0\"],[0.7,\"#b8e186\"],[0.8,\"#7fbc41\"],[0.9,\"#4d9221\"],[1,\"#276419\"]]},\"xaxis\":{\"gridcolor\":\"white\",\"linecolor\":\"white\",\"ticks\":\"\",\"title\":{\"standoff\":15},\"zerolinecolor\":\"white\",\"automargin\":true,\"zerolinewidth\":2},\"yaxis\":{\"gridcolor\":\"white\",\"linecolor\":\"white\",\"ticks\":\"\",\"title\":{\"standoff\":15},\"zerolinecolor\":\"white\",\"automargin\":true,\"zerolinewidth\":2},\"scene\":{\"xaxis\":{\"backgroundcolor\":\"#E5ECF6\",\"gridcolor\":\"white\",\"linecolor\":\"white\",\"showbackground\":true,\"ticks\":\"\",\"zerolinecolor\":\"white\",\"gridwidth\":2},\"yaxis\":{\"backgroundcolor\":\"#E5ECF6\",\"gridcolor\":\"white\",\"linecolor\":\"white\",\"showbackground\":true,\"ticks\":\"\",\"zerolinecolor\":\"white\",\"gridwidth\":2},\"zaxis\":{\"backgroundcolor\":\"#E5ECF6\",\"gridcolor\":\"white\",\"linecolor\":\"white\",\"showbackground\":true,\"ticks\":\"\",\"zerolinecolor\":\"white\",\"gridwidth\":2}},\"shapedefaults\":{\"line\":{\"color\":\"#2a3f5f\"}},\"annotationdefaults\":{\"arrowcolor\":\"#2a3f5f\",\"arrowhead\":0,\"arrowwidth\":1},\"geo\":{\"bgcolor\":\"white\",\"landcolor\":\"#E5ECF6\",\"subunitcolor\":\"white\",\"showland\":true,\"showlakes\":true,\"lakecolor\":\"white\"},\"title\":{\"x\":0.05},\"mapbox\":{\"style\":\"light\"}}},\"xaxis\":{\"title\":{\"text\":\"batch_size\"},\"range\":[10.399999999999999,133.6]},\"yaxis\":{\"title\":{\"text\":\"lr\"},\"range\":[-6.934904363451787,-0.7911635793380823],\"type\":\"log\"}},                        {\"responsive\": true}                    ).then(function(){\n",
       "                            \n",
       "var gd = document.getElementById('1d3a0adb-181a-4a2f-a9f1-01b4edfe5e14');\n",
       "var x = new MutationObserver(function (mutations, observer) {{\n",
       "        var display = window.getComputedStyle(gd).display;\n",
       "        if (!display || display === 'none') {{\n",
       "            console.log([gd, 'removed!']);\n",
       "            Plotly.purge(gd);\n",
       "            observer.disconnect();\n",
       "        }}\n",
       "}});\n",
       "\n",
       "// Listen for the removal of the full notebook cells\n",
       "var notebookContainer = gd.closest('#notebook-container');\n",
       "if (notebookContainer) {{\n",
       "    x.observe(notebookContainer, {childList: true});\n",
       "}}\n",
       "\n",
       "// Listen for the clearing of the current output cell\n",
       "var outputEl = gd.closest('.output');\n",
       "if (outputEl) {{\n",
       "    x.observe(outputEl, {childList: true});\n",
       "}}\n",
       "\n",
       "                        })                };                });            </script>        </div>"
      ]
     },
     "metadata": {},
     "output_type": "display_data"
    }
   ],
   "source": [
    "fig = optuna.visualization.plot_contour(study, [\"lr\", \"batch_size\"])\n",
    "fig.show()"
   ]
  },
  {
   "cell_type": "code",
   "execution_count": 17,
   "metadata": {},
   "outputs": [
    {
     "data": {
      "application/vnd.plotly.v1+json": {
       "config": {
        "plotlyServerURL": "https://plot.ly"
       },
       "data": [
        {
         "colorbar": {
          "title": {
           "text": "Objective Value"
          }
         },
         "colorscale": [
          [
           0,
           "rgb(247,251,255)"
          ],
          [
           0.125,
           "rgb(222,235,247)"
          ],
          [
           0.25,
           "rgb(198,219,239)"
          ],
          [
           0.375,
           "rgb(158,202,225)"
          ],
          [
           0.5,
           "rgb(107,174,214)"
          ],
          [
           0.625,
           "rgb(66,146,198)"
          ],
          [
           0.75,
           "rgb(33,113,181)"
          ],
          [
           0.875,
           "rgb(8,81,156)"
          ],
          [
           1,
           "rgb(8,48,107)"
          ]
         ],
         "connectgaps": true,
         "contours": {
          "coloring": "heatmap"
         },
         "hoverinfo": "none",
         "line": {
          "smoothing": 1.3
         },
         "reversescale": true,
         "type": "contour",
         "x": [
          -0.3500000000000001,
          1,
          2,
          4,
          6,
          7,
          10,
          11,
          12,
          13,
          14,
          15,
          16,
          17,
          18,
          19,
          20,
          21,
          22,
          23,
          24,
          25,
          26,
          28,
          29.35
         ],
         "y": [
          0.55,
          1,
          2,
          3,
          4,
          5,
          6,
          7,
          8,
          9,
          10,
          10.45
         ],
         "z": [
          [
           null,
           null,
           null,
           null,
           null,
           null,
           null,
           null,
           null,
           null,
           null,
           null,
           null,
           null,
           null,
           null,
           null,
           null,
           null,
           null,
           null,
           null,
           null,
           null,
           null
          ],
          [
           null,
           null,
           null,
           null,
           0.27242452260993777,
           0.27993245515972376,
           null,
           null,
           null,
           null,
           0.2712962857913226,
           null,
           null,
           null,
           null,
           null,
           null,
           null,
           null,
           null,
           null,
           null,
           null,
           null,
           null
          ],
          [
           null,
           null,
           null,
           null,
           0.27255570533729734,
           null,
           null,
           null,
           null,
           null,
           null,
           null,
           null,
           0.26721169985830784,
           null,
           null,
           null,
           null,
           null,
           null,
           0.730725499716672,
           null,
           null,
           null,
           null
          ],
          [
           null,
           null,
           null,
           0.25604898769121903,
           0.26862444254485046,
           null,
           null,
           0.26958812959492207,
           null,
           null,
           null,
           null,
           null,
           null,
           null,
           null,
           null,
           null,
           null,
           null,
           null,
           null,
           null,
           null,
           null
          ],
          [
           null,
           null,
           0.5117237459099482,
           0.2840522961183028,
           null,
           null,
           null,
           null,
           0.25754492823034525,
           0.2636747222680312,
           null,
           null,
           null,
           null,
           null,
           null,
           null,
           null,
           null,
           null,
           null,
           null,
           null,
           null,
           null
          ],
          [
           null,
           null,
           null,
           null,
           null,
           null,
           null,
           null,
           null,
           null,
           0.2873523467116886,
           null,
           null,
           null,
           null,
           null,
           null,
           null,
           null,
           null,
           null,
           null,
           null,
           null,
           null
          ],
          [
           null,
           null,
           null,
           null,
           null,
           null,
           null,
           null,
           null,
           null,
           null,
           0.26629439927637577,
           null,
           0.29718612822202534,
           0.24615790943304697,
           0.25837090114752453,
           0.26900702052646214,
           null,
           null,
           null,
           null,
           null,
           null,
           null,
           null
          ],
          [
           null,
           0.26226233773761326,
           null,
           null,
           null,
           null,
           0.26690472662448883,
           0.2676942315366533,
           0.250877751244439,
           0.31482233479619026,
           0.2733392510563135,
           0.26522068408402527,
           0.24919878939787546,
           null,
           null,
           null,
           null,
           0.24833550055821738,
           null,
           0.2505142201076854,
           null,
           null,
           null,
           null,
           null
          ],
          [
           null,
           null,
           null,
           null,
           null,
           null,
           null,
           null,
           null,
           null,
           0.24236836367183262,
           0.2500247094366286,
           0.24940132598082224,
           0.2492119800299406,
           null,
           0.2435563455025355,
           0.2553761866357591,
           0.24963095784187317,
           0.250805311732822,
           0.26817180758172815,
           null,
           null,
           0.25380293652415276,
           null,
           null
          ],
          [
           null,
           null,
           null,
           null,
           null,
           null,
           null,
           null,
           null,
           0.2508597035299648,
           0.2490606294436888,
           null,
           null,
           0.26062609627842903,
           null,
           0.2533429182238049,
           null,
           null,
           null,
           null,
           null,
           null,
           0.26239403896033764,
           0.6723012216389179,
           null
          ],
          [
           null,
           null,
           null,
           null,
           null,
           null,
           null,
           null,
           null,
           null,
           null,
           null,
           null,
           null,
           null,
           null,
           null,
           0.2669638395309448,
           null,
           null,
           null,
           0.33913436957768034,
           null,
           null,
           null
          ],
          [
           null,
           null,
           null,
           null,
           null,
           null,
           null,
           null,
           null,
           null,
           null,
           null,
           null,
           null,
           null,
           null,
           null,
           null,
           null,
           null,
           null,
           null,
           null,
           null,
           null
          ]
         ]
        },
        {
         "marker": {
          "color": "black",
          "line": {
           "color": "Grey",
           "width": 2
          }
         },
         "mode": "markers",
         "showlegend": false,
         "type": "scatter",
         "x": [
          22,
          24,
          2,
          11,
          28,
          23,
          25,
          4,
          14,
          17,
          14,
          6,
          6,
          6,
          17,
          6,
          6,
          7,
          12,
          13,
          11,
          4,
          19,
          18,
          20,
          19,
          20,
          26,
          22,
          22,
          15,
          15,
          17,
          14,
          26,
          23,
          21,
          15,
          21,
          13,
          19,
          23,
          19,
          21,
          1,
          20,
          19,
          17,
          19,
          13,
          10,
          20,
          19,
          22,
          16,
          16,
          15,
          15,
          12,
          14,
          14,
          13,
          15
         ],
         "y": [
          8,
          2,
          4,
          7,
          9,
          7,
          10,
          3,
          1,
          6,
          5,
          3,
          1,
          3,
          2,
          1,
          2,
          1,
          4,
          4,
          3,
          4,
          6,
          6,
          6,
          8,
          8,
          8,
          8,
          8,
          6,
          7,
          8,
          7,
          9,
          8,
          8,
          8,
          7,
          7,
          8,
          7,
          9,
          10,
          7,
          8,
          8,
          9,
          6,
          4,
          7,
          8,
          8,
          8,
          7,
          8,
          8,
          8,
          7,
          8,
          9,
          9,
          6
         ]
        }
       ],
       "layout": {
        "template": {
         "data": {
          "bar": [
           {
            "error_x": {
             "color": "#2a3f5f"
            },
            "error_y": {
             "color": "#2a3f5f"
            },
            "marker": {
             "line": {
              "color": "#E5ECF6",
              "width": 0.5
             },
             "pattern": {
              "fillmode": "overlay",
              "size": 10,
              "solidity": 0.2
             }
            },
            "type": "bar"
           }
          ],
          "barpolar": [
           {
            "marker": {
             "line": {
              "color": "#E5ECF6",
              "width": 0.5
             },
             "pattern": {
              "fillmode": "overlay",
              "size": 10,
              "solidity": 0.2
             }
            },
            "type": "barpolar"
           }
          ],
          "carpet": [
           {
            "aaxis": {
             "endlinecolor": "#2a3f5f",
             "gridcolor": "white",
             "linecolor": "white",
             "minorgridcolor": "white",
             "startlinecolor": "#2a3f5f"
            },
            "baxis": {
             "endlinecolor": "#2a3f5f",
             "gridcolor": "white",
             "linecolor": "white",
             "minorgridcolor": "white",
             "startlinecolor": "#2a3f5f"
            },
            "type": "carpet"
           }
          ],
          "choropleth": [
           {
            "colorbar": {
             "outlinewidth": 0,
             "ticks": ""
            },
            "type": "choropleth"
           }
          ],
          "contour": [
           {
            "colorbar": {
             "outlinewidth": 0,
             "ticks": ""
            },
            "colorscale": [
             [
              0,
              "#0d0887"
             ],
             [
              0.1111111111111111,
              "#46039f"
             ],
             [
              0.2222222222222222,
              "#7201a8"
             ],
             [
              0.3333333333333333,
              "#9c179e"
             ],
             [
              0.4444444444444444,
              "#bd3786"
             ],
             [
              0.5555555555555556,
              "#d8576b"
             ],
             [
              0.6666666666666666,
              "#ed7953"
             ],
             [
              0.7777777777777778,
              "#fb9f3a"
             ],
             [
              0.8888888888888888,
              "#fdca26"
             ],
             [
              1,
              "#f0f921"
             ]
            ],
            "type": "contour"
           }
          ],
          "contourcarpet": [
           {
            "colorbar": {
             "outlinewidth": 0,
             "ticks": ""
            },
            "type": "contourcarpet"
           }
          ],
          "heatmap": [
           {
            "colorbar": {
             "outlinewidth": 0,
             "ticks": ""
            },
            "colorscale": [
             [
              0,
              "#0d0887"
             ],
             [
              0.1111111111111111,
              "#46039f"
             ],
             [
              0.2222222222222222,
              "#7201a8"
             ],
             [
              0.3333333333333333,
              "#9c179e"
             ],
             [
              0.4444444444444444,
              "#bd3786"
             ],
             [
              0.5555555555555556,
              "#d8576b"
             ],
             [
              0.6666666666666666,
              "#ed7953"
             ],
             [
              0.7777777777777778,
              "#fb9f3a"
             ],
             [
              0.8888888888888888,
              "#fdca26"
             ],
             [
              1,
              "#f0f921"
             ]
            ],
            "type": "heatmap"
           }
          ],
          "heatmapgl": [
           {
            "colorbar": {
             "outlinewidth": 0,
             "ticks": ""
            },
            "colorscale": [
             [
              0,
              "#0d0887"
             ],
             [
              0.1111111111111111,
              "#46039f"
             ],
             [
              0.2222222222222222,
              "#7201a8"
             ],
             [
              0.3333333333333333,
              "#9c179e"
             ],
             [
              0.4444444444444444,
              "#bd3786"
             ],
             [
              0.5555555555555556,
              "#d8576b"
             ],
             [
              0.6666666666666666,
              "#ed7953"
             ],
             [
              0.7777777777777778,
              "#fb9f3a"
             ],
             [
              0.8888888888888888,
              "#fdca26"
             ],
             [
              1,
              "#f0f921"
             ]
            ],
            "type": "heatmapgl"
           }
          ],
          "histogram": [
           {
            "marker": {
             "pattern": {
              "fillmode": "overlay",
              "size": 10,
              "solidity": 0.2
             }
            },
            "type": "histogram"
           }
          ],
          "histogram2d": [
           {
            "colorbar": {
             "outlinewidth": 0,
             "ticks": ""
            },
            "colorscale": [
             [
              0,
              "#0d0887"
             ],
             [
              0.1111111111111111,
              "#46039f"
             ],
             [
              0.2222222222222222,
              "#7201a8"
             ],
             [
              0.3333333333333333,
              "#9c179e"
             ],
             [
              0.4444444444444444,
              "#bd3786"
             ],
             [
              0.5555555555555556,
              "#d8576b"
             ],
             [
              0.6666666666666666,
              "#ed7953"
             ],
             [
              0.7777777777777778,
              "#fb9f3a"
             ],
             [
              0.8888888888888888,
              "#fdca26"
             ],
             [
              1,
              "#f0f921"
             ]
            ],
            "type": "histogram2d"
           }
          ],
          "histogram2dcontour": [
           {
            "colorbar": {
             "outlinewidth": 0,
             "ticks": ""
            },
            "colorscale": [
             [
              0,
              "#0d0887"
             ],
             [
              0.1111111111111111,
              "#46039f"
             ],
             [
              0.2222222222222222,
              "#7201a8"
             ],
             [
              0.3333333333333333,
              "#9c179e"
             ],
             [
              0.4444444444444444,
              "#bd3786"
             ],
             [
              0.5555555555555556,
              "#d8576b"
             ],
             [
              0.6666666666666666,
              "#ed7953"
             ],
             [
              0.7777777777777778,
              "#fb9f3a"
             ],
             [
              0.8888888888888888,
              "#fdca26"
             ],
             [
              1,
              "#f0f921"
             ]
            ],
            "type": "histogram2dcontour"
           }
          ],
          "mesh3d": [
           {
            "colorbar": {
             "outlinewidth": 0,
             "ticks": ""
            },
            "type": "mesh3d"
           }
          ],
          "parcoords": [
           {
            "line": {
             "colorbar": {
              "outlinewidth": 0,
              "ticks": ""
             }
            },
            "type": "parcoords"
           }
          ],
          "pie": [
           {
            "automargin": true,
            "type": "pie"
           }
          ],
          "scatter": [
           {
            "fillpattern": {
             "fillmode": "overlay",
             "size": 10,
             "solidity": 0.2
            },
            "type": "scatter"
           }
          ],
          "scatter3d": [
           {
            "line": {
             "colorbar": {
              "outlinewidth": 0,
              "ticks": ""
             }
            },
            "marker": {
             "colorbar": {
              "outlinewidth": 0,
              "ticks": ""
             }
            },
            "type": "scatter3d"
           }
          ],
          "scattercarpet": [
           {
            "marker": {
             "colorbar": {
              "outlinewidth": 0,
              "ticks": ""
             }
            },
            "type": "scattercarpet"
           }
          ],
          "scattergeo": [
           {
            "marker": {
             "colorbar": {
              "outlinewidth": 0,
              "ticks": ""
             }
            },
            "type": "scattergeo"
           }
          ],
          "scattergl": [
           {
            "marker": {
             "colorbar": {
              "outlinewidth": 0,
              "ticks": ""
             }
            },
            "type": "scattergl"
           }
          ],
          "scattermapbox": [
           {
            "marker": {
             "colorbar": {
              "outlinewidth": 0,
              "ticks": ""
             }
            },
            "type": "scattermapbox"
           }
          ],
          "scatterpolar": [
           {
            "marker": {
             "colorbar": {
              "outlinewidth": 0,
              "ticks": ""
             }
            },
            "type": "scatterpolar"
           }
          ],
          "scatterpolargl": [
           {
            "marker": {
             "colorbar": {
              "outlinewidth": 0,
              "ticks": ""
             }
            },
            "type": "scatterpolargl"
           }
          ],
          "scatterternary": [
           {
            "marker": {
             "colorbar": {
              "outlinewidth": 0,
              "ticks": ""
             }
            },
            "type": "scatterternary"
           }
          ],
          "surface": [
           {
            "colorbar": {
             "outlinewidth": 0,
             "ticks": ""
            },
            "colorscale": [
             [
              0,
              "#0d0887"
             ],
             [
              0.1111111111111111,
              "#46039f"
             ],
             [
              0.2222222222222222,
              "#7201a8"
             ],
             [
              0.3333333333333333,
              "#9c179e"
             ],
             [
              0.4444444444444444,
              "#bd3786"
             ],
             [
              0.5555555555555556,
              "#d8576b"
             ],
             [
              0.6666666666666666,
              "#ed7953"
             ],
             [
              0.7777777777777778,
              "#fb9f3a"
             ],
             [
              0.8888888888888888,
              "#fdca26"
             ],
             [
              1,
              "#f0f921"
             ]
            ],
            "type": "surface"
           }
          ],
          "table": [
           {
            "cells": {
             "fill": {
              "color": "#EBF0F8"
             },
             "line": {
              "color": "white"
             }
            },
            "header": {
             "fill": {
              "color": "#C8D4E3"
             },
             "line": {
              "color": "white"
             }
            },
            "type": "table"
           }
          ]
         },
         "layout": {
          "annotationdefaults": {
           "arrowcolor": "#2a3f5f",
           "arrowhead": 0,
           "arrowwidth": 1
          },
          "autotypenumbers": "strict",
          "coloraxis": {
           "colorbar": {
            "outlinewidth": 0,
            "ticks": ""
           }
          },
          "colorscale": {
           "diverging": [
            [
             0,
             "#8e0152"
            ],
            [
             0.1,
             "#c51b7d"
            ],
            [
             0.2,
             "#de77ae"
            ],
            [
             0.3,
             "#f1b6da"
            ],
            [
             0.4,
             "#fde0ef"
            ],
            [
             0.5,
             "#f7f7f7"
            ],
            [
             0.6,
             "#e6f5d0"
            ],
            [
             0.7,
             "#b8e186"
            ],
            [
             0.8,
             "#7fbc41"
            ],
            [
             0.9,
             "#4d9221"
            ],
            [
             1,
             "#276419"
            ]
           ],
           "sequential": [
            [
             0,
             "#0d0887"
            ],
            [
             0.1111111111111111,
             "#46039f"
            ],
            [
             0.2222222222222222,
             "#7201a8"
            ],
            [
             0.3333333333333333,
             "#9c179e"
            ],
            [
             0.4444444444444444,
             "#bd3786"
            ],
            [
             0.5555555555555556,
             "#d8576b"
            ],
            [
             0.6666666666666666,
             "#ed7953"
            ],
            [
             0.7777777777777778,
             "#fb9f3a"
            ],
            [
             0.8888888888888888,
             "#fdca26"
            ],
            [
             1,
             "#f0f921"
            ]
           ],
           "sequentialminus": [
            [
             0,
             "#0d0887"
            ],
            [
             0.1111111111111111,
             "#46039f"
            ],
            [
             0.2222222222222222,
             "#7201a8"
            ],
            [
             0.3333333333333333,
             "#9c179e"
            ],
            [
             0.4444444444444444,
             "#bd3786"
            ],
            [
             0.5555555555555556,
             "#d8576b"
            ],
            [
             0.6666666666666666,
             "#ed7953"
            ],
            [
             0.7777777777777778,
             "#fb9f3a"
            ],
            [
             0.8888888888888888,
             "#fdca26"
            ],
            [
             1,
             "#f0f921"
            ]
           ]
          },
          "colorway": [
           "#636efa",
           "#EF553B",
           "#00cc96",
           "#ab63fa",
           "#FFA15A",
           "#19d3f3",
           "#FF6692",
           "#B6E880",
           "#FF97FF",
           "#FECB52"
          ],
          "font": {
           "color": "#2a3f5f"
          },
          "geo": {
           "bgcolor": "white",
           "lakecolor": "white",
           "landcolor": "#E5ECF6",
           "showlakes": true,
           "showland": true,
           "subunitcolor": "white"
          },
          "hoverlabel": {
           "align": "left"
          },
          "hovermode": "closest",
          "mapbox": {
           "style": "light"
          },
          "paper_bgcolor": "white",
          "plot_bgcolor": "#E5ECF6",
          "polar": {
           "angularaxis": {
            "gridcolor": "white",
            "linecolor": "white",
            "ticks": ""
           },
           "bgcolor": "#E5ECF6",
           "radialaxis": {
            "gridcolor": "white",
            "linecolor": "white",
            "ticks": ""
           }
          },
          "scene": {
           "xaxis": {
            "backgroundcolor": "#E5ECF6",
            "gridcolor": "white",
            "gridwidth": 2,
            "linecolor": "white",
            "showbackground": true,
            "ticks": "",
            "zerolinecolor": "white"
           },
           "yaxis": {
            "backgroundcolor": "#E5ECF6",
            "gridcolor": "white",
            "gridwidth": 2,
            "linecolor": "white",
            "showbackground": true,
            "ticks": "",
            "zerolinecolor": "white"
           },
           "zaxis": {
            "backgroundcolor": "#E5ECF6",
            "gridcolor": "white",
            "gridwidth": 2,
            "linecolor": "white",
            "showbackground": true,
            "ticks": "",
            "zerolinecolor": "white"
           }
          },
          "shapedefaults": {
           "line": {
            "color": "#2a3f5f"
           }
          },
          "ternary": {
           "aaxis": {
            "gridcolor": "white",
            "linecolor": "white",
            "ticks": ""
           },
           "baxis": {
            "gridcolor": "white",
            "linecolor": "white",
            "ticks": ""
           },
           "bgcolor": "#E5ECF6",
           "caxis": {
            "gridcolor": "white",
            "linecolor": "white",
            "ticks": ""
           }
          },
          "title": {
           "x": 0.05
          },
          "xaxis": {
           "automargin": true,
           "gridcolor": "white",
           "linecolor": "white",
           "ticks": "",
           "title": {
            "standoff": 15
           },
           "zerolinecolor": "white",
           "zerolinewidth": 2
          },
          "yaxis": {
           "automargin": true,
           "gridcolor": "white",
           "linecolor": "white",
           "ticks": "",
           "title": {
            "standoff": 15
           },
           "zerolinecolor": "white",
           "zerolinewidth": 2
          }
         }
        },
        "title": {
         "text": "Contour Plot"
        },
        "xaxis": {
         "range": [
          -0.3500000000000001,
          29.35
         ],
         "title": {
          "text": "n_layers_blocks"
         }
        },
        "yaxis": {
         "range": [
          0.55,
          10.45
         ],
         "title": {
          "text": "n_layers_linear"
         }
        }
       }
      },
      "text/html": [
       "<div>                            <div id=\"31255e32-8ffd-46f6-8fa2-3c46dd1dfcf6\" class=\"plotly-graph-div\" style=\"height:525px; width:100%;\"></div>            <script type=\"text/javascript\">                require([\"plotly\"], function(Plotly) {                    window.PLOTLYENV=window.PLOTLYENV || {};                                    if (document.getElementById(\"31255e32-8ffd-46f6-8fa2-3c46dd1dfcf6\")) {                    Plotly.newPlot(                        \"31255e32-8ffd-46f6-8fa2-3c46dd1dfcf6\",                        [{\"colorbar\":{\"title\":{\"text\":\"Objective Value\"}},\"colorscale\":[[0.0,\"rgb(247,251,255)\"],[0.125,\"rgb(222,235,247)\"],[0.25,\"rgb(198,219,239)\"],[0.375,\"rgb(158,202,225)\"],[0.5,\"rgb(107,174,214)\"],[0.625,\"rgb(66,146,198)\"],[0.75,\"rgb(33,113,181)\"],[0.875,\"rgb(8,81,156)\"],[1.0,\"rgb(8,48,107)\"]],\"connectgaps\":true,\"contours\":{\"coloring\":\"heatmap\"},\"hoverinfo\":\"none\",\"line\":{\"smoothing\":1.3},\"reversescale\":true,\"x\":[-0.3500000000000001,1,2,4,6,7,10,11,12,13,14,15,16,17,18,19,20,21,22,23,24,25,26,28,29.35],\"y\":[0.55,1,2,3,4,5,6,7,8,9,10,10.45],\"z\":[[null,null,null,null,null,null,null,null,null,null,null,null,null,null,null,null,null,null,null,null,null,null,null,null,null],[null,null,null,null,0.27242452260993777,0.27993245515972376,null,null,null,null,0.2712962857913226,null,null,null,null,null,null,null,null,null,null,null,null,null,null],[null,null,null,null,0.27255570533729734,null,null,null,null,null,null,null,null,0.26721169985830784,null,null,null,null,null,null,0.730725499716672,null,null,null,null],[null,null,null,0.25604898769121903,0.26862444254485046,null,null,0.26958812959492207,null,null,null,null,null,null,null,null,null,null,null,null,null,null,null,null,null],[null,null,0.5117237459099482,0.2840522961183028,null,null,null,null,0.25754492823034525,0.2636747222680312,null,null,null,null,null,null,null,null,null,null,null,null,null,null,null],[null,null,null,null,null,null,null,null,null,null,0.2873523467116886,null,null,null,null,null,null,null,null,null,null,null,null,null,null],[null,null,null,null,null,null,null,null,null,null,null,0.26629439927637577,null,0.29718612822202534,0.24615790943304697,0.25837090114752453,0.26900702052646214,null,null,null,null,null,null,null,null],[null,0.26226233773761326,null,null,null,null,0.26690472662448883,0.2676942315366533,0.250877751244439,0.31482233479619026,0.2733392510563135,0.26522068408402527,0.24919878939787546,null,null,null,null,0.24833550055821738,null,0.2505142201076854,null,null,null,null,null],[null,null,null,null,null,null,null,null,null,null,0.24236836367183262,0.2500247094366286,0.24940132598082224,0.2492119800299406,null,0.2435563455025355,0.2553761866357591,0.24963095784187317,0.250805311732822,0.26817180758172815,null,null,0.25380293652415276,null,null],[null,null,null,null,null,null,null,null,null,0.2508597035299648,0.2490606294436888,null,null,0.26062609627842903,null,0.2533429182238049,null,null,null,null,null,null,0.26239403896033764,0.6723012216389179,null],[null,null,null,null,null,null,null,null,null,null,null,null,null,null,null,null,null,0.2669638395309448,null,null,null,0.33913436957768034,null,null,null],[null,null,null,null,null,null,null,null,null,null,null,null,null,null,null,null,null,null,null,null,null,null,null,null,null]],\"type\":\"contour\"},{\"marker\":{\"color\":\"black\",\"line\":{\"color\":\"Grey\",\"width\":2.0}},\"mode\":\"markers\",\"showlegend\":false,\"x\":[22,24,2,11,28,23,25,4,14,17,14,6,6,6,17,6,6,7,12,13,11,4,19,18,20,19,20,26,22,22,15,15,17,14,26,23,21,15,21,13,19,23,19,21,1,20,19,17,19,13,10,20,19,22,16,16,15,15,12,14,14,13,15],\"y\":[8,2,4,7,9,7,10,3,1,6,5,3,1,3,2,1,2,1,4,4,3,4,6,6,6,8,8,8,8,8,6,7,8,7,9,8,8,8,7,7,8,7,9,10,7,8,8,9,6,4,7,8,8,8,7,8,8,8,7,8,9,9,6],\"type\":\"scatter\"}],                        {\"title\":{\"text\":\"Contour Plot\"},\"template\":{\"data\":{\"histogram2dcontour\":[{\"type\":\"histogram2dcontour\",\"colorbar\":{\"outlinewidth\":0,\"ticks\":\"\"},\"colorscale\":[[0.0,\"#0d0887\"],[0.1111111111111111,\"#46039f\"],[0.2222222222222222,\"#7201a8\"],[0.3333333333333333,\"#9c179e\"],[0.4444444444444444,\"#bd3786\"],[0.5555555555555556,\"#d8576b\"],[0.6666666666666666,\"#ed7953\"],[0.7777777777777778,\"#fb9f3a\"],[0.8888888888888888,\"#fdca26\"],[1.0,\"#f0f921\"]]}],\"choropleth\":[{\"type\":\"choropleth\",\"colorbar\":{\"outlinewidth\":0,\"ticks\":\"\"}}],\"histogram2d\":[{\"type\":\"histogram2d\",\"colorbar\":{\"outlinewidth\":0,\"ticks\":\"\"},\"colorscale\":[[0.0,\"#0d0887\"],[0.1111111111111111,\"#46039f\"],[0.2222222222222222,\"#7201a8\"],[0.3333333333333333,\"#9c179e\"],[0.4444444444444444,\"#bd3786\"],[0.5555555555555556,\"#d8576b\"],[0.6666666666666666,\"#ed7953\"],[0.7777777777777778,\"#fb9f3a\"],[0.8888888888888888,\"#fdca26\"],[1.0,\"#f0f921\"]]}],\"heatmap\":[{\"type\":\"heatmap\",\"colorbar\":{\"outlinewidth\":0,\"ticks\":\"\"},\"colorscale\":[[0.0,\"#0d0887\"],[0.1111111111111111,\"#46039f\"],[0.2222222222222222,\"#7201a8\"],[0.3333333333333333,\"#9c179e\"],[0.4444444444444444,\"#bd3786\"],[0.5555555555555556,\"#d8576b\"],[0.6666666666666666,\"#ed7953\"],[0.7777777777777778,\"#fb9f3a\"],[0.8888888888888888,\"#fdca26\"],[1.0,\"#f0f921\"]]}],\"heatmapgl\":[{\"type\":\"heatmapgl\",\"colorbar\":{\"outlinewidth\":0,\"ticks\":\"\"},\"colorscale\":[[0.0,\"#0d0887\"],[0.1111111111111111,\"#46039f\"],[0.2222222222222222,\"#7201a8\"],[0.3333333333333333,\"#9c179e\"],[0.4444444444444444,\"#bd3786\"],[0.5555555555555556,\"#d8576b\"],[0.6666666666666666,\"#ed7953\"],[0.7777777777777778,\"#fb9f3a\"],[0.8888888888888888,\"#fdca26\"],[1.0,\"#f0f921\"]]}],\"contourcarpet\":[{\"type\":\"contourcarpet\",\"colorbar\":{\"outlinewidth\":0,\"ticks\":\"\"}}],\"contour\":[{\"type\":\"contour\",\"colorbar\":{\"outlinewidth\":0,\"ticks\":\"\"},\"colorscale\":[[0.0,\"#0d0887\"],[0.1111111111111111,\"#46039f\"],[0.2222222222222222,\"#7201a8\"],[0.3333333333333333,\"#9c179e\"],[0.4444444444444444,\"#bd3786\"],[0.5555555555555556,\"#d8576b\"],[0.6666666666666666,\"#ed7953\"],[0.7777777777777778,\"#fb9f3a\"],[0.8888888888888888,\"#fdca26\"],[1.0,\"#f0f921\"]]}],\"surface\":[{\"type\":\"surface\",\"colorbar\":{\"outlinewidth\":0,\"ticks\":\"\"},\"colorscale\":[[0.0,\"#0d0887\"],[0.1111111111111111,\"#46039f\"],[0.2222222222222222,\"#7201a8\"],[0.3333333333333333,\"#9c179e\"],[0.4444444444444444,\"#bd3786\"],[0.5555555555555556,\"#d8576b\"],[0.6666666666666666,\"#ed7953\"],[0.7777777777777778,\"#fb9f3a\"],[0.8888888888888888,\"#fdca26\"],[1.0,\"#f0f921\"]]}],\"mesh3d\":[{\"type\":\"mesh3d\",\"colorbar\":{\"outlinewidth\":0,\"ticks\":\"\"}}],\"scatter\":[{\"fillpattern\":{\"fillmode\":\"overlay\",\"size\":10,\"solidity\":0.2},\"type\":\"scatter\"}],\"parcoords\":[{\"type\":\"parcoords\",\"line\":{\"colorbar\":{\"outlinewidth\":0,\"ticks\":\"\"}}}],\"scatterpolargl\":[{\"type\":\"scatterpolargl\",\"marker\":{\"colorbar\":{\"outlinewidth\":0,\"ticks\":\"\"}}}],\"bar\":[{\"error_x\":{\"color\":\"#2a3f5f\"},\"error_y\":{\"color\":\"#2a3f5f\"},\"marker\":{\"line\":{\"color\":\"#E5ECF6\",\"width\":0.5},\"pattern\":{\"fillmode\":\"overlay\",\"size\":10,\"solidity\":0.2}},\"type\":\"bar\"}],\"scattergeo\":[{\"type\":\"scattergeo\",\"marker\":{\"colorbar\":{\"outlinewidth\":0,\"ticks\":\"\"}}}],\"scatterpolar\":[{\"type\":\"scatterpolar\",\"marker\":{\"colorbar\":{\"outlinewidth\":0,\"ticks\":\"\"}}}],\"histogram\":[{\"marker\":{\"pattern\":{\"fillmode\":\"overlay\",\"size\":10,\"solidity\":0.2}},\"type\":\"histogram\"}],\"scattergl\":[{\"type\":\"scattergl\",\"marker\":{\"colorbar\":{\"outlinewidth\":0,\"ticks\":\"\"}}}],\"scatter3d\":[{\"type\":\"scatter3d\",\"line\":{\"colorbar\":{\"outlinewidth\":0,\"ticks\":\"\"}},\"marker\":{\"colorbar\":{\"outlinewidth\":0,\"ticks\":\"\"}}}],\"scattermapbox\":[{\"type\":\"scattermapbox\",\"marker\":{\"colorbar\":{\"outlinewidth\":0,\"ticks\":\"\"}}}],\"scatterternary\":[{\"type\":\"scatterternary\",\"marker\":{\"colorbar\":{\"outlinewidth\":0,\"ticks\":\"\"}}}],\"scattercarpet\":[{\"type\":\"scattercarpet\",\"marker\":{\"colorbar\":{\"outlinewidth\":0,\"ticks\":\"\"}}}],\"carpet\":[{\"aaxis\":{\"endlinecolor\":\"#2a3f5f\",\"gridcolor\":\"white\",\"linecolor\":\"white\",\"minorgridcolor\":\"white\",\"startlinecolor\":\"#2a3f5f\"},\"baxis\":{\"endlinecolor\":\"#2a3f5f\",\"gridcolor\":\"white\",\"linecolor\":\"white\",\"minorgridcolor\":\"white\",\"startlinecolor\":\"#2a3f5f\"},\"type\":\"carpet\"}],\"table\":[{\"cells\":{\"fill\":{\"color\":\"#EBF0F8\"},\"line\":{\"color\":\"white\"}},\"header\":{\"fill\":{\"color\":\"#C8D4E3\"},\"line\":{\"color\":\"white\"}},\"type\":\"table\"}],\"barpolar\":[{\"marker\":{\"line\":{\"color\":\"#E5ECF6\",\"width\":0.5},\"pattern\":{\"fillmode\":\"overlay\",\"size\":10,\"solidity\":0.2}},\"type\":\"barpolar\"}],\"pie\":[{\"automargin\":true,\"type\":\"pie\"}]},\"layout\":{\"autotypenumbers\":\"strict\",\"colorway\":[\"#636efa\",\"#EF553B\",\"#00cc96\",\"#ab63fa\",\"#FFA15A\",\"#19d3f3\",\"#FF6692\",\"#B6E880\",\"#FF97FF\",\"#FECB52\"],\"font\":{\"color\":\"#2a3f5f\"},\"hovermode\":\"closest\",\"hoverlabel\":{\"align\":\"left\"},\"paper_bgcolor\":\"white\",\"plot_bgcolor\":\"#E5ECF6\",\"polar\":{\"bgcolor\":\"#E5ECF6\",\"angularaxis\":{\"gridcolor\":\"white\",\"linecolor\":\"white\",\"ticks\":\"\"},\"radialaxis\":{\"gridcolor\":\"white\",\"linecolor\":\"white\",\"ticks\":\"\"}},\"ternary\":{\"bgcolor\":\"#E5ECF6\",\"aaxis\":{\"gridcolor\":\"white\",\"linecolor\":\"white\",\"ticks\":\"\"},\"baxis\":{\"gridcolor\":\"white\",\"linecolor\":\"white\",\"ticks\":\"\"},\"caxis\":{\"gridcolor\":\"white\",\"linecolor\":\"white\",\"ticks\":\"\"}},\"coloraxis\":{\"colorbar\":{\"outlinewidth\":0,\"ticks\":\"\"}},\"colorscale\":{\"sequential\":[[0.0,\"#0d0887\"],[0.1111111111111111,\"#46039f\"],[0.2222222222222222,\"#7201a8\"],[0.3333333333333333,\"#9c179e\"],[0.4444444444444444,\"#bd3786\"],[0.5555555555555556,\"#d8576b\"],[0.6666666666666666,\"#ed7953\"],[0.7777777777777778,\"#fb9f3a\"],[0.8888888888888888,\"#fdca26\"],[1.0,\"#f0f921\"]],\"sequentialminus\":[[0.0,\"#0d0887\"],[0.1111111111111111,\"#46039f\"],[0.2222222222222222,\"#7201a8\"],[0.3333333333333333,\"#9c179e\"],[0.4444444444444444,\"#bd3786\"],[0.5555555555555556,\"#d8576b\"],[0.6666666666666666,\"#ed7953\"],[0.7777777777777778,\"#fb9f3a\"],[0.8888888888888888,\"#fdca26\"],[1.0,\"#f0f921\"]],\"diverging\":[[0,\"#8e0152\"],[0.1,\"#c51b7d\"],[0.2,\"#de77ae\"],[0.3,\"#f1b6da\"],[0.4,\"#fde0ef\"],[0.5,\"#f7f7f7\"],[0.6,\"#e6f5d0\"],[0.7,\"#b8e186\"],[0.8,\"#7fbc41\"],[0.9,\"#4d9221\"],[1,\"#276419\"]]},\"xaxis\":{\"gridcolor\":\"white\",\"linecolor\":\"white\",\"ticks\":\"\",\"title\":{\"standoff\":15},\"zerolinecolor\":\"white\",\"automargin\":true,\"zerolinewidth\":2},\"yaxis\":{\"gridcolor\":\"white\",\"linecolor\":\"white\",\"ticks\":\"\",\"title\":{\"standoff\":15},\"zerolinecolor\":\"white\",\"automargin\":true,\"zerolinewidth\":2},\"scene\":{\"xaxis\":{\"backgroundcolor\":\"#E5ECF6\",\"gridcolor\":\"white\",\"linecolor\":\"white\",\"showbackground\":true,\"ticks\":\"\",\"zerolinecolor\":\"white\",\"gridwidth\":2},\"yaxis\":{\"backgroundcolor\":\"#E5ECF6\",\"gridcolor\":\"white\",\"linecolor\":\"white\",\"showbackground\":true,\"ticks\":\"\",\"zerolinecolor\":\"white\",\"gridwidth\":2},\"zaxis\":{\"backgroundcolor\":\"#E5ECF6\",\"gridcolor\":\"white\",\"linecolor\":\"white\",\"showbackground\":true,\"ticks\":\"\",\"zerolinecolor\":\"white\",\"gridwidth\":2}},\"shapedefaults\":{\"line\":{\"color\":\"#2a3f5f\"}},\"annotationdefaults\":{\"arrowcolor\":\"#2a3f5f\",\"arrowhead\":0,\"arrowwidth\":1},\"geo\":{\"bgcolor\":\"white\",\"landcolor\":\"#E5ECF6\",\"subunitcolor\":\"white\",\"showland\":true,\"showlakes\":true,\"lakecolor\":\"white\"},\"title\":{\"x\":0.05},\"mapbox\":{\"style\":\"light\"}}},\"xaxis\":{\"title\":{\"text\":\"n_layers_blocks\"},\"range\":[-0.3500000000000001,29.35]},\"yaxis\":{\"title\":{\"text\":\"n_layers_linear\"},\"range\":[0.55,10.45]}},                        {\"responsive\": true}                    ).then(function(){\n",
       "                            \n",
       "var gd = document.getElementById('31255e32-8ffd-46f6-8fa2-3c46dd1dfcf6');\n",
       "var x = new MutationObserver(function (mutations, observer) {{\n",
       "        var display = window.getComputedStyle(gd).display;\n",
       "        if (!display || display === 'none') {{\n",
       "            console.log([gd, 'removed!']);\n",
       "            Plotly.purge(gd);\n",
       "            observer.disconnect();\n",
       "        }}\n",
       "}});\n",
       "\n",
       "// Listen for the removal of the full notebook cells\n",
       "var notebookContainer = gd.closest('#notebook-container');\n",
       "if (notebookContainer) {{\n",
       "    x.observe(notebookContainer, {childList: true});\n",
       "}}\n",
       "\n",
       "// Listen for the clearing of the current output cell\n",
       "var outputEl = gd.closest('.output');\n",
       "if (outputEl) {{\n",
       "    x.observe(outputEl, {childList: true});\n",
       "}}\n",
       "\n",
       "                        })                };                });            </script>        </div>"
      ]
     },
     "metadata": {},
     "output_type": "display_data"
    }
   ],
   "source": [
    "fig = optuna.visualization.plot_contour(study, [\"n_layers_linear\", \"n_layers_blocks\"])\n",
    "fig.show()"
   ]
  },
  {
   "cell_type": "code",
   "execution_count": 18,
   "metadata": {},
   "outputs": [
    {
     "data": {
      "text/plain": [
       "dict_items([('activation_conv', 'ELU'), ('activation_lin', 'ELU'), ('batch_size', 112), ('conv_batchnorm_layer0', True), ('conv_batchnorm_layer1', False), ('conv_batchnorm_layer10', False), ('conv_batchnorm_layer11', False), ('conv_batchnorm_layer12', False), ('conv_batchnorm_layer13', True), ('conv_batchnorm_layer14', False), ('conv_batchnorm_layer2', False), ('conv_batchnorm_layer3', True), ('conv_batchnorm_layer4', True), ('conv_batchnorm_layer5', False), ('conv_batchnorm_layer6', False), ('conv_batchnorm_layer7', True), ('conv_batchnorm_layer8', False), ('conv_batchnorm_layer9', True), ('conv_size_layer0', 290), ('conv_size_layer1', 260), ('conv_size_layer10', 130), ('conv_size_layer11', 150), ('conv_size_layer12', 160), ('conv_size_layer13', 190), ('conv_size_layer14', 280), ('conv_size_layer2', 180), ('conv_size_layer3', 270), ('conv_size_layer4', 220), ('conv_size_layer5', 190), ('conv_size_layer6', 220), ('conv_size_layer7', 100), ('conv_size_layer8', 220), ('conv_size_layer9', 140), ('epochs', 6), ('kernel_size_layer0', 3), ('kernel_size_layer1', 11), ('kernel_size_layer10', 6), ('kernel_size_layer11', 12), ('kernel_size_layer12', 11), ('kernel_size_layer13', 10), ('kernel_size_layer14', 4), ('kernel_size_layer2', 9), ('kernel_size_layer3', 10), ('kernel_size_layer4', 5), ('kernel_size_layer5', 5), ('kernel_size_layer6', 1), ('kernel_size_layer7', 11), ('kernel_size_layer8', 3), ('kernel_size_layer9', 13), ('linear_batchnorm_layer0', True), ('linear_batchnorm_layer1', True), ('linear_batchnorm_layer2', False), ('linear_batchnorm_layer3', False), ('linear_batchnorm_layer4', True), ('linear_batchnorm_layer5', False), ('linear_batchnorm_layer6', False), ('linear_batchnorm_layer7', False), ('linear_size_layer0', 290), ('linear_size_layer1', 280), ('linear_size_layer2', 100), ('linear_size_layer3', 170), ('linear_size_layer4', 180), ('linear_size_layer5', 190), ('linear_size_layer6', 240), ('linear_size_layer7', 300), ('lr', 0.004879653946026251), ('lr_lambda', 0.8056540036254612), ('n_layers_blocks', 15), ('n_layers_linear', 8), ('optimizer', 'Adagrad'), ('pool', 'AvgPool1d')])"
      ]
     },
     "execution_count": 18,
     "metadata": {},
     "output_type": "execute_result"
    }
   ],
   "source": [
    "study.best_params.items()"
   ]
  }
 ],
 "metadata": {
  "kernelspec": {
   "display_name": "Python 3.9.12 ('base')",
   "language": "python",
   "name": "python3"
  },
  "language_info": {
   "codemirror_mode": {
    "name": "ipython",
    "version": 3
   },
   "file_extension": ".py",
   "mimetype": "text/x-python",
   "name": "python",
   "nbconvert_exporter": "python",
   "pygments_lexer": "ipython3",
   "version": "3.9.12"
  },
  "orig_nbformat": 4,
  "vscode": {
   "interpreter": {
    "hash": "7a2c4b191d1ae843dde5cb5f4d1f62fa892f6b79b0f9392a84691e890e33c5a4"
   }
  }
 },
 "nbformat": 4,
 "nbformat_minor": 2
}

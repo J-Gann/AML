{
 "cells": [
  {
   "cell_type": "code",
   "execution_count": 2,
   "metadata": {},
   "outputs": [],
   "source": [
    "import torch\n",
    "from torch import nn\n",
    "from torch.utils.data import DataLoader\n",
    "from torch.nn import functional as F\n",
    "import numpy as np\n",
    "import pandas as pd\n",
    "from torch.utils.data import Dataset\n",
    "import math\n",
    "pd.set_option('display.max_columns', None)\n",
    "pd.set_option('display.max_rows', None)\n",
    "import time"
   ]
  },
  {
   "cell_type": "code",
   "execution_count": 3,
   "metadata": {},
   "outputs": [],
   "source": [
    "device = torch.device(\"cuda:0\" if torch.cuda.is_available() else \"cpu\")"
   ]
  },
  {
   "cell_type": "code",
   "execution_count": 4,
   "metadata": {},
   "outputs": [],
   "source": [
    "class AmericanExpressProfileTimeSeriesDataset(Dataset):\n",
    "    def __init__(self, dataset_file, transformation=False):\n",
    "        self.dataset = pd.read_csv(dataset_file)\n",
    "        self.transformation = transformation\n",
    "\n",
    "    def __len__(self):\n",
    "        return len(self.dataset)\n",
    "\n",
    "    def __getitem__(self, idx):\n",
    "        row = self.dataset.iloc[[idx]]\n",
    "        label = row[\"target\"].values\n",
    "        data = row.drop(['customer_ID', 'target'], axis=1)\n",
    "        data = data.values[0].tolist()\n",
    "\n",
    "        for idx, value in enumerate(data):\n",
    "            if idx == 0: continue\n",
    "            list_ = value[1:-1].split(\", \")\n",
    "            for idx_l, elem in enumerate(list_):\n",
    "                list_[idx_l] = float(elem)\n",
    "            data[idx] = list_\n",
    "        data = data[1:]\n",
    "\n",
    "        data = np.array(data, dtype=np.float32)\n",
    "        data = torch.tensor(data, dtype=torch.float32, requires_grad=True)\n",
    "        label = torch.tensor(label, dtype=torch.float32)\n",
    "        label = label.to(device)\n",
    "        data = data.to(device)\n",
    "        if self.transformation: data = self.transformation(data)\n",
    "        return data, label"
   ]
  },
  {
   "cell_type": "code",
   "execution_count": 87,
   "metadata": {},
   "outputs": [],
   "source": [
    "class Block(nn.Module):\n",
    "\n",
    "    def __init__(self, in_channels, out_channels):\n",
    "        super(Block, self).__init__()\n",
    "\n",
    "        self.relu = nn.LeakyReLU()\n",
    "\n",
    "        self.conv1 = nn.Sequential(\n",
    "            nn.Conv1d(in_channels, out_channels, kernel_size=3, stride=1, padding=1,  padding_mode='zeros'),\n",
    "            nn.BatchNorm1d(out_channels),\n",
    "        )\n",
    "\n",
    "        self.conv2 = nn.Sequential(\n",
    "            nn.Conv1d(out_channels, out_channels, kernel_size=3, stride=1, padding=1,  padding_mode='zeros'),\n",
    "            nn.BatchNorm1d(out_channels),\n",
    "        )\n",
    "\n",
    "    def forward(self, x):\n",
    "        identity = x\n",
    "        x = self.conv1(x)\n",
    "        x = self.relu(x)\n",
    "        x = self.conv2(x)\n",
    "        x = x + identity\n",
    "        x = self.relu(x)\n",
    "        return x\n",
    "\n",
    "class ResNet(nn.Module):\n",
    "\n",
    "    def __init__(self):\n",
    "        super(ResNet, self).__init__()\n",
    "\n",
    "        self.relu = nn.ReLU()\n",
    "\n",
    "        self.block1 = Block(189, 189)\n",
    "\n",
    "        self.block2 = Block(189, 189)\n",
    "\n",
    "        self.block3 = Block(189, 189)\n",
    "\n",
    "        self.block4 = Block(189, 189)\n",
    "\n",
    "        self.block5 = Block(189, 189)\n",
    "\n",
    "        self.block6 = Block(189, 189)\n",
    "\n",
    "        self.block7 = Block(189, 189)\n",
    "\n",
    "\n",
    "        self.linear = nn.Sequential(\n",
    "            nn.Linear(189, 100),\n",
    "            nn.LeakyReLU(),\n",
    "            nn.Linear(100, 50),\n",
    "            nn.LeakyReLU(),\n",
    "            nn.Linear(50, 1),\n",
    "            nn.Sigmoid()\n",
    "        )\n",
    "\n",
    "    def forward(self, x):\n",
    "        x = self.block1(x)\n",
    "        x = self.block2(x)\n",
    "        x = self.block3(x)\n",
    "        x = self.block4(x)\n",
    "\n",
    "        avg = nn.AvgPool1d(13, stride=1)\n",
    "        x = avg(x)\n",
    "        x = x.view(x.shape[0], -1)\n",
    "        x = self.linear(x)\n",
    "        return x\n",
    "\n",
    "model = ResNet()\n",
    "model = model.to(device)"
   ]
  },
  {
   "cell_type": "code",
   "execution_count": 206,
   "metadata": {},
   "outputs": [],
   "source": [
    "class ConvolutionalNetwork(nn.Module):\n",
    "\n",
    "    def __init__(self, convolution_layers, linear_layers, activation, final_activation):\n",
    "        super(ConvolutionalNetwork, self).__init__()\n",
    "\n",
    "        self.conv = nn.Sequential(\n",
    "            nn.Conv1d(197, 256, 2, stride=1),\n",
    "            nn.ReLU(),\n",
    "            nn.Conv1d(256, 512, 2, stride=1),\n",
    "            nn.ReLU(),\n",
    "            nn.MaxPool1d(2, stride=1),\n",
    "            nn.Conv1d(512, 1024, 2, stride=1),\n",
    "            nn.ReLU(),\n",
    "            nn.Conv1d(1024, 1024, 2, stride=1),\n",
    "            nn.ReLU(),\n",
    "            nn.MaxPool1d(2, stride=1),\n",
    "            nn.Conv1d(1024, 1024, 2, stride=1),\n",
    "            nn.ReLU(),\n",
    "            nn.Conv1d(1024, 1024, 2, stride=1),\n",
    "            nn.ReLU(),\n",
    "            nn.MaxPool1d(5, stride=1),\n",
    "            nn.Flatten(),\n",
    "            nn.Linear(1024, 256),\n",
    "            nn.ReLU(),\n",
    "            nn.Linear(256, 32),\n",
    "            nn.ReLU(),\n",
    "            nn.Linear(32, 1),\n",
    "            nn.Sigmoid()\n",
    "        )\n",
    "\n",
    "    def forward(self, x):\n",
    "        x = self.conv(x)\n",
    "        return x\n",
    "\n",
    "#model = ConvolutionalNetwork()\n",
    "#model = model.to(device)"
   ]
  },
  {
   "cell_type": "code",
   "execution_count": 24,
   "metadata": {},
   "outputs": [],
   "source": [
    "class LSTM(nn.Module):\n",
    "    def __init__(self, input_size, hidden_size, num_layers):\n",
    "        super(LSTM, self).__init__()\n",
    "        self.num_layers = num_layers\n",
    "        self.hidden_size = hidden_size\n",
    "\n",
    "        self.lstm = nn.LSTM(input_size=input_size, hidden_size=hidden_size, num_layers=num_layers, batch_first=True)\n",
    "        \n",
    "        self.linear = nn.Sequential(\n",
    "            nn.Linear(20, 10),\n",
    "            nn.ReLU(),\n",
    "            nn.Linear(10, 5),\n",
    "            nn.ReLU(),\n",
    "            nn.Linear(5, 1),\n",
    "            nn.Sigmoid()\n",
    "        )\n",
    "    \n",
    "    def forward(self,x):\n",
    "        h_0 = torch.zeros(self.num_layers, x.size(0), self.hidden_size).to(device)\n",
    "        c_0 = torch.zeros(self.num_layers, x.size(0), self.hidden_size).to(device)\n",
    "        output, (hn, cn) = self.lstm(x, (h_0, c_0))\n",
    "        hidden = torch.cat((hn[-2,:,:], hn[-1,:,:]), dim = 1)     \n",
    "        out = self.linear(hidden)\n",
    "        return out\n",
    "\n",
    "model = LSTM(189, 10, 10)\n",
    "model = model.to(device)"
   ]
  },
  {
   "cell_type": "code",
   "execution_count": 6,
   "metadata": {},
   "outputs": [],
   "source": [
    "def test_loop(dataloader, model, loss_fn):\n",
    "    size = len(dataloader.dataset)\n",
    "    num_batches = len(dataloader)\n",
    "    test_loss, correct = 0, 0\n",
    "\n",
    "    with torch.no_grad():\n",
    "        for X, y in dataloader:\n",
    "            pred = model(X)\n",
    "            test_loss += loss_fn(pred, y).item()\n",
    "            pred = torch.round(pred)\n",
    "            correct += (pred == y).type(torch.float).sum().item()\n",
    "\n",
    "    test_loss /= num_batches\n",
    "    correct /= size\n",
    "    print(f\"Test Error: \\n Accuracy: {(100*correct):>0.1f}%, Avg loss: {test_loss:>8f} \\n\")\n",
    "    return test_loss"
   ]
  },
  {
   "cell_type": "code",
   "execution_count": 7,
   "metadata": {},
   "outputs": [],
   "source": [
    "def train_loop(dataloader, model, loss_fn, optimizer):\n",
    "    size = len(dataloader.dataset)\n",
    "    for batch, (X, y) in enumerate(dataloader):\n",
    "        # Compute prediction and loss\n",
    "        X = X.to(device)\n",
    "        y = y.to(device)\n",
    "        pred = model(X)\n",
    "        loss = loss_fn(pred, y)\n",
    "\n",
    "        # Backpropagation\n",
    "        optimizer.zero_grad()\n",
    "        loss.backward()\n",
    "        optimizer.step()\n",
    "\n",
    "        if batch % 100 == 0:\n",
    "            loss, current = loss.item(), batch * len(X)\n",
    "            print(f\"loss: {loss:>7f}  [{current:>5d}/{size:>5d}]\")"
   ]
  },
  {
   "cell_type": "code",
   "execution_count": 8,
   "metadata": {},
   "outputs": [],
   "source": [
    "models = {}"
   ]
  },
  {
   "cell_type": "code",
   "execution_count": 9,
   "metadata": {},
   "outputs": [],
   "source": [
    "epochs = 10\n",
    "learning_rate = 0.001\n",
    "batch_size = 16\n",
    "shuffle=True\n",
    "train_test_ration = 0.8"
   ]
  },
  {
   "cell_type": "code",
   "execution_count": 29,
   "metadata": {},
   "outputs": [],
   "source": [
    "full_dataset = AmericanExpressProfileTimeSeriesDataset(\"transformed_dataset.csv\")#, transformation=lambda data: data.T)\n",
    "\n",
    "train_size = int(train_test_ration * len(full_dataset))\n",
    "test_size = len(full_dataset) - train_size\n",
    "train_dataset, test_dataset = torch.utils.data.random_split(full_dataset, [train_size, test_size])\n",
    "\n",
    "train_dataloader = DataLoader(train_dataset, batch_size=batch_size, shuffle=shuffle)\n",
    "test_dataloader = DataLoader(test_dataset, batch_size=batch_size, shuffle=shuffle)"
   ]
  },
  {
   "cell_type": "code",
   "execution_count": 88,
   "metadata": {},
   "outputs": [
    {
     "name": "stdout",
     "output_type": "stream",
     "text": [
      "Epoch 1\n",
      "-------------------------------\n",
      "loss: 0.672205  [    0/367130]\n",
      "loss: 0.791440  [ 1600/367130]\n",
      "loss: 0.379075  [ 3200/367130]\n",
      "loss: 0.345529  [ 4800/367130]\n",
      "loss: 0.276147  [ 6400/367130]\n",
      "loss: 0.389461  [ 8000/367130]\n",
      "loss: 0.458248  [ 9600/367130]\n",
      "loss: 0.076126  [11200/367130]\n",
      "loss: 0.160398  [12800/367130]\n",
      "loss: 0.500907  [14400/367130]\n",
      "loss: 0.256985  [16000/367130]\n",
      "loss: 0.143625  [17600/367130]\n",
      "loss: 0.513790  [19200/367130]\n",
      "loss: 0.391611  [20800/367130]\n",
      "loss: 0.453627  [22400/367130]\n",
      "loss: 0.252253  [24000/367130]\n",
      "loss: 0.299439  [25600/367130]\n",
      "loss: 0.182512  [27200/367130]\n",
      "loss: 0.291900  [28800/367130]\n",
      "loss: 0.135493  [30400/367130]\n",
      "loss: 0.139523  [32000/367130]\n",
      "loss: 0.647722  [33600/367130]\n"
     ]
    }
   ],
   "source": [
    "loss_fn = nn.BCELoss()\n",
    "#loss_fn = nn.MSELoss()\n",
    "optimizer = torch.optim.AdamW(model.parameters(), lr=learning_rate)\n",
    "#optimizer = torch.optim.SGD(model.parameters(), lr=0.1, momentum=0.9)\n",
    "#scheduler = torch.optim.lr_scheduler.ReduceLROnPlateau(optimizer, 'min')\n",
    "\n",
    "for t in range(epochs):\n",
    "    print(f\"Epoch {t+1}\\n-------------------------------\")\n",
    "    train_loop(train_dataloader, model, loss_fn, optimizer)\n",
    "    models[t] = model\n",
    "    test_loss = test_loop(test_dataloader, model, loss_fn)\n",
    "    #scheduler.step(test_loss)\n",
    "print(\"Done!\")"
   ]
  },
  {
   "cell_type": "code",
   "execution_count": 130,
   "metadata": {},
   "outputs": [],
   "source": [
    "torch.save(models[1], \"./model\")\n",
    "#model = torch.load(\"./model\")\n",
    "#model.eval()"
   ]
  },
  {
   "cell_type": "code",
   "execution_count": null,
   "metadata": {},
   "outputs": [],
   "source": [
    "model_ = models[3]"
   ]
  },
  {
   "cell_type": "code",
   "execution_count": null,
   "metadata": {},
   "outputs": [],
   "source": [
    "class AmericanExpressProfileTimeSeriesValidationDataset(Dataset):\n",
    "    def __init__(self, dataset_file, transformation=False):\n",
    "        self.dataset = pd.read_csv(dataset_file, nrows=10)\n",
    "        self.transformation = transformation\n",
    "\n",
    "    def __len__(self):\n",
    "        return len(self.dataset)\n",
    "\n",
    "    def __getitem__(self, idx):\n",
    "\n",
    "        row = self.dataset.iloc[[idx]]\n",
    "        data = row.drop(['customer_ID'], axis=1)\n",
    "\n",
    "        data = data.values[0].tolist()\n",
    "\n",
    "        for idx, value in enumerate(data):\n",
    "            if idx == 0: continue\n",
    "            list_ = value[1:-1].split(\", \")\n",
    "            for idx_l, elem in enumerate(list_):\n",
    "                list_[idx_l] = float(elem)\n",
    "            data[idx] = list_\n",
    "        data = data[1:]\n",
    "        \n",
    "        \n",
    "        data = np.array(data, dtype=np.float32)\n",
    "        data = torch.tensor(data, dtype=torch.float32, requires_grad=True)\n",
    "        data = data.to(device)\n",
    "        if self.transformation: data = self.transformation(data)\n",
    "        return data"
   ]
  },
  {
   "cell_type": "code",
   "execution_count": null,
   "metadata": {},
   "outputs": [],
   "source": [
    "full_validation_dataset = AmericanExpressProfileTimeSeriesValidationDataset(\"transformed_test_dataset\", transformation=lambda data: data.T)\n",
    "\n",
    "validation_dataloader = DataLoader(full_validation_dataset, batch_size=batch_size)"
   ]
  },
  {
   "cell_type": "code",
   "execution_count": null,
   "metadata": {},
   "outputs": [],
   "source": [
    "full_validation_dataset[0].shape"
   ]
  },
  {
   "cell_type": "code",
   "execution_count": null,
   "metadata": {},
   "outputs": [],
   "source": [
    "def validation_loop(dataloader, model, out_file):\n",
    "\n",
    "    with torch.no_grad():\n",
    "        data_file = open(f\"{out_file}.csv\", \"w\")\n",
    "        data_file.write(\"customer_ID,prediction\\n\")\n",
    "        for X, customer_ID in dataloader:\n",
    "            pred = model(X)\n",
    "            pred = pred.tolist()\n",
    "            for idx in range(len(customer_ID)):\n",
    "                data_file.write(customer_ID[idx] + \",\" + str(pred[idx])+\"\\n\")\n",
    "        data_file.close()"
   ]
  },
  {
   "cell_type": "code",
   "execution_count": null,
   "metadata": {},
   "outputs": [],
   "source": [
    "validation_loop(validation_dataloader, model, \"./test_data/test_labels\")"
   ]
  }
 ],
 "metadata": {
  "kernelspec": {
   "display_name": "Python 3.9.12 ('base')",
   "language": "python",
   "name": "python3"
  },
  "language_info": {
   "codemirror_mode": {
    "name": "ipython",
    "version": 3
   },
   "file_extension": ".py",
   "mimetype": "text/x-python",
   "name": "python",
   "nbconvert_exporter": "python",
   "pygments_lexer": "ipython3",
   "version": "3.9.12"
  },
  "orig_nbformat": 4,
  "vscode": {
   "interpreter": {
    "hash": "7a2c4b191d1ae843dde5cb5f4d1f62fa892f6b79b0f9392a84691e890e33c5a4"
   }
  }
 },
 "nbformat": 4,
 "nbformat_minor": 2
}

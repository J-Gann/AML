{
 "cells": [
  {
   "cell_type": "code",
   "execution_count": 1,
   "id": "0a7ba38d-56c4-4eef-8548-6b4e474ce55d",
   "metadata": {},
   "outputs": [],
   "source": [
    "import numpy as np\n",
    "import pandas as pd"
   ]
  },
  {
   "cell_type": "code",
   "execution_count": 2,
   "id": "e8b1f4ca-73f1-4c1f-a351-1cf7249f4a82",
   "metadata": {},
   "outputs": [],
   "source": [
    "a = pd.read_csv('test_data.csv')"
   ]
  },
  {
   "cell_type": "code",
   "execution_count": 3,
   "id": "775c8da4-6f77-4a9e-bb2d-c30e5c1d6896",
   "metadata": {},
   "outputs": [],
   "source": [
    "with open('a.npy','rb') as fd:\n",
    "    x = np.load(fd)"
   ]
  },
  {
   "cell_type": "code",
   "execution_count": 6,
   "id": "941e9f53-d7a5-4b71-992d-c63df9bed480",
   "metadata": {},
   "outputs": [
    {
     "data": {
      "text/plain": [
       "(11363762, 190)"
      ]
     },
     "execution_count": 6,
     "metadata": {},
     "output_type": "execute_result"
    }
   ],
   "source": [
    "a.shape"
   ]
  },
  {
   "cell_type": "code",
   "execution_count": 7,
   "id": "44f1fe19-1c73-41c8-a600-223321a6c246",
   "metadata": {},
   "outputs": [
    {
     "data": {
      "text/plain": [
       "(924621,)"
      ]
     },
     "execution_count": 7,
     "metadata": {},
     "output_type": "execute_result"
    }
   ],
   "source": [
    "x.shape"
   ]
  },
  {
   "cell_type": "code",
   "execution_count": 9,
   "id": "b63a687b-8b22-4f16-8645-ef4b249ed55a",
   "metadata": {},
   "outputs": [],
   "source": [
    "aa=a.groupby('customer_ID').mean()"
   ]
  },
  {
   "cell_type": "code",
   "execution_count": 10,
   "id": "30a737b7-fd5e-435e-b7e5-5d16c83571fd",
   "metadata": {},
   "outputs": [],
   "source": [
    "aaa=aa.assign(prediction=x)"
   ]
  },
  {
   "cell_type": "code",
   "execution_count": 19,
   "id": "36309a00-c81e-4125-93d6-09f86bd0247b",
   "metadata": {},
   "outputs": [],
   "source": [
    "xx=aaa[['prediction']]"
   ]
  },
  {
   "cell_type": "code",
   "execution_count": 20,
   "id": "95ec879a-bf88-4ec4-9440-c442b08bb675",
   "metadata": {},
   "outputs": [],
   "source": [
    "xx.to_csv('preds_tabnet.csv')"
   ]
  },
  {
   "cell_type": "code",
   "execution_count": 18,
   "id": "b7bd7c77-d247-43fc-a8e0-5a43ebf88cc9",
   "metadata": {},
   "outputs": [
    {
     "data": {
      "text/html": [
       "<div>\n",
       "<style scoped>\n",
       "    .dataframe tbody tr th:only-of-type {\n",
       "        vertical-align: middle;\n",
       "    }\n",
       "\n",
       "    .dataframe tbody tr th {\n",
       "        vertical-align: top;\n",
       "    }\n",
       "\n",
       "    .dataframe thead th {\n",
       "        text-align: right;\n",
       "    }\n",
       "</style>\n",
       "<table border=\"1\" class=\"dataframe\">\n",
       "  <thead>\n",
       "    <tr style=\"text-align: right;\">\n",
       "      <th></th>\n",
       "      <th>customer_ID</th>\n",
       "      <th>prediction</th>\n",
       "    </tr>\n",
       "  </thead>\n",
       "  <tbody>\n",
       "    <tr>\n",
       "      <th>0</th>\n",
       "      <td>00000469ba478561f23a92a868bd366de6f6527a684c9a...</td>\n",
       "      <td>0.036678</td>\n",
       "    </tr>\n",
       "    <tr>\n",
       "      <th>1</th>\n",
       "      <td>00001bf2e77ff879fab36aa4fac689b9ba411dae63ae39...</td>\n",
       "      <td>0.000301</td>\n",
       "    </tr>\n",
       "    <tr>\n",
       "      <th>2</th>\n",
       "      <td>0000210045da4f81e5f122c6bde5c2a617d03eef67f82c...</td>\n",
       "      <td>0.031215</td>\n",
       "    </tr>\n",
       "    <tr>\n",
       "      <th>3</th>\n",
       "      <td>00003b41e58ede33b8daf61ab56d9952f17c9ad1c3976c...</td>\n",
       "      <td>0.362098</td>\n",
       "    </tr>\n",
       "    <tr>\n",
       "      <th>4</th>\n",
       "      <td>00004b22eaeeeb0ec976890c1d9bfc14fd9427e98c4ee9...</td>\n",
       "      <td>0.898169</td>\n",
       "    </tr>\n",
       "    <tr>\n",
       "      <th>...</th>\n",
       "      <td>...</td>\n",
       "      <td>...</td>\n",
       "    </tr>\n",
       "    <tr>\n",
       "      <th>924616</th>\n",
       "      <td>ffff952c631f2c911b8a2a8ca56ea6e656309a83d2f64c...</td>\n",
       "      <td>0.011161</td>\n",
       "    </tr>\n",
       "    <tr>\n",
       "      <th>924617</th>\n",
       "      <td>ffffcf5df59e5e0bba2a5ac4578a34e2b5aa64a1546cd3...</td>\n",
       "      <td>0.783986</td>\n",
       "    </tr>\n",
       "    <tr>\n",
       "      <th>924618</th>\n",
       "      <td>ffffd61f098cc056dbd7d2a21380c4804bbfe60856f475...</td>\n",
       "      <td>0.597847</td>\n",
       "    </tr>\n",
       "    <tr>\n",
       "      <th>924619</th>\n",
       "      <td>ffffddef1fc3643ea179c93245b68dca0f36941cd83977...</td>\n",
       "      <td>0.238700</td>\n",
       "    </tr>\n",
       "    <tr>\n",
       "      <th>924620</th>\n",
       "      <td>fffffa7cf7e453e1acc6a1426475d5cb9400859f82ff61...</td>\n",
       "      <td>0.329529</td>\n",
       "    </tr>\n",
       "  </tbody>\n",
       "</table>\n",
       "<p>924621 rows × 2 columns</p>\n",
       "</div>"
      ],
      "text/plain": [
       "                                              customer_ID  prediction\n",
       "0       00000469ba478561f23a92a868bd366de6f6527a684c9a...    0.036678\n",
       "1       00001bf2e77ff879fab36aa4fac689b9ba411dae63ae39...    0.000301\n",
       "2       0000210045da4f81e5f122c6bde5c2a617d03eef67f82c...    0.031215\n",
       "3       00003b41e58ede33b8daf61ab56d9952f17c9ad1c3976c...    0.362098\n",
       "4       00004b22eaeeeb0ec976890c1d9bfc14fd9427e98c4ee9...    0.898169\n",
       "...                                                   ...         ...\n",
       "924616  ffff952c631f2c911b8a2a8ca56ea6e656309a83d2f64c...    0.011161\n",
       "924617  ffffcf5df59e5e0bba2a5ac4578a34e2b5aa64a1546cd3...    0.783986\n",
       "924618  ffffd61f098cc056dbd7d2a21380c4804bbfe60856f475...    0.597847\n",
       "924619  ffffddef1fc3643ea179c93245b68dca0f36941cd83977...    0.238700\n",
       "924620  fffffa7cf7e453e1acc6a1426475d5cb9400859f82ff61...    0.329529\n",
       "\n",
       "[924621 rows x 2 columns]"
      ]
     },
     "execution_count": 18,
     "metadata": {},
     "output_type": "execute_result"
    }
   ],
   "source": [
    "xx"
   ]
  },
  {
   "cell_type": "code",
   "execution_count": null,
   "id": "4b0c0526-454b-4b39-9a07-75ddacfb3069",
   "metadata": {},
   "outputs": [],
   "source": []
  }
 ],
 "metadata": {
  "kernelspec": {
   "display_name": "Python 3 (ipykernel)",
   "language": "python",
   "name": "python3"
  },
  "language_info": {
   "codemirror_mode": {
    "name": "ipython",
    "version": 3
   },
   "file_extension": ".py",
   "mimetype": "text/x-python",
   "name": "python",
   "nbconvert_exporter": "python",
   "pygments_lexer": "ipython3",
   "version": "3.8.10"
  }
 },
 "nbformat": 4,
 "nbformat_minor": 5
}

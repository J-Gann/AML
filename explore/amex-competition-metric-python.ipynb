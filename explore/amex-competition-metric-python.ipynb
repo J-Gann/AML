{
 "cells": [
  {
   "cell_type": "code",
   "execution_count": 1,
   "id": "0e85b951",
   "metadata": {
    "_cell_guid": "b1076dfc-b9ad-4769-8c92-a6c4dae69d19",
    "_uuid": "8f2839f25d086af736a60e9eeb907d3b93b6e0e5",
    "papermill": {
     "duration": 0.023964,
     "end_time": "2022-04-11T19:01:32.592194",
     "exception": false,
     "start_time": "2022-04-11T19:01:32.568230",
     "status": "completed"
    },
    "tags": []
   },
   "outputs": [],
   "source": [
    "import numpy as np\n",
    "import pandas as pd\n",
    "from pathlib import Path\n",
    "\n",
    "input_path = Path('.')"
   ]
  },
  {
   "cell_type": "markdown",
   "id": "6c7ad83a",
   "metadata": {
    "papermill": {
     "duration": 0.007817,
     "end_time": "2022-04-11T19:01:32.609942",
     "exception": false,
     "start_time": "2022-04-11T19:01:32.602125",
     "status": "completed"
    },
    "tags": []
   },
   "source": [
    "## Amex Metric\n",
    "\n",
    "This is a python version of the metric for the Amex competition. Additional details can be found on the competition [Evaluation page](https://www.kaggle.com/competitions/amex-default-prediction/overview/evaluation)."
   ]
  },
  {
   "cell_type": "code",
   "execution_count": 51,
   "id": "791bc3c2-df42-4f02-b5a5-9812e4ca468e",
   "metadata": {},
   "outputs": [],
   "source": [
    "def top_four_percent_captured(y_true: pd.DataFrame, y_pred: pd.DataFrame) -> float:\n",
    "    df = (pd.concat([y_true, y_pred], axis='columns')\n",
    "          .sort_values('prediction', ascending=False))\n",
    "    df['weight'] = df['target'].apply(lambda x: 20 if x==0 else 1)\n",
    "    four_pct_cutoff = int(0.04 * df['weight'].sum())\n",
    "    df['weight_cumsum'] = df['weight'].cumsum()\n",
    "    df_cutoff = df.loc[df['weight_cumsum'] <= four_pct_cutoff]\n",
    "    return (df_cutoff['target'] == 1).sum() / (df['target'] == 1).sum()\n",
    "\n",
    "def weighted_gini(y_true: pd.DataFrame, y_pred: pd.DataFrame) -> float:\n",
    "    df = (pd.concat([y_true, y_pred], axis='columns')\n",
    "          .sort_values('prediction', ascending=False))\n",
    "    df['weight'] = df['target'].apply(lambda x: 20 if x==0 else 1)\n",
    "    df['random'] = (df['weight'] / df['weight'].sum()).cumsum()\n",
    "    total_pos = (df['target'] * df['weight']).sum()\n",
    "    df['cum_pos_found'] = (df['target'] * df['weight']).cumsum()\n",
    "    df['lorentz'] = df['cum_pos_found'] / total_pos\n",
    "    df['gini'] = (df['lorentz'] - df['random']) * df['weight']\n",
    "    return df['gini'].sum()"
   ]
  },
  {
   "cell_type": "code",
   "execution_count": 52,
   "id": "b3efc75c",
   "metadata": {
    "papermill": {
     "duration": 0.025682,
     "end_time": "2022-04-11T19:01:32.643580",
     "exception": false,
     "start_time": "2022-04-11T19:01:32.617898",
     "status": "completed"
    },
    "tags": []
   },
   "outputs": [],
   "source": [
    "def amex_metric(y_true: pd.DataFrame, y_pred: pd.DataFrame) -> float:\n",
    "\n",
    "\n",
    "\n",
    "    def normalized_weighted_gini(y_true: pd.DataFrame, y_pred: pd.DataFrame) -> float:\n",
    "        y_true_pred = y_true.rename(columns={'target': 'prediction'})\n",
    "        return weighted_gini(y_true, y_pred) / weighted_gini(y_true, y_true_pred)\n",
    "\n",
    "    g = normalized_weighted_gini(y_true, y_pred)\n",
    "    d = top_four_percent_captured(y_true, y_pred)\n",
    "\n",
    "    return 0.5 * (g + d)"
   ]
  },
  {
   "cell_type": "markdown",
   "id": "4613e423",
   "metadata": {
    "papermill": {
     "duration": 0.008419,
     "end_time": "2022-04-11T19:01:32.659958",
     "exception": false,
     "start_time": "2022-04-11T19:01:32.651539",
     "status": "completed"
    },
    "tags": []
   },
   "source": [
    "## Simple Benchmark\n",
    "\n",
    "We can create a simple benchark using the average of the feature `P_2` for each customer."
   ]
  },
  {
   "cell_type": "code",
   "execution_count": 3,
   "id": "8d5ff0cc",
   "metadata": {
    "papermill": {
     "duration": 223.850953,
     "end_time": "2022-04-11T19:05:16.519552",
     "exception": false,
     "start_time": "2022-04-11T19:01:32.668599",
     "status": "completed"
    },
    "tags": []
   },
   "outputs": [],
   "source": [
    "train_data = pd.read_csv(\n",
    "    input_path / 'train_data.csv',\n",
    "    index_col='customer_ID',\n",
    "    usecols=['customer_ID', 'P_2'])\n",
    "\n",
    "train_labels = pd.read_csv(input_path / 'train_labels.csv', index_col='customer_ID')"
   ]
  },
  {
   "cell_type": "code",
   "execution_count": 4,
   "id": "5bbee1f2",
   "metadata": {
    "papermill": {
     "duration": 1.582598,
     "end_time": "2022-04-11T19:05:18.111166",
     "exception": false,
     "start_time": "2022-04-11T19:05:16.528568",
     "status": "completed"
    },
    "tags": []
   },
   "outputs": [],
   "source": [
    "ave_p2 = (train_data\n",
    "          .groupby('customer_ID')\n",
    "          .mean()\n",
    "          .rename(columns={'P_2': 'prediction'}))\n",
    "\n",
    "# Scale the mean P_2 by the max value and take the compliment\n",
    "ave_p2['prediction'] = 1.0 - (ave_p2['prediction'] / ave_p2['prediction'].max())"
   ]
  },
  {
   "cell_type": "code",
   "execution_count": 5,
   "id": "1108a4ab",
   "metadata": {
    "papermill": {
     "duration": 1.581059,
     "end_time": "2022-04-11T19:05:19.700059",
     "exception": false,
     "start_time": "2022-04-11T19:05:18.119000",
     "status": "completed"
    },
    "tags": []
   },
   "outputs": [
    {
     "name": "stdout",
     "output_type": "stream",
     "text": [
      "0.5729004331080327\n"
     ]
    }
   ],
   "source": [
    "print(amex_metric(train_labels, ave_p2)) # 0.572773"
   ]
  },
  {
   "cell_type": "code",
   "execution_count": 10,
   "id": "7c893011-5082-48a0-af06-7ba309e78907",
   "metadata": {},
   "outputs": [],
   "source": [
    "pred = train_data.groupby('customer_ID').last().rename(columns={'P_2':'prediction'})"
   ]
  },
  {
   "cell_type": "code",
   "execution_count": 17,
   "id": "b6c33ed5-4b72-4958-bb45-6286df5825f9",
   "metadata": {},
   "outputs": [],
   "source": [
    "pred = 1-pred.clip(lower=0,upper=1)"
   ]
  },
  {
   "cell_type": "code",
   "execution_count": 18,
   "id": "7927a4ae-10a8-4e33-905f-ff53a8dae436",
   "metadata": {},
   "outputs": [
    {
     "data": {
      "text/plain": [
       "0.6355828140517417"
      ]
     },
     "execution_count": 18,
     "metadata": {},
     "output_type": "execute_result"
    }
   ],
   "source": [
    "amex_metric(train_labels,pred)"
   ]
  },
  {
   "cell_type": "code",
   "execution_count": 49,
   "id": "636208f5-be6e-4501-9aec-b8113dcd5797",
   "metadata": {},
   "outputs": [],
   "source": [
    "pred = train_data.groupby('customer_ID').tail(1).groupby('customer_ID').mean()\n",
    "pred = pred.rename(columns={'P_2':'prediction'})\n",
    "pred = 1-pred.clip(lower=0,upper=1)"
   ]
  },
  {
   "cell_type": "code",
   "execution_count": 72,
   "id": "8fcb6439-0612-46ad-81ef-1f206f84a2a5",
   "metadata": {},
   "outputs": [],
   "source": [
    "pred.prediction = pred.prediction.apply(lambda x: 0.99)"
   ]
  },
  {
   "cell_type": "code",
   "execution_count": 73,
   "id": "9c1441fb-8ce0-42e7-83d5-bd77e5b3b134",
   "metadata": {},
   "outputs": [
    {
     "data": {
      "text/html": [
       "<div>\n",
       "<style scoped>\n",
       "    .dataframe tbody tr th:only-of-type {\n",
       "        vertical-align: middle;\n",
       "    }\n",
       "\n",
       "    .dataframe tbody tr th {\n",
       "        vertical-align: top;\n",
       "    }\n",
       "\n",
       "    .dataframe thead th {\n",
       "        text-align: right;\n",
       "    }\n",
       "</style>\n",
       "<table border=\"1\" class=\"dataframe\">\n",
       "  <thead>\n",
       "    <tr style=\"text-align: right;\">\n",
       "      <th></th>\n",
       "      <th>prediction</th>\n",
       "    </tr>\n",
       "    <tr>\n",
       "      <th>customer_ID</th>\n",
       "      <th></th>\n",
       "    </tr>\n",
       "  </thead>\n",
       "  <tbody>\n",
       "    <tr>\n",
       "      <th>0000099d6bd597052cdcda90ffabf56573fe9d7c79be5fbac11a8ed792feb62a</th>\n",
       "      <td>0.99</td>\n",
       "    </tr>\n",
       "    <tr>\n",
       "      <th>00000fd6641609c6ece5454664794f0340ad84dddce9a267a310b5ae68e9d8e5</th>\n",
       "      <td>0.99</td>\n",
       "    </tr>\n",
       "    <tr>\n",
       "      <th>00001b22f846c82c51f6e3958ccd81970162bae8b007e80662ef27519fcc18c1</th>\n",
       "      <td>0.99</td>\n",
       "    </tr>\n",
       "    <tr>\n",
       "      <th>000041bdba6ecadd89a52d11886e8eaaec9325906c9723355abb5ca523658edc</th>\n",
       "      <td>0.99</td>\n",
       "    </tr>\n",
       "    <tr>\n",
       "      <th>00007889e4fcd2614b6cbe7f8f3d2e5c728eca32d9eb8ad51ca8b8c4a24cefed</th>\n",
       "      <td>0.99</td>\n",
       "    </tr>\n",
       "    <tr>\n",
       "      <th>...</th>\n",
       "      <td>...</td>\n",
       "    </tr>\n",
       "    <tr>\n",
       "      <th>ffff41c8a52833b56430603969b9ca48d208e7c192c6a4081a6acc28cf4f8af7</th>\n",
       "      <td>0.99</td>\n",
       "    </tr>\n",
       "    <tr>\n",
       "      <th>ffff518bb2075e4816ee3fe9f3b152c57fc0e6f01bf7fdd3e5b57cfcbee30286</th>\n",
       "      <td>0.99</td>\n",
       "    </tr>\n",
       "    <tr>\n",
       "      <th>ffff9984b999fccb2b6127635ed0736dda94e544e67e026eee4d20f680639ff6</th>\n",
       "      <td>0.99</td>\n",
       "    </tr>\n",
       "    <tr>\n",
       "      <th>ffffa5c46bc8de74f5a4554e74e239c8dee6b9baf388145b2c3d01967fcce461</th>\n",
       "      <td>0.99</td>\n",
       "    </tr>\n",
       "    <tr>\n",
       "      <th>fffff1d38b785cef84adeace64f8f83db3a0c31e8d92eaba8b115f71cab04681</th>\n",
       "      <td>0.99</td>\n",
       "    </tr>\n",
       "  </tbody>\n",
       "</table>\n",
       "<p>458913 rows × 1 columns</p>\n",
       "</div>"
      ],
      "text/plain": [
       "                                                    prediction\n",
       "customer_ID                                                   \n",
       "0000099d6bd597052cdcda90ffabf56573fe9d7c79be5fb...        0.99\n",
       "00000fd6641609c6ece5454664794f0340ad84dddce9a26...        0.99\n",
       "00001b22f846c82c51f6e3958ccd81970162bae8b007e80...        0.99\n",
       "000041bdba6ecadd89a52d11886e8eaaec9325906c97233...        0.99\n",
       "00007889e4fcd2614b6cbe7f8f3d2e5c728eca32d9eb8ad...        0.99\n",
       "...                                                        ...\n",
       "ffff41c8a52833b56430603969b9ca48d208e7c192c6a40...        0.99\n",
       "ffff518bb2075e4816ee3fe9f3b152c57fc0e6f01bf7fdd...        0.99\n",
       "ffff9984b999fccb2b6127635ed0736dda94e544e67e026...        0.99\n",
       "ffffa5c46bc8de74f5a4554e74e239c8dee6b9baf388145...        0.99\n",
       "fffff1d38b785cef84adeace64f8f83db3a0c31e8d92eab...        0.99\n",
       "\n",
       "[458913 rows x 1 columns]"
      ]
     },
     "execution_count": 73,
     "metadata": {},
     "output_type": "execute_result"
    }
   ],
   "source": [
    "pred"
   ]
  },
  {
   "cell_type": "code",
   "execution_count": 74,
   "id": "c7e53453-9d25-412c-b31b-435fcbe54f99",
   "metadata": {},
   "outputs": [
    {
     "data": {
      "text/plain": [
       "0.03958662941394284"
      ]
     },
     "execution_count": 74,
     "metadata": {},
     "output_type": "execute_result"
    }
   ],
   "source": [
    "top_four_percent_captured(train_labels,pred)"
   ]
  },
  {
   "cell_type": "code",
   "execution_count": 75,
   "id": "b68c34d7-36d8-462d-a063-555d3d6e7fe0",
   "metadata": {},
   "outputs": [],
   "source": [
    "y_true = train_labels\n",
    "y_pred = pred\n",
    "df = (pd.concat([y_true, y_pred], axis='columns')\n",
    "      .sort_values('prediction', ascending=False))\n",
    "df['weight'] = df['target'].apply(lambda x: 20 if x==0 else 1)\n",
    "four_pct_cutoff = int(0.04 * df['weight'].sum())\n",
    "df['weight_cumsum'] = df['weight'].cumsum()\n",
    "df_cutoff = df.loc[df['weight_cumsum'] <= four_pct_cutoff]\n",
    "df_cutoff_final = (df_cutoff['target'] == 1).sum() / (df['target'] == 1).sum()"
   ]
  },
  {
   "cell_type": "code",
   "execution_count": 76,
   "id": "2b93d1cf-4ba9-497f-a734-c91dfafa60ed",
   "metadata": {},
   "outputs": [
    {
     "data": {
      "text/plain": [
       "0.03958662941394284"
      ]
     },
     "execution_count": 76,
     "metadata": {},
     "output_type": "execute_result"
    }
   ],
   "source": [
    "df_cutoff_final"
   ]
  },
  {
   "cell_type": "code",
   "execution_count": 77,
   "id": "4b84aba5-7423-4d76-8691-315b7c33a964",
   "metadata": {},
   "outputs": [
    {
     "data": {
      "text/html": [
       "<div>\n",
       "<style scoped>\n",
       "    .dataframe tbody tr th:only-of-type {\n",
       "        vertical-align: middle;\n",
       "    }\n",
       "\n",
       "    .dataframe tbody tr th {\n",
       "        vertical-align: top;\n",
       "    }\n",
       "\n",
       "    .dataframe thead th {\n",
       "        text-align: right;\n",
       "    }\n",
       "</style>\n",
       "<table border=\"1\" class=\"dataframe\">\n",
       "  <thead>\n",
       "    <tr style=\"text-align: right;\">\n",
       "      <th></th>\n",
       "      <th>target</th>\n",
       "      <th>prediction</th>\n",
       "      <th>weight</th>\n",
       "      <th>weight_cumsum</th>\n",
       "    </tr>\n",
       "    <tr>\n",
       "      <th>customer_ID</th>\n",
       "      <th></th>\n",
       "      <th></th>\n",
       "      <th></th>\n",
       "      <th></th>\n",
       "    </tr>\n",
       "  </thead>\n",
       "  <tbody>\n",
       "    <tr>\n",
       "      <th>0000099d6bd597052cdcda90ffabf56573fe9d7c79be5fbac11a8ed792feb62a</th>\n",
       "      <td>0</td>\n",
       "      <td>0.99</td>\n",
       "      <td>20</td>\n",
       "      <td>20</td>\n",
       "    </tr>\n",
       "    <tr>\n",
       "      <th>aab6cd60f43333ffbf74b6500af488da9966c9c5d7bb503c90db0ae695f907c4</th>\n",
       "      <td>0</td>\n",
       "      <td>0.99</td>\n",
       "      <td>20</td>\n",
       "      <td>40</td>\n",
       "    </tr>\n",
       "    <tr>\n",
       "      <th>aa5f0a0add6369c75c051f901120fbf459925ba2b4a8136b0c05edd48be2f0c5</th>\n",
       "      <td>1</td>\n",
       "      <td>0.99</td>\n",
       "      <td>1</td>\n",
       "      <td>41</td>\n",
       "    </tr>\n",
       "    <tr>\n",
       "      <th>aa5ee4d6e08edd3785feb1d22a2b743b360048733afe160963d1ea79e28ac0d3</th>\n",
       "      <td>0</td>\n",
       "      <td>0.99</td>\n",
       "      <td>20</td>\n",
       "      <td>61</td>\n",
       "    </tr>\n",
       "    <tr>\n",
       "      <th>aa5ee11132972c48030b6d70bb5581030881c6a719eed89a7d6c2fae7c00b0d5</th>\n",
       "      <td>1</td>\n",
       "      <td>0.99</td>\n",
       "      <td>1</td>\n",
       "      <td>62</td>\n",
       "    </tr>\n",
       "    <tr>\n",
       "      <th>...</th>\n",
       "      <td>...</td>\n",
       "      <td>...</td>\n",
       "      <td>...</td>\n",
       "      <td>...</td>\n",
       "    </tr>\n",
       "    <tr>\n",
       "      <th>a0570b601e3605438919ac2a88008f6f2380f3ac3c4129a42497c1213e54a5b5</th>\n",
       "      <td>1</td>\n",
       "      <td>0.99</td>\n",
       "      <td>1</td>\n",
       "      <td>276762</td>\n",
       "    </tr>\n",
       "    <tr>\n",
       "      <th>a056efaf66b61c203260d648b8e889736265557cb45c1194de6865b0556b9879</th>\n",
       "      <td>1</td>\n",
       "      <td>0.99</td>\n",
       "      <td>1</td>\n",
       "      <td>276763</td>\n",
       "    </tr>\n",
       "    <tr>\n",
       "      <th>a056ae85f49c97ec6d67274a8b3a3c5978f1711ea6722ed8c686458b224b1d78</th>\n",
       "      <td>1</td>\n",
       "      <td>0.99</td>\n",
       "      <td>1</td>\n",
       "      <td>276764</td>\n",
       "    </tr>\n",
       "    <tr>\n",
       "      <th>a0542f171f09c67feef1f0cb8a69f1323b5effe26f2d232e2282dd7f390ebd6d</th>\n",
       "      <td>0</td>\n",
       "      <td>0.99</td>\n",
       "      <td>20</td>\n",
       "      <td>276784</td>\n",
       "    </tr>\n",
       "    <tr>\n",
       "      <th>a0568f4ebdeb840ae21c33aa480c6d81e2810cb48bed22bb0c309756d61963af</th>\n",
       "      <td>0</td>\n",
       "      <td>0.99</td>\n",
       "      <td>20</td>\n",
       "      <td>276804</td>\n",
       "    </tr>\n",
       "  </tbody>\n",
       "</table>\n",
       "<p>18309 rows × 4 columns</p>\n",
       "</div>"
      ],
      "text/plain": [
       "                                                    target  prediction  \\\n",
       "customer_ID                                                              \n",
       "0000099d6bd597052cdcda90ffabf56573fe9d7c79be5fb...       0        0.99   \n",
       "aab6cd60f43333ffbf74b6500af488da9966c9c5d7bb503...       0        0.99   \n",
       "aa5f0a0add6369c75c051f901120fbf459925ba2b4a8136...       1        0.99   \n",
       "aa5ee4d6e08edd3785feb1d22a2b743b360048733afe160...       0        0.99   \n",
       "aa5ee11132972c48030b6d70bb5581030881c6a719eed89...       1        0.99   \n",
       "...                                                    ...         ...   \n",
       "a0570b601e3605438919ac2a88008f6f2380f3ac3c4129a...       1        0.99   \n",
       "a056efaf66b61c203260d648b8e889736265557cb45c119...       1        0.99   \n",
       "a056ae85f49c97ec6d67274a8b3a3c5978f1711ea6722ed...       1        0.99   \n",
       "a0542f171f09c67feef1f0cb8a69f1323b5effe26f2d232...       0        0.99   \n",
       "a0568f4ebdeb840ae21c33aa480c6d81e2810cb48bed22b...       0        0.99   \n",
       "\n",
       "                                                    weight  weight_cumsum  \n",
       "customer_ID                                                                \n",
       "0000099d6bd597052cdcda90ffabf56573fe9d7c79be5fb...      20             20  \n",
       "aab6cd60f43333ffbf74b6500af488da9966c9c5d7bb503...      20             40  \n",
       "aa5f0a0add6369c75c051f901120fbf459925ba2b4a8136...       1             41  \n",
       "aa5ee4d6e08edd3785feb1d22a2b743b360048733afe160...      20             61  \n",
       "aa5ee11132972c48030b6d70bb5581030881c6a719eed89...       1             62  \n",
       "...                                                    ...            ...  \n",
       "a0570b601e3605438919ac2a88008f6f2380f3ac3c4129a...       1         276762  \n",
       "a056efaf66b61c203260d648b8e889736265557cb45c119...       1         276763  \n",
       "a056ae85f49c97ec6d67274a8b3a3c5978f1711ea6722ed...       1         276764  \n",
       "a0542f171f09c67feef1f0cb8a69f1323b5effe26f2d232...      20         276784  \n",
       "a0568f4ebdeb840ae21c33aa480c6d81e2810cb48bed22b...      20         276804  \n",
       "\n",
       "[18309 rows x 4 columns]"
      ]
     },
     "execution_count": 77,
     "metadata": {},
     "output_type": "execute_result"
    }
   ],
   "source": [
    "df_cutoff"
   ]
  },
  {
   "cell_type": "code",
   "execution_count": null,
   "id": "94a8fc01-1fb7-4cd1-8920-613bdbbca54f",
   "metadata": {},
   "outputs": [],
   "source": []
  }
 ],
 "metadata": {
  "kernelspec": {
   "display_name": "Python 3 (ipykernel)",
   "language": "python",
   "name": "python3"
  },
  "language_info": {
   "codemirror_mode": {
    "name": "ipython",
    "version": 3
   },
   "file_extension": ".py",
   "mimetype": "text/x-python",
   "name": "python",
   "nbconvert_exporter": "python",
   "pygments_lexer": "ipython3",
   "version": "3.8.10"
  },
  "papermill": {
   "default_parameters": {},
   "duration": 238.136576,
   "end_time": "2022-04-11T19:05:20.420918",
   "environment_variables": {},
   "exception": null,
   "input_path": "__notebook__.ipynb",
   "output_path": "__notebook__.ipynb",
   "parameters": {},
   "start_time": "2022-04-11T19:01:22.284342",
   "version": "2.3.3"
  }
 },
 "nbformat": 4,
 "nbformat_minor": 5
}
